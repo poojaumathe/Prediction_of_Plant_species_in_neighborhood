{
 "cells": [
  {
   "cell_type": "markdown",
   "metadata": {},
   "source": [
    "Pooja Umathe"
   ]
  },
  {
   "cell_type": "markdown",
   "metadata": {},
   "source": [
    "Creating a multi-class prediction model to predict the species of plant which will survive in the neighborhood of a given environment.Creating key segments for all the plants (train + test) based on the average sunlight received throughout the day and their distance from waterbody to identify which segments of plants are getting enough sunlight and water vs which ones are not. This will help in mobilizing resources to track growth of trees appropriately. "
   ]
  },
  {
   "cell_type": "code",
   "execution_count": 1,
   "metadata": {},
   "outputs": [],
   "source": [
    "#Importing all relevant libraries\n",
    "\n",
    "import pandas as pd\n",
    "import numpy as np\n",
    "from sklearn.metrics import confusion_matrix \n",
    "from sklearn.model_selection import train_test_split\n",
    "from sklearn.metrics import classification_report\n",
    "from sklearn.metrics import roc_auc_score\n",
    "from sklearn.model_selection import GridSearchCV\n",
    "import matplotlib.pyplot as plt\n",
    "import seaborn as sns\n",
    "%matplotlib inline"
   ]
  },
  {
   "cell_type": "code",
   "execution_count": 2,
   "metadata": {},
   "outputs": [],
   "source": [
    "import warnings\n",
    "warnings.filterwarnings('ignore')"
   ]
  },
  {
   "cell_type": "markdown",
   "metadata": {},
   "source": [
    "## Importing the Datasets "
   ]
  },
  {
   "cell_type": "code",
   "execution_count": 3,
   "metadata": {},
   "outputs": [],
   "source": [
    "train = pd.read_csv(\"capstone_train.csv\")\n",
    "test = pd.read_csv(\"capstone_test.csv\")\n",
    "dictionary = pd.read_csv(\"Capstone Data Dictonary.csv\")"
   ]
  },
  {
   "cell_type": "markdown",
   "metadata": {},
   "source": [
    "## 1) Exploratory Data Analysis"
   ]
  },
  {
   "cell_type": "code",
   "execution_count": 4,
   "metadata": {
    "scrolled": false
   },
   "outputs": [
    {
     "data": {
      "text/html": [
       "<div>\n",
       "<style scoped>\n",
       "    .dataframe tbody tr th:only-of-type {\n",
       "        vertical-align: middle;\n",
       "    }\n",
       "\n",
       "    .dataframe tbody tr th {\n",
       "        vertical-align: top;\n",
       "    }\n",
       "\n",
       "    .dataframe thead th {\n",
       "        text-align: right;\n",
       "    }\n",
       "</style>\n",
       "<table border=\"1\" class=\"dataframe\">\n",
       "  <thead>\n",
       "    <tr style=\"text-align: right;\">\n",
       "      <th></th>\n",
       "      <th>Heigh_From_Sea_Level</th>\n",
       "      <th>Aspect</th>\n",
       "      <th>Slope</th>\n",
       "      <th>Distance_To_Water_Source</th>\n",
       "      <th>Standing_Distance_To_Water_Source</th>\n",
       "      <th>Distance_To_Road</th>\n",
       "      <th>Shadow_In_Morning</th>\n",
       "      <th>Shadow_In_Midday</th>\n",
       "      <th>Shadow_In_Evening</th>\n",
       "      <th>Distance_To_Fire</th>\n",
       "      <th>Turf</th>\n",
       "      <th>Neighbourhood_Type</th>\n",
       "      <th>Plant_Type</th>\n",
       "    </tr>\n",
       "  </thead>\n",
       "  <tbody>\n",
       "    <tr>\n",
       "      <td>0</td>\n",
       "      <td>2984</td>\n",
       "      <td>87</td>\n",
       "      <td>10</td>\n",
       "      <td>234</td>\n",
       "      <td>62</td>\n",
       "      <td>3700</td>\n",
       "      <td>235</td>\n",
       "      <td>224.0</td>\n",
       "      <td>119</td>\n",
       "      <td>2751</td>\n",
       "      <td>29</td>\n",
       "      <td>1</td>\n",
       "      <td>Assassin vine</td>\n",
       "    </tr>\n",
       "    <tr>\n",
       "      <td>1</td>\n",
       "      <td>3021</td>\n",
       "      <td>283</td>\n",
       "      <td>31</td>\n",
       "      <td>630</td>\n",
       "      <td>372</td>\n",
       "      <td>2155</td>\n",
       "      <td>122</td>\n",
       "      <td>224.0</td>\n",
       "      <td>234</td>\n",
       "      <td>1519</td>\n",
       "      <td>13</td>\n",
       "      <td>3</td>\n",
       "      <td>Assassin vine</td>\n",
       "    </tr>\n",
       "    <tr>\n",
       "      <td>2</td>\n",
       "      <td>3357</td>\n",
       "      <td>164</td>\n",
       "      <td>14</td>\n",
       "      <td>618</td>\n",
       "      <td>151</td>\n",
       "      <td>1410</td>\n",
       "      <td>232</td>\n",
       "      <td>244.0</td>\n",
       "      <td>140</td>\n",
       "      <td>1866</td>\n",
       "      <td>32</td>\n",
       "      <td>3</td>\n",
       "      <td>Ascomoid</td>\n",
       "    </tr>\n",
       "    <tr>\n",
       "      <td>3</td>\n",
       "      <td>2787</td>\n",
       "      <td>272</td>\n",
       "      <td>16</td>\n",
       "      <td>150</td>\n",
       "      <td>40</td>\n",
       "      <td>2024</td>\n",
       "      <td>176</td>\n",
       "      <td>243.0</td>\n",
       "      <td>206</td>\n",
       "      <td>957</td>\n",
       "      <td>31</td>\n",
       "      <td>3</td>\n",
       "      <td>Assassin vine</td>\n",
       "    </tr>\n",
       "    <tr>\n",
       "      <td>4</td>\n",
       "      <td>3011</td>\n",
       "      <td>135</td>\n",
       "      <td>2</td>\n",
       "      <td>576</td>\n",
       "      <td>95</td>\n",
       "      <td>5550</td>\n",
       "      <td>222</td>\n",
       "      <td>238.0</td>\n",
       "      <td>151</td>\n",
       "      <td>1524</td>\n",
       "      <td>29</td>\n",
       "      <td>1</td>\n",
       "      <td>Assassin vine</td>\n",
       "    </tr>\n",
       "  </tbody>\n",
       "</table>\n",
       "</div>"
      ],
      "text/plain": [
       "   Heigh_From_Sea_Level  Aspect  Slope  Distance_To_Water_Source  \\\n",
       "0                  2984      87     10                       234   \n",
       "1                  3021     283     31                       630   \n",
       "2                  3357     164     14                       618   \n",
       "3                  2787     272     16                       150   \n",
       "4                  3011     135      2                       576   \n",
       "\n",
       "   Standing_Distance_To_Water_Source  Distance_To_Road  Shadow_In_Morning  \\\n",
       "0                                 62              3700                235   \n",
       "1                                372              2155                122   \n",
       "2                                151              1410                232   \n",
       "3                                 40              2024                176   \n",
       "4                                 95              5550                222   \n",
       "\n",
       "   Shadow_In_Midday  Shadow_In_Evening  Distance_To_Fire  Turf  \\\n",
       "0             224.0                119              2751    29   \n",
       "1             224.0                234              1519    13   \n",
       "2             244.0                140              1866    32   \n",
       "3             243.0                206               957    31   \n",
       "4             238.0                151              1524    29   \n",
       "\n",
       "   Neighbourhood_Type     Plant_Type  \n",
       "0                   1  Assassin vine  \n",
       "1                   3  Assassin vine  \n",
       "2                   3       Ascomoid  \n",
       "3                   3  Assassin vine  \n",
       "4                   1  Assassin vine  "
      ]
     },
     "execution_count": 4,
     "metadata": {},
     "output_type": "execute_result"
    }
   ],
   "source": [
    "# Showing first 5 rows from train dataset\n",
    "train.head()"
   ]
  },
  {
   "cell_type": "code",
   "execution_count": 5,
   "metadata": {},
   "outputs": [
    {
     "name": "stdout",
     "output_type": "stream",
     "text": [
      "(464809, 13)\n"
     ]
    }
   ],
   "source": [
    "#Getting the shape\n",
    "\n",
    "print(train.shape)"
   ]
  },
  {
   "cell_type": "markdown",
   "metadata": {},
   "source": [
    "Train dataset comprises of 464809 observations and 13 characteristics.\n",
    "Out of which one is dependent variable (Plant_Type) and rest 12 are independent variables."
   ]
  },
  {
   "cell_type": "code",
   "execution_count": 6,
   "metadata": {},
   "outputs": [
    {
     "data": {
      "text/plain": [
       "Index(['Heigh_From_Sea_Level', 'Aspect', 'Slope', 'Distance_To_Water_Source',\n",
       "       'Standing_Distance_To_Water_Source', 'Distance_To_Road',\n",
       "       'Shadow_In_Morning', 'Shadow_In_Midday', 'Shadow_In_Evening',\n",
       "       'Distance_To_Fire', 'Turf', 'Neighbourhood_Type', 'Plant_Type'],\n",
       "      dtype='object')"
      ]
     },
     "execution_count": 6,
     "metadata": {},
     "output_type": "execute_result"
    }
   ],
   "source": [
    "# Getting all column names \n",
    "train.columns"
   ]
  },
  {
   "cell_type": "code",
   "execution_count": 7,
   "metadata": {},
   "outputs": [
    {
     "data": {
      "text/html": [
       "<div>\n",
       "<style scoped>\n",
       "    .dataframe tbody tr th:only-of-type {\n",
       "        vertical-align: middle;\n",
       "    }\n",
       "\n",
       "    .dataframe tbody tr th {\n",
       "        vertical-align: top;\n",
       "    }\n",
       "\n",
       "    .dataframe thead th {\n",
       "        text-align: right;\n",
       "    }\n",
       "</style>\n",
       "<table border=\"1\" class=\"dataframe\">\n",
       "  <thead>\n",
       "    <tr style=\"text-align: right;\">\n",
       "      <th></th>\n",
       "      <th>Heigh_From_Sea_Level</th>\n",
       "      <th>Aspect</th>\n",
       "      <th>Slope</th>\n",
       "      <th>Distance_To_Water_Source</th>\n",
       "      <th>Standing_Distance_To_Water_Source</th>\n",
       "      <th>Distance_To_Road</th>\n",
       "      <th>Shadow_In_Morning</th>\n",
       "      <th>Shadow_In_Midday</th>\n",
       "      <th>Shadow_In_Evening</th>\n",
       "      <th>Distance_To_Fire</th>\n",
       "      <th>Turf</th>\n",
       "      <th>Neighbourhood_Type</th>\n",
       "      <th>Plant_Type</th>\n",
       "    </tr>\n",
       "  </thead>\n",
       "  <tbody>\n",
       "    <tr>\n",
       "      <td>0</td>\n",
       "      <td>3258</td>\n",
       "      <td>225</td>\n",
       "      <td>2</td>\n",
       "      <td>631</td>\n",
       "      <td>148</td>\n",
       "      <td>1739</td>\n",
       "      <td>217</td>\n",
       "      <td>240.0</td>\n",
       "      <td>161</td>\n",
       "      <td>2340</td>\n",
       "      <td>31</td>\n",
       "      <td>3</td>\n",
       "      <td>Ascomoid</td>\n",
       "    </tr>\n",
       "    <tr>\n",
       "      <td>1</td>\n",
       "      <td>3033</td>\n",
       "      <td>229</td>\n",
       "      <td>24</td>\n",
       "      <td>552</td>\n",
       "      <td>341</td>\n",
       "      <td>2277</td>\n",
       "      <td>176</td>\n",
       "      <td>253.0</td>\n",
       "      <td>206</td>\n",
       "      <td>1318</td>\n",
       "      <td>13</td>\n",
       "      <td>3</td>\n",
       "      <td>Assassin vine</td>\n",
       "    </tr>\n",
       "    <tr>\n",
       "      <td>2</td>\n",
       "      <td>2838</td>\n",
       "      <td>355</td>\n",
       "      <td>20</td>\n",
       "      <td>108</td>\n",
       "      <td>21</td>\n",
       "      <td>674</td>\n",
       "      <td>183</td>\n",
       "      <td>201.0</td>\n",
       "      <td>152</td>\n",
       "      <td>418</td>\n",
       "      <td>31</td>\n",
       "      <td>3</td>\n",
       "      <td>Assassin vine</td>\n",
       "    </tr>\n",
       "  </tbody>\n",
       "</table>\n",
       "</div>"
      ],
      "text/plain": [
       "   Heigh_From_Sea_Level  Aspect  Slope  Distance_To_Water_Source  \\\n",
       "0                  3258     225      2                       631   \n",
       "1                  3033     229     24                       552   \n",
       "2                  2838     355     20                       108   \n",
       "\n",
       "   Standing_Distance_To_Water_Source  Distance_To_Road  Shadow_In_Morning  \\\n",
       "0                                148              1739                217   \n",
       "1                                341              2277                176   \n",
       "2                                 21               674                183   \n",
       "\n",
       "   Shadow_In_Midday  Shadow_In_Evening  Distance_To_Fire  Turf  \\\n",
       "0             240.0                161              2340    31   \n",
       "1             253.0                206              1318    13   \n",
       "2             201.0                152               418    31   \n",
       "\n",
       "   Neighbourhood_Type     Plant_Type  \n",
       "0                   3       Ascomoid  \n",
       "1                   3  Assassin vine  \n",
       "2                   3  Assassin vine  "
      ]
     },
     "execution_count": 7,
     "metadata": {},
     "output_type": "execute_result"
    }
   ],
   "source": [
    "#Showing test data head\n",
    "test.head(3)"
   ]
  },
  {
   "cell_type": "code",
   "execution_count": 8,
   "metadata": {},
   "outputs": [
    {
     "data": {
      "text/html": [
       "<div>\n",
       "<style scoped>\n",
       "    .dataframe tbody tr th:only-of-type {\n",
       "        vertical-align: middle;\n",
       "    }\n",
       "\n",
       "    .dataframe tbody tr th {\n",
       "        vertical-align: top;\n",
       "    }\n",
       "\n",
       "    .dataframe thead th {\n",
       "        text-align: right;\n",
       "    }\n",
       "</style>\n",
       "<table border=\"1\" class=\"dataframe\">\n",
       "  <thead>\n",
       "    <tr style=\"text-align: right;\">\n",
       "      <th></th>\n",
       "      <th>Heigh_From_Sea_Level</th>\n",
       "      <th>Aspect</th>\n",
       "      <th>Slope</th>\n",
       "      <th>Distance_To_Water_Source</th>\n",
       "      <th>Standing_Distance_To_Water_Source</th>\n",
       "      <th>Distance_To_Road</th>\n",
       "      <th>Shadow_In_Morning</th>\n",
       "      <th>Shadow_In_Midday</th>\n",
       "      <th>Shadow_In_Evening</th>\n",
       "      <th>Distance_To_Fire</th>\n",
       "      <th>Turf</th>\n",
       "      <th>Neighbourhood_Type</th>\n",
       "      <th>Plant_Type</th>\n",
       "    </tr>\n",
       "  </thead>\n",
       "  <tbody>\n",
       "    <tr>\n",
       "      <td>464806</td>\n",
       "      <td>3155</td>\n",
       "      <td>63</td>\n",
       "      <td>6</td>\n",
       "      <td>313</td>\n",
       "      <td>42</td>\n",
       "      <td>3804</td>\n",
       "      <td>226</td>\n",
       "      <td>227.0</td>\n",
       "      <td>135</td>\n",
       "      <td>3305</td>\n",
       "      <td>29</td>\n",
       "      <td>1</td>\n",
       "      <td>Ascomoid</td>\n",
       "    </tr>\n",
       "    <tr>\n",
       "      <td>464807</td>\n",
       "      <td>2813</td>\n",
       "      <td>200</td>\n",
       "      <td>12</td>\n",
       "      <td>201</td>\n",
       "      <td>22</td>\n",
       "      <td>2014</td>\n",
       "      <td>215</td>\n",
       "      <td>NaN</td>\n",
       "      <td>168</td>\n",
       "      <td>2151</td>\n",
       "      <td>26</td>\n",
       "      <td>3</td>\n",
       "      <td>Assassin vine</td>\n",
       "    </tr>\n",
       "    <tr>\n",
       "      <td>464808</td>\n",
       "      <td>2774</td>\n",
       "      <td>187</td>\n",
       "      <td>22</td>\n",
       "      <td>470</td>\n",
       "      <td>38</td>\n",
       "      <td>1284</td>\n",
       "      <td>217</td>\n",
       "      <td>250.0</td>\n",
       "      <td>156</td>\n",
       "      <td>787</td>\n",
       "      <td>13</td>\n",
       "      <td>3</td>\n",
       "      <td>Assassin vine</td>\n",
       "    </tr>\n",
       "  </tbody>\n",
       "</table>\n",
       "</div>"
      ],
      "text/plain": [
       "        Heigh_From_Sea_Level  Aspect  Slope  Distance_To_Water_Source  \\\n",
       "464806                  3155      63      6                       313   \n",
       "464807                  2813     200     12                       201   \n",
       "464808                  2774     187     22                       470   \n",
       "\n",
       "        Standing_Distance_To_Water_Source  Distance_To_Road  \\\n",
       "464806                                 42              3804   \n",
       "464807                                 22              2014   \n",
       "464808                                 38              1284   \n",
       "\n",
       "        Shadow_In_Morning  Shadow_In_Midday  Shadow_In_Evening  \\\n",
       "464806                226             227.0                135   \n",
       "464807                215               NaN                168   \n",
       "464808                217             250.0                156   \n",
       "\n",
       "        Distance_To_Fire  Turf  Neighbourhood_Type     Plant_Type  \n",
       "464806              3305    29                   1       Ascomoid  \n",
       "464807              2151    26                   3  Assassin vine  \n",
       "464808               787    13                   3  Assassin vine  "
      ]
     },
     "execution_count": 8,
     "metadata": {},
     "output_type": "execute_result"
    }
   ],
   "source": [
    "# Printing last 3 rows from train data\n",
    "train.tail(3)"
   ]
  },
  {
   "cell_type": "code",
   "execution_count": 9,
   "metadata": {},
   "outputs": [
    {
     "data": {
      "text/html": [
       "<div>\n",
       "<style scoped>\n",
       "    .dataframe tbody tr th:only-of-type {\n",
       "        vertical-align: middle;\n",
       "    }\n",
       "\n",
       "    .dataframe tbody tr th {\n",
       "        vertical-align: top;\n",
       "    }\n",
       "\n",
       "    .dataframe thead th {\n",
       "        text-align: right;\n",
       "    }\n",
       "</style>\n",
       "<table border=\"1\" class=\"dataframe\">\n",
       "  <thead>\n",
       "    <tr style=\"text-align: right;\">\n",
       "      <th></th>\n",
       "      <th>Attribute</th>\n",
       "      <th>Definition</th>\n",
       "    </tr>\n",
       "  </thead>\n",
       "  <tbody>\n",
       "    <tr>\n",
       "      <td>0</td>\n",
       "      <td>Height_From_Sea_Level</td>\n",
       "      <td>Height in meters with respect to sea level</td>\n",
       "    </tr>\n",
       "    <tr>\n",
       "      <td>1</td>\n",
       "      <td>Aspect</td>\n",
       "      <td>Angle Measured from True North</td>\n",
       "    </tr>\n",
       "    <tr>\n",
       "      <td>2</td>\n",
       "      <td>Slope</td>\n",
       "      <td>slope of the given tree</td>\n",
       "    </tr>\n",
       "    <tr>\n",
       "      <td>3</td>\n",
       "      <td>Distance_To_Water_Source</td>\n",
       "      <td>Distance to nearest water body/source</td>\n",
       "    </tr>\n",
       "    <tr>\n",
       "      <td>4</td>\n",
       "      <td>Standing_Distance_To_Water_Source</td>\n",
       "      <td>Perpendicular Distance to nearest water body/s...</td>\n",
       "    </tr>\n",
       "    <tr>\n",
       "      <td>5</td>\n",
       "      <td>Distance_To_Road</td>\n",
       "      <td>Distance to nearest road</td>\n",
       "    </tr>\n",
       "    <tr>\n",
       "      <td>6</td>\n",
       "      <td>Shadow_In_Morning</td>\n",
       "      <td>Shadow index in Morning ( Highest index value ...</td>\n",
       "    </tr>\n",
       "    <tr>\n",
       "      <td>7</td>\n",
       "      <td>Shadow_In_Midday</td>\n",
       "      <td>Shadow index in Midday( Highest index value wi...</td>\n",
       "    </tr>\n",
       "    <tr>\n",
       "      <td>8</td>\n",
       "      <td>Shadow_In_Evening</td>\n",
       "      <td>Shadow index in evening ( Highest index value ...</td>\n",
       "    </tr>\n",
       "    <tr>\n",
       "      <td>9</td>\n",
       "      <td>Distance_To_Fire</td>\n",
       "      <td>Distance to nearest fire ignition place</td>\n",
       "    </tr>\n",
       "    <tr>\n",
       "      <td>10</td>\n",
       "      <td>Turf</td>\n",
       "      <td>Kind of turfs (each value represents different...</td>\n",
       "    </tr>\n",
       "    <tr>\n",
       "      <td>11</td>\n",
       "      <td>Neighbourhood_Type</td>\n",
       "      <td>Kinds of Neighbourhood (each value represents ...</td>\n",
       "    </tr>\n",
       "    <tr>\n",
       "      <td>12</td>\n",
       "      <td>Plant_Type</td>\n",
       "      <td>Type of the Plant (7 types)</td>\n",
       "    </tr>\n",
       "  </tbody>\n",
       "</table>\n",
       "</div>"
      ],
      "text/plain": [
       "                            Attribute  \\\n",
       "0               Height_From_Sea_Level   \n",
       "1                              Aspect   \n",
       "2                               Slope   \n",
       "3            Distance_To_Water_Source   \n",
       "4   Standing_Distance_To_Water_Source   \n",
       "5                    Distance_To_Road   \n",
       "6                   Shadow_In_Morning   \n",
       "7                    Shadow_In_Midday   \n",
       "8                   Shadow_In_Evening   \n",
       "9                    Distance_To_Fire   \n",
       "10                               Turf   \n",
       "11                 Neighbourhood_Type   \n",
       "12                         Plant_Type   \n",
       "\n",
       "                                           Definition  \n",
       "0          Height in meters with respect to sea level  \n",
       "1                      Angle Measured from True North  \n",
       "2                             slope of the given tree  \n",
       "3               Distance to nearest water body/source  \n",
       "4   Perpendicular Distance to nearest water body/s...  \n",
       "5                            Distance to nearest road  \n",
       "6   Shadow index in Morning ( Highest index value ...  \n",
       "7   Shadow index in Midday( Highest index value wi...  \n",
       "8   Shadow index in evening ( Highest index value ...  \n",
       "9             Distance to nearest fire ignition place  \n",
       "10  Kind of turfs (each value represents different...  \n",
       "11  Kinds of Neighbourhood (each value represents ...  \n",
       "12                        Type of the Plant (7 types)  "
      ]
     },
     "execution_count": 9,
     "metadata": {},
     "output_type": "execute_result"
    }
   ],
   "source": [
    "# Printing Data dictionary\n",
    "dictionary"
   ]
  },
  {
   "cell_type": "code",
   "execution_count": 10,
   "metadata": {},
   "outputs": [
    {
     "name": "stdout",
     "output_type": "stream",
     "text": [
      "<class 'pandas.core.frame.DataFrame'>\n",
      "RangeIndex: 464809 entries, 0 to 464808\n",
      "Data columns (total 13 columns):\n",
      "Heigh_From_Sea_Level                 464809 non-null int64\n",
      "Aspect                               464809 non-null int64\n",
      "Slope                                464809 non-null int64\n",
      "Distance_To_Water_Source             464809 non-null int64\n",
      "Standing_Distance_To_Water_Source    464809 non-null int64\n",
      "Distance_To_Road                     464809 non-null int64\n",
      "Shadow_In_Morning                    464809 non-null int64\n",
      "Shadow_In_Midday                     371776 non-null float64\n",
      "Shadow_In_Evening                    464809 non-null int64\n",
      "Distance_To_Fire                     464809 non-null int64\n",
      "Turf                                 464809 non-null int64\n",
      "Neighbourhood_Type                   464809 non-null int64\n",
      "Plant_Type                           464809 non-null object\n",
      "dtypes: float64(1), int64(11), object(1)\n",
      "memory usage: 46.1+ MB\n"
     ]
    }
   ],
   "source": [
    "# Getting data info\n",
    "train.info()"
   ]
  },
  {
   "cell_type": "code",
   "execution_count": 11,
   "metadata": {},
   "outputs": [
    {
     "name": "stdout",
     "output_type": "stream",
     "text": [
      "<class 'pandas.core.frame.DataFrame'>\n",
      "RangeIndex: 116203 entries, 0 to 116202\n",
      "Data columns (total 13 columns):\n",
      "Heigh_From_Sea_Level                 116203 non-null int64\n",
      "Aspect                               116203 non-null int64\n",
      "Slope                                116203 non-null int64\n",
      "Distance_To_Water_Source             116203 non-null int64\n",
      "Standing_Distance_To_Water_Source    116203 non-null int64\n",
      "Distance_To_Road                     116203 non-null int64\n",
      "Shadow_In_Morning                    116203 non-null int64\n",
      "Shadow_In_Midday                     93124 non-null float64\n",
      "Shadow_In_Evening                    116203 non-null int64\n",
      "Distance_To_Fire                     116203 non-null int64\n",
      "Turf                                 116203 non-null int64\n",
      "Neighbourhood_Type                   116203 non-null int64\n",
      "Plant_Type                           116203 non-null object\n",
      "dtypes: float64(1), int64(11), object(1)\n",
      "memory usage: 11.5+ MB\n"
     ]
    }
   ],
   "source": [
    "test.info()"
   ]
  },
  {
   "cell_type": "code",
   "execution_count": 12,
   "metadata": {},
   "outputs": [
    {
     "data": {
      "text/html": [
       "<div>\n",
       "<style scoped>\n",
       "    .dataframe tbody tr th:only-of-type {\n",
       "        vertical-align: middle;\n",
       "    }\n",
       "\n",
       "    .dataframe tbody tr th {\n",
       "        vertical-align: top;\n",
       "    }\n",
       "\n",
       "    .dataframe thead th {\n",
       "        text-align: right;\n",
       "    }\n",
       "</style>\n",
       "<table border=\"1\" class=\"dataframe\">\n",
       "  <thead>\n",
       "    <tr style=\"text-align: right;\">\n",
       "      <th></th>\n",
       "      <th>Heigh_From_Sea_Level</th>\n",
       "      <th>Aspect</th>\n",
       "      <th>Slope</th>\n",
       "      <th>Distance_To_Water_Source</th>\n",
       "      <th>Standing_Distance_To_Water_Source</th>\n",
       "      <th>Distance_To_Road</th>\n",
       "      <th>Shadow_In_Morning</th>\n",
       "      <th>Shadow_In_Midday</th>\n",
       "      <th>Shadow_In_Evening</th>\n",
       "      <th>Distance_To_Fire</th>\n",
       "      <th>Turf</th>\n",
       "      <th>Neighbourhood_Type</th>\n",
       "    </tr>\n",
       "  </thead>\n",
       "  <tbody>\n",
       "    <tr>\n",
       "      <td>count</td>\n",
       "      <td>464809.000000</td>\n",
       "      <td>464809.000000</td>\n",
       "      <td>464809.000000</td>\n",
       "      <td>464809.000000</td>\n",
       "      <td>464809.000000</td>\n",
       "      <td>464809.000000</td>\n",
       "      <td>464809.000000</td>\n",
       "      <td>371776.000000</td>\n",
       "      <td>464809.000000</td>\n",
       "      <td>464809.000000</td>\n",
       "      <td>464809.000000</td>\n",
       "      <td>464809.000000</td>\n",
       "    </tr>\n",
       "    <tr>\n",
       "      <td>mean</td>\n",
       "      <td>2959.483063</td>\n",
       "      <td>155.661235</td>\n",
       "      <td>14.099759</td>\n",
       "      <td>269.290644</td>\n",
       "      <td>46.390412</td>\n",
       "      <td>2351.779462</td>\n",
       "      <td>212.157323</td>\n",
       "      <td>223.311841</td>\n",
       "      <td>142.518338</td>\n",
       "      <td>1980.473990</td>\n",
       "      <td>24.370455</td>\n",
       "      <td>2.113563</td>\n",
       "    </tr>\n",
       "    <tr>\n",
       "      <td>std</td>\n",
       "      <td>279.781777</td>\n",
       "      <td>111.919973</td>\n",
       "      <td>7.486816</td>\n",
       "      <td>212.411427</td>\n",
       "      <td>58.240912</td>\n",
       "      <td>1559.868239</td>\n",
       "      <td>26.775574</td>\n",
       "      <td>19.744363</td>\n",
       "      <td>38.273670</td>\n",
       "      <td>1325.289344</td>\n",
       "      <td>9.478907</td>\n",
       "      <td>1.061051</td>\n",
       "    </tr>\n",
       "    <tr>\n",
       "      <td>min</td>\n",
       "      <td>1859.000000</td>\n",
       "      <td>0.000000</td>\n",
       "      <td>0.000000</td>\n",
       "      <td>0.000000</td>\n",
       "      <td>-173.000000</td>\n",
       "      <td>0.000000</td>\n",
       "      <td>0.000000</td>\n",
       "      <td>0.000000</td>\n",
       "      <td>0.000000</td>\n",
       "      <td>0.000000</td>\n",
       "      <td>1.000000</td>\n",
       "      <td>1.000000</td>\n",
       "    </tr>\n",
       "    <tr>\n",
       "      <td>25%</td>\n",
       "      <td>2809.000000</td>\n",
       "      <td>58.000000</td>\n",
       "      <td>9.000000</td>\n",
       "      <td>108.000000</td>\n",
       "      <td>7.000000</td>\n",
       "      <td>1106.000000</td>\n",
       "      <td>198.000000</td>\n",
       "      <td>213.000000</td>\n",
       "      <td>119.000000</td>\n",
       "      <td>1024.000000</td>\n",
       "      <td>20.000000</td>\n",
       "      <td>1.000000</td>\n",
       "    </tr>\n",
       "    <tr>\n",
       "      <td>50%</td>\n",
       "      <td>2996.000000</td>\n",
       "      <td>127.000000</td>\n",
       "      <td>13.000000</td>\n",
       "      <td>218.000000</td>\n",
       "      <td>30.000000</td>\n",
       "      <td>1998.000000</td>\n",
       "      <td>218.000000</td>\n",
       "      <td>226.000000</td>\n",
       "      <td>143.000000</td>\n",
       "      <td>1710.000000</td>\n",
       "      <td>29.000000</td>\n",
       "      <td>2.000000</td>\n",
       "    </tr>\n",
       "    <tr>\n",
       "      <td>75%</td>\n",
       "      <td>3163.000000</td>\n",
       "      <td>261.000000</td>\n",
       "      <td>18.000000</td>\n",
       "      <td>384.000000</td>\n",
       "      <td>69.000000</td>\n",
       "      <td>3331.000000</td>\n",
       "      <td>231.000000</td>\n",
       "      <td>237.000000</td>\n",
       "      <td>168.000000</td>\n",
       "      <td>2550.000000</td>\n",
       "      <td>31.000000</td>\n",
       "      <td>3.000000</td>\n",
       "    </tr>\n",
       "    <tr>\n",
       "      <td>max</td>\n",
       "      <td>3858.000000</td>\n",
       "      <td>360.000000</td>\n",
       "      <td>65.000000</td>\n",
       "      <td>1390.000000</td>\n",
       "      <td>601.000000</td>\n",
       "      <td>7117.000000</td>\n",
       "      <td>254.000000</td>\n",
       "      <td>254.000000</td>\n",
       "      <td>254.000000</td>\n",
       "      <td>7173.000000</td>\n",
       "      <td>40.000000</td>\n",
       "      <td>4.000000</td>\n",
       "    </tr>\n",
       "  </tbody>\n",
       "</table>\n",
       "</div>"
      ],
      "text/plain": [
       "       Heigh_From_Sea_Level         Aspect          Slope  \\\n",
       "count         464809.000000  464809.000000  464809.000000   \n",
       "mean            2959.483063     155.661235      14.099759   \n",
       "std              279.781777     111.919973       7.486816   \n",
       "min             1859.000000       0.000000       0.000000   \n",
       "25%             2809.000000      58.000000       9.000000   \n",
       "50%             2996.000000     127.000000      13.000000   \n",
       "75%             3163.000000     261.000000      18.000000   \n",
       "max             3858.000000     360.000000      65.000000   \n",
       "\n",
       "       Distance_To_Water_Source  Standing_Distance_To_Water_Source  \\\n",
       "count             464809.000000                      464809.000000   \n",
       "mean                 269.290644                          46.390412   \n",
       "std                  212.411427                          58.240912   \n",
       "min                    0.000000                        -173.000000   \n",
       "25%                  108.000000                           7.000000   \n",
       "50%                  218.000000                          30.000000   \n",
       "75%                  384.000000                          69.000000   \n",
       "max                 1390.000000                         601.000000   \n",
       "\n",
       "       Distance_To_Road  Shadow_In_Morning  Shadow_In_Midday  \\\n",
       "count     464809.000000      464809.000000     371776.000000   \n",
       "mean        2351.779462         212.157323        223.311841   \n",
       "std         1559.868239          26.775574         19.744363   \n",
       "min            0.000000           0.000000          0.000000   \n",
       "25%         1106.000000         198.000000        213.000000   \n",
       "50%         1998.000000         218.000000        226.000000   \n",
       "75%         3331.000000         231.000000        237.000000   \n",
       "max         7117.000000         254.000000        254.000000   \n",
       "\n",
       "       Shadow_In_Evening  Distance_To_Fire           Turf  Neighbourhood_Type  \n",
       "count      464809.000000     464809.000000  464809.000000       464809.000000  \n",
       "mean          142.518338       1980.473990      24.370455            2.113563  \n",
       "std            38.273670       1325.289344       9.478907            1.061051  \n",
       "min             0.000000          0.000000       1.000000            1.000000  \n",
       "25%           119.000000       1024.000000      20.000000            1.000000  \n",
       "50%           143.000000       1710.000000      29.000000            2.000000  \n",
       "75%           168.000000       2550.000000      31.000000            3.000000  \n",
       "max           254.000000       7173.000000      40.000000            4.000000  "
      ]
     },
     "execution_count": 12,
     "metadata": {},
     "output_type": "execute_result"
    }
   ],
   "source": [
    "# Describing variables for better understanding\n",
    "\n",
    "train.describe()"
   ]
  },
  {
   "cell_type": "code",
   "execution_count": 13,
   "metadata": {},
   "outputs": [
    {
     "data": {
      "text/plain": [
       "array([[<matplotlib.axes._subplots.AxesSubplot object at 0x000001AE933AB648>,\n",
       "        <matplotlib.axes._subplots.AxesSubplot object at 0x000001AE937C41C8>,\n",
       "        <matplotlib.axes._subplots.AxesSubplot object at 0x000001AE933C6C88>],\n",
       "       [<matplotlib.axes._subplots.AxesSubplot object at 0x000001AE93835448>,\n",
       "        <matplotlib.axes._subplots.AxesSubplot object at 0x000001AE9386D3C8>,\n",
       "        <matplotlib.axes._subplots.AxesSubplot object at 0x000001AE938A43C8>],\n",
       "       [<matplotlib.axes._subplots.AxesSubplot object at 0x000001AE938DD388>,\n",
       "        <matplotlib.axes._subplots.AxesSubplot object at 0x000001AE93915348>,\n",
       "        <matplotlib.axes._subplots.AxesSubplot object at 0x000001AE9391AE88>],\n",
       "       [<matplotlib.axes._subplots.AxesSubplot object at 0x000001AE93951F48>,\n",
       "        <matplotlib.axes._subplots.AxesSubplot object at 0x000001AE939BD248>,\n",
       "        <matplotlib.axes._subplots.AxesSubplot object at 0x000001AE939F3248>],\n",
       "       [<matplotlib.axes._subplots.AxesSubplot object at 0x000001AE93A2D248>,\n",
       "        <matplotlib.axes._subplots.AxesSubplot object at 0x000001AE93A65348>,\n",
       "        <matplotlib.axes._subplots.AxesSubplot object at 0x000001AE93A9E488>]],\n",
       "      dtype=object)"
      ]
     },
     "execution_count": 13,
     "metadata": {},
     "output_type": "execute_result"
    },
    {
     "data": {
      "image/png": "[encoded data removed]",
      "text/plain": [
       "<Figure size 864x720 with 15 Axes>"
      ]
     },
     "metadata": {
      "needs_background": "light"
     },
     "output_type": "display_data"
    }
   ],
   "source": [
    "# Plotting distribution of each variable \n",
    "\n",
    "train.plot.hist(subplots=True, layout=(5,3), figsize=(12, 10), bins=20)"
   ]
  },
  {
   "cell_type": "code",
   "execution_count": 14,
   "metadata": {},
   "outputs": [
    {
     "data": {
      "text/plain": [
       "array(['Assassin vine', 'Ascomoid', 'Basidirond', 'Kelpie', 'Myconid:',\n",
       "       'Hangman tree', 'Dark tree'], dtype=object)"
      ]
     },
     "execution_count": 14,
     "metadata": {},
     "output_type": "execute_result"
    }
   ],
   "source": [
    "# Getting unique values from plant_type\n",
    "\n",
    "train.Plant_Type.unique()"
   ]
  },
  {
   "cell_type": "code",
   "execution_count": 15,
   "metadata": {},
   "outputs": [
    {
     "data": {
      "text/plain": [
       "<matplotlib.axes._subplots.AxesSubplot at 0x1ae93f52c88>"
      ]
     },
     "execution_count": 15,
     "metadata": {},
     "output_type": "execute_result"
    },
    {
     "data": {
      "image/png": "[encoded data removed]",
      "text/plain": [
       "<Figure size 432x288 with 1 Axes>"
      ]
     },
     "metadata": {
      "needs_background": "light"
     },
     "output_type": "display_data"
    }
   ],
   "source": [
    "# Plotting bar plot of all unique values distribution in Plant_type\n",
    "\n",
    "train['Plant_Type'].value_counts().sort_index().plot.bar()"
   ]
  },
  {
   "cell_type": "code",
   "execution_count": 16,
   "metadata": {},
   "outputs": [
    {
     "data": {
      "text/plain": [
       "array([1, 3, 2, 4], dtype=int64)"
      ]
     },
     "execution_count": 16,
     "metadata": {},
     "output_type": "execute_result"
    }
   ],
   "source": [
    "# Fining unique values in Neighbourhood_type\n",
    "\n",
    "train.Neighbourhood_Type.unique()"
   ]
  },
  {
   "cell_type": "markdown",
   "metadata": {},
   "source": [
    "So, here we can see that there are 7 unique values means there are 7 types of Plant_Type.\n",
    "Also, we can see that there are just 4 Neighbourhood_Type."
   ]
  },
  {
   "cell_type": "code",
   "execution_count": 17,
   "metadata": {
    "scrolled": true
   },
   "outputs": [
    {
     "data": {
      "text/plain": [
       "Assassin vine    226705\n",
       "Ascomoid         169487\n",
       "Basidirond        28488\n",
       "Myconid:          16416\n",
       "Kelpie            13931\n",
       "Hangman tree       7598\n",
       "Dark tree          2184\n",
       "Name: Plant_Type, dtype: int64"
      ]
     },
     "execution_count": 17,
     "metadata": {},
     "output_type": "execute_result"
    }
   ],
   "source": [
    "# Value counts in Plant_Type\n",
    "\n",
    "train.Plant_Type.value_counts()"
   ]
  },
  {
   "cell_type": "code",
   "execution_count": 18,
   "metadata": {},
   "outputs": [
    {
     "data": {
      "text/plain": [
       "1    208793\n",
       "3    202660\n",
       "4     29459\n",
       "2     23897\n",
       "Name: Neighbourhood_Type, dtype: int64"
      ]
     },
     "execution_count": 18,
     "metadata": {},
     "output_type": "execute_result"
    }
   ],
   "source": [
    "# Value Counts in Neighbourhood_Type\n",
    "\n",
    "train.Neighbourhood_Type.value_counts()"
   ]
  },
  {
   "cell_type": "markdown",
   "metadata": {},
   "source": [
    "From the value counts we can see there are very less Dark tree Plant_Type and only few observations made for 4 and 2 Neighbourhood_Type."
   ]
  },
  {
   "cell_type": "markdown",
   "metadata": {},
   "source": [
    "## 2) Data Preprocessing"
   ]
  },
  {
   "cell_type": "markdown",
   "metadata": {},
   "source": [
    "### Checking missing values"
   ]
  },
  {
   "cell_type": "code",
   "execution_count": 19,
   "metadata": {},
   "outputs": [
    {
     "name": "stdout",
     "output_type": "stream",
     "text": [
      "Heigh_From_Sea_Level                     0\n",
      "Aspect                                   0\n",
      "Slope                                    0\n",
      "Distance_To_Water_Source                 0\n",
      "Standing_Distance_To_Water_Source        0\n",
      "Distance_To_Road                         0\n",
      "Shadow_In_Morning                        0\n",
      "Shadow_In_Midday                     93033\n",
      "Shadow_In_Evening                        0\n",
      "Distance_To_Fire                         0\n",
      "Turf                                     0\n",
      "Neighbourhood_Type                       0\n",
      "Plant_Type                               0\n",
      "dtype: int64\n",
      "There are  93033 missing values in Shadow_In_Midday of train dataset\n"
     ]
    }
   ],
   "source": [
    "print(train.isna().sum())\n",
    "print(\"There are \",train.Shadow_In_Midday.isna().sum() ,\"missing values in Shadow_In_Midday of train dataset\")"
   ]
  },
  {
   "cell_type": "code",
   "execution_count": 20,
   "metadata": {
    "scrolled": true
   },
   "outputs": [
    {
     "name": "stdout",
     "output_type": "stream",
     "text": [
      "Heigh_From_Sea_Level                     0\n",
      "Aspect                                   0\n",
      "Slope                                    0\n",
      "Distance_To_Water_Source                 0\n",
      "Standing_Distance_To_Water_Source        0\n",
      "Distance_To_Road                         0\n",
      "Shadow_In_Morning                        0\n",
      "Shadow_In_Midday                     23079\n",
      "Shadow_In_Evening                        0\n",
      "Distance_To_Fire                         0\n",
      "Turf                                     0\n",
      "Neighbourhood_Type                       0\n",
      "Plant_Type                               0\n",
      "dtype: int64\n",
      "There are  23079 missing values in Shadow_In_Midday of test dataset\n"
     ]
    }
   ],
   "source": [
    "print(test.isna().sum())\n",
    "print(\"There are \",test.Shadow_In_Midday.isna().sum() ,\"missing values in Shadow_In_Midday of test dataset\")"
   ]
  },
  {
   "cell_type": "markdown",
   "metadata": {},
   "source": [
    "There are so many missing values in Shadow_In_Midday column which is not good for training the model and predictions. Let's check how that column looks like;"
   ]
  },
  {
   "cell_type": "code",
   "execution_count": 21,
   "metadata": {
    "scrolled": true
   },
   "outputs": [
    {
     "name": "stdout",
     "output_type": "stream",
     "text": [
      "0    224.0\n",
      "1    224.0\n",
      "2    244.0\n",
      "3    243.0\n",
      "4    238.0\n",
      "5    234.0\n",
      "6    244.0\n",
      "7    202.0\n",
      "8    200.0\n",
      "9    246.0\n",
      "Name: Shadow_In_Midday, dtype: float64\n",
      "float64\n"
     ]
    }
   ],
   "source": [
    "print(train.Shadow_In_Midday.head(10))\n",
    "print(train.Shadow_In_Midday.dtype)"
   ]
  },
  {
   "cell_type": "markdown",
   "metadata": {},
   "source": [
    "In this case interpolation is the best thing to do. This method is to replace missing values with best guessing values."
   ]
  },
  {
   "cell_type": "code",
   "execution_count": 22,
   "metadata": {
    "scrolled": true
   },
   "outputs": [
    {
     "name": "stdout",
     "output_type": "stream",
     "text": [
      "Heigh_From_Sea_Level                 0\n",
      "Aspect                               0\n",
      "Slope                                0\n",
      "Distance_To_Water_Source             0\n",
      "Standing_Distance_To_Water_Source    0\n",
      "Distance_To_Road                     0\n",
      "Shadow_In_Morning                    0\n",
      "Shadow_In_Midday                     0\n",
      "Shadow_In_Evening                    0\n",
      "Distance_To_Fire                     0\n",
      "Turf                                 0\n",
      "Neighbourhood_Type                   0\n",
      "Plant_Type                           0\n",
      "dtype: int64\n"
     ]
    }
   ],
   "source": [
    "train['Shadow_In_Midday'] = train.Shadow_In_Midday.interpolate(method ='linear')\n",
    "print(train.isna().sum())"
   ]
  },
  {
   "cell_type": "code",
   "execution_count": 23,
   "metadata": {
    "scrolled": true
   },
   "outputs": [
    {
     "name": "stdout",
     "output_type": "stream",
     "text": [
      "Heigh_From_Sea_Level                 0\n",
      "Aspect                               0\n",
      "Slope                                0\n",
      "Distance_To_Water_Source             0\n",
      "Standing_Distance_To_Water_Source    0\n",
      "Distance_To_Road                     0\n",
      "Shadow_In_Morning                    0\n",
      "Shadow_In_Midday                     0\n",
      "Shadow_In_Evening                    0\n",
      "Distance_To_Fire                     0\n",
      "Turf                                 0\n",
      "Neighbourhood_Type                   0\n",
      "Plant_Type                           0\n",
      "dtype: int64\n"
     ]
    }
   ],
   "source": [
    "test['Shadow_In_Midday'] = test.Shadow_In_Midday.interpolate(method ='linear')\n",
    "print(test.isna().sum())"
   ]
  },
  {
   "cell_type": "markdown",
   "metadata": {},
   "source": [
    "Now, we have removed all null values or we can say that we have interpolate specific column which had null values. \n",
    "Let's check the correlation between all variables for better understanding."
   ]
  },
  {
   "cell_type": "markdown",
   "metadata": {},
   "source": [
    "But, our dependent variable is Plant_Type and it's in all text so to getting the correlation between all variables with Plant_Type we need to convert it into labels.\n",
    "For that let's use label encoderusing scikit-learn library."
   ]
  },
  {
   "cell_type": "code",
   "execution_count": 24,
   "metadata": {},
   "outputs": [
    {
     "data": {
      "text/html": [
       "<div>\n",
       "<style scoped>\n",
       "    .dataframe tbody tr th:only-of-type {\n",
       "        vertical-align: middle;\n",
       "    }\n",
       "\n",
       "    .dataframe tbody tr th {\n",
       "        vertical-align: top;\n",
       "    }\n",
       "\n",
       "    .dataframe thead th {\n",
       "        text-align: right;\n",
       "    }\n",
       "</style>\n",
       "<table border=\"1\" class=\"dataframe\">\n",
       "  <thead>\n",
       "    <tr style=\"text-align: right;\">\n",
       "      <th></th>\n",
       "      <th>Heigh_From_Sea_Level</th>\n",
       "      <th>Aspect</th>\n",
       "      <th>Slope</th>\n",
       "      <th>Distance_To_Water_Source</th>\n",
       "      <th>Standing_Distance_To_Water_Source</th>\n",
       "      <th>Distance_To_Road</th>\n",
       "      <th>Shadow_In_Morning</th>\n",
       "      <th>Shadow_In_Midday</th>\n",
       "      <th>Shadow_In_Evening</th>\n",
       "      <th>Distance_To_Fire</th>\n",
       "      <th>Turf</th>\n",
       "      <th>Neighbourhood_Type</th>\n",
       "      <th>Plant_Type</th>\n",
       "      <th>plant_type_labels</th>\n",
       "    </tr>\n",
       "  </thead>\n",
       "  <tbody>\n",
       "    <tr>\n",
       "      <td>0</td>\n",
       "      <td>2984</td>\n",
       "      <td>87</td>\n",
       "      <td>10</td>\n",
       "      <td>234</td>\n",
       "      <td>62</td>\n",
       "      <td>3700</td>\n",
       "      <td>235</td>\n",
       "      <td>224.0</td>\n",
       "      <td>119</td>\n",
       "      <td>2751</td>\n",
       "      <td>29</td>\n",
       "      <td>1</td>\n",
       "      <td>Assassin vine</td>\n",
       "      <td>1</td>\n",
       "    </tr>\n",
       "    <tr>\n",
       "      <td>1</td>\n",
       "      <td>3021</td>\n",
       "      <td>283</td>\n",
       "      <td>31</td>\n",
       "      <td>630</td>\n",
       "      <td>372</td>\n",
       "      <td>2155</td>\n",
       "      <td>122</td>\n",
       "      <td>224.0</td>\n",
       "      <td>234</td>\n",
       "      <td>1519</td>\n",
       "      <td>13</td>\n",
       "      <td>3</td>\n",
       "      <td>Assassin vine</td>\n",
       "      <td>1</td>\n",
       "    </tr>\n",
       "    <tr>\n",
       "      <td>2</td>\n",
       "      <td>3357</td>\n",
       "      <td>164</td>\n",
       "      <td>14</td>\n",
       "      <td>618</td>\n",
       "      <td>151</td>\n",
       "      <td>1410</td>\n",
       "      <td>232</td>\n",
       "      <td>244.0</td>\n",
       "      <td>140</td>\n",
       "      <td>1866</td>\n",
       "      <td>32</td>\n",
       "      <td>3</td>\n",
       "      <td>Ascomoid</td>\n",
       "      <td>0</td>\n",
       "    </tr>\n",
       "    <tr>\n",
       "      <td>3</td>\n",
       "      <td>2787</td>\n",
       "      <td>272</td>\n",
       "      <td>16</td>\n",
       "      <td>150</td>\n",
       "      <td>40</td>\n",
       "      <td>2024</td>\n",
       "      <td>176</td>\n",
       "      <td>243.0</td>\n",
       "      <td>206</td>\n",
       "      <td>957</td>\n",
       "      <td>31</td>\n",
       "      <td>3</td>\n",
       "      <td>Assassin vine</td>\n",
       "      <td>1</td>\n",
       "    </tr>\n",
       "    <tr>\n",
       "      <td>4</td>\n",
       "      <td>3011</td>\n",
       "      <td>135</td>\n",
       "      <td>2</td>\n",
       "      <td>576</td>\n",
       "      <td>95</td>\n",
       "      <td>5550</td>\n",
       "      <td>222</td>\n",
       "      <td>238.0</td>\n",
       "      <td>151</td>\n",
       "      <td>1524</td>\n",
       "      <td>29</td>\n",
       "      <td>1</td>\n",
       "      <td>Assassin vine</td>\n",
       "      <td>1</td>\n",
       "    </tr>\n",
       "  </tbody>\n",
       "</table>\n",
       "</div>"
      ],
      "text/plain": [
       "   Heigh_From_Sea_Level  Aspect  Slope  Distance_To_Water_Source  \\\n",
       "0                  2984      87     10                       234   \n",
       "1                  3021     283     31                       630   \n",
       "2                  3357     164     14                       618   \n",
       "3                  2787     272     16                       150   \n",
       "4                  3011     135      2                       576   \n",
       "\n",
       "   Standing_Distance_To_Water_Source  Distance_To_Road  Shadow_In_Morning  \\\n",
       "0                                 62              3700                235   \n",
       "1                                372              2155                122   \n",
       "2                                151              1410                232   \n",
       "3                                 40              2024                176   \n",
       "4                                 95              5550                222   \n",
       "\n",
       "   Shadow_In_Midday  Shadow_In_Evening  Distance_To_Fire  Turf  \\\n",
       "0             224.0                119              2751    29   \n",
       "1             224.0                234              1519    13   \n",
       "2             244.0                140              1866    32   \n",
       "3             243.0                206               957    31   \n",
       "4             238.0                151              1524    29   \n",
       "\n",
       "   Neighbourhood_Type     Plant_Type  plant_type_labels  \n",
       "0                   1  Assassin vine                  1  \n",
       "1                   3  Assassin vine                  1  \n",
       "2                   3       Ascomoid                  0  \n",
       "3                   3  Assassin vine                  1  \n",
       "4                   1  Assassin vine                  1  "
      ]
     },
     "execution_count": 24,
     "metadata": {},
     "output_type": "execute_result"
    }
   ],
   "source": [
    "from sklearn.preprocessing import LabelEncoder\n",
    "\n",
    "# creating instance of labelencoder\n",
    "labelencoder = LabelEncoder()\n",
    "\n",
    "# Assigning numerical values and storing in another column\n",
    "train['plant_type_labels'] = labelencoder.fit_transform(train['Plant_Type'])\n",
    "train.head(5)"
   ]
  },
  {
   "cell_type": "markdown",
   "metadata": {},
   "source": [
    "Perfect!!\n",
    "We have converted plant type names into labels."
   ]
  },
  {
   "cell_type": "code",
   "execution_count": 25,
   "metadata": {},
   "outputs": [
    {
     "name": "stdout",
     "output_type": "stream",
     "text": [
      "{'Ascomoid': 0, 'Assassin vine': 1, 'Basidirond': 2, 'Dark tree': 3, 'Hangman tree': 4, 'Kelpie': 5, 'Myconid:': 6}\n"
     ]
    }
   ],
   "source": [
    "# If we want to know what labels are addressed to what plant_type\n",
    "\n",
    "label_name_mapping = dict(zip(labelencoder.classes_, labelencoder.transform(labelencoder.classes_)))\n",
    "print(label_name_mapping)"
   ]
  },
  {
   "cell_type": "markdown",
   "metadata": {},
   "source": [
    "Let's create new dataframe without original Plant_Type column."
   ]
  },
  {
   "cell_type": "code",
   "execution_count": 26,
   "metadata": {},
   "outputs": [
    {
     "data": {
      "text/html": [
       "<div>\n",
       "<style scoped>\n",
       "    .dataframe tbody tr th:only-of-type {\n",
       "        vertical-align: middle;\n",
       "    }\n",
       "\n",
       "    .dataframe tbody tr th {\n",
       "        vertical-align: top;\n",
       "    }\n",
       "\n",
       "    .dataframe thead th {\n",
       "        text-align: right;\n",
       "    }\n",
       "</style>\n",
       "<table border=\"1\" class=\"dataframe\">\n",
       "  <thead>\n",
       "    <tr style=\"text-align: right;\">\n",
       "      <th></th>\n",
       "      <th>Heigh_From_Sea_Level</th>\n",
       "      <th>Aspect</th>\n",
       "      <th>Slope</th>\n",
       "      <th>Distance_To_Water_Source</th>\n",
       "      <th>Standing_Distance_To_Water_Source</th>\n",
       "      <th>Distance_To_Road</th>\n",
       "      <th>Shadow_In_Morning</th>\n",
       "      <th>Shadow_In_Midday</th>\n",
       "      <th>Shadow_In_Evening</th>\n",
       "      <th>Distance_To_Fire</th>\n",
       "      <th>Turf</th>\n",
       "      <th>Neighbourhood_Type</th>\n",
       "      <th>plant_type_labels</th>\n",
       "    </tr>\n",
       "  </thead>\n",
       "  <tbody>\n",
       "    <tr>\n",
       "      <td>0</td>\n",
       "      <td>2984</td>\n",
       "      <td>87</td>\n",
       "      <td>10</td>\n",
       "      <td>234</td>\n",
       "      <td>62</td>\n",
       "      <td>3700</td>\n",
       "      <td>235</td>\n",
       "      <td>224.0</td>\n",
       "      <td>119</td>\n",
       "      <td>2751</td>\n",
       "      <td>29</td>\n",
       "      <td>1</td>\n",
       "      <td>1</td>\n",
       "    </tr>\n",
       "    <tr>\n",
       "      <td>1</td>\n",
       "      <td>3021</td>\n",
       "      <td>283</td>\n",
       "      <td>31</td>\n",
       "      <td>630</td>\n",
       "      <td>372</td>\n",
       "      <td>2155</td>\n",
       "      <td>122</td>\n",
       "      <td>224.0</td>\n",
       "      <td>234</td>\n",
       "      <td>1519</td>\n",
       "      <td>13</td>\n",
       "      <td>3</td>\n",
       "      <td>1</td>\n",
       "    </tr>\n",
       "    <tr>\n",
       "      <td>2</td>\n",
       "      <td>3357</td>\n",
       "      <td>164</td>\n",
       "      <td>14</td>\n",
       "      <td>618</td>\n",
       "      <td>151</td>\n",
       "      <td>1410</td>\n",
       "      <td>232</td>\n",
       "      <td>244.0</td>\n",
       "      <td>140</td>\n",
       "      <td>1866</td>\n",
       "      <td>32</td>\n",
       "      <td>3</td>\n",
       "      <td>0</td>\n",
       "    </tr>\n",
       "    <tr>\n",
       "      <td>3</td>\n",
       "      <td>2787</td>\n",
       "      <td>272</td>\n",
       "      <td>16</td>\n",
       "      <td>150</td>\n",
       "      <td>40</td>\n",
       "      <td>2024</td>\n",
       "      <td>176</td>\n",
       "      <td>243.0</td>\n",
       "      <td>206</td>\n",
       "      <td>957</td>\n",
       "      <td>31</td>\n",
       "      <td>3</td>\n",
       "      <td>1</td>\n",
       "    </tr>\n",
       "  </tbody>\n",
       "</table>\n",
       "</div>"
      ],
      "text/plain": [
       "   Heigh_From_Sea_Level  Aspect  Slope  Distance_To_Water_Source  \\\n",
       "0                  2984      87     10                       234   \n",
       "1                  3021     283     31                       630   \n",
       "2                  3357     164     14                       618   \n",
       "3                  2787     272     16                       150   \n",
       "\n",
       "   Standing_Distance_To_Water_Source  Distance_To_Road  Shadow_In_Morning  \\\n",
       "0                                 62              3700                235   \n",
       "1                                372              2155                122   \n",
       "2                                151              1410                232   \n",
       "3                                 40              2024                176   \n",
       "\n",
       "   Shadow_In_Midday  Shadow_In_Evening  Distance_To_Fire  Turf  \\\n",
       "0             224.0                119              2751    29   \n",
       "1             224.0                234              1519    13   \n",
       "2             244.0                140              1866    32   \n",
       "3             243.0                206               957    31   \n",
       "\n",
       "   Neighbourhood_Type  plant_type_labels  \n",
       "0                   1                  1  \n",
       "1                   3                  1  \n",
       "2                   3                  0  \n",
       "3                   3                  1  "
      ]
     },
     "execution_count": 26,
     "metadata": {},
     "output_type": "execute_result"
    }
   ],
   "source": [
    "df = train.drop(['Plant_Type'], axis=1)\n",
    "df.head(4)"
   ]
  },
  {
   "cell_type": "code",
   "execution_count": 27,
   "metadata": {},
   "outputs": [
    {
     "data": {
      "text/plain": [
       "<matplotlib.axes._subplots.AxesSubplot at 0x1ae93425c88>"
      ]
     },
     "execution_count": 27,
     "metadata": {},
     "output_type": "execute_result"
    },
    {
     "data": {
      "image/png": "[encoded data removed]",
      "text/plain": [
       "<Figure size 432x288 with 1 Axes>"
      ]
     },
     "metadata": {
      "needs_background": "light"
     },
     "output_type": "display_data"
    }
   ],
   "source": [
    "# Getting the distribution of each label in plant_type column\n",
    "\n",
    "sns.distplot(df.plant_type_labels)"
   ]
  },
  {
   "cell_type": "markdown",
   "metadata": {},
   "source": [
    "### Finding Correlation between all variables"
   ]
  },
  {
   "cell_type": "code",
   "execution_count": 28,
   "metadata": {
    "scrolled": true
   },
   "outputs": [
    {
     "data": {
      "text/html": [
       "<style  type=\"text/css\" >\n",
       "    #T_490bc3b0_891d_11ea_b318_dc71961baaa2row0_col0 {\n",
       "            background-color:  #008066;\n",
       "            color:  #f1f1f1;\n",
       "        }    #T_490bc3b0_891d_11ea_b318_dc71961baaa2row0_col1 {\n",
       "            background-color:  #9fcf66;\n",
       "            color:  #000000;\n",
       "        }    #T_490bc3b0_891d_11ea_b318_dc71961baaa2row0_col2 {\n",
       "            background-color:  #dcee66;\n",
       "            color:  #000000;\n",
       "        }    #T_490bc3b0_891d_11ea_b318_dc71961baaa2row0_col3 {\n",
       "            background-color:  #acd666;\n",
       "            color:  #000000;\n",
       "        }    #T_490bc3b0_891d_11ea_b318_dc71961baaa2row0_col4 {\n",
       "            background-color:  #c6e266;\n",
       "            color:  #000000;\n",
       "        }    #T_490bc3b0_891d_11ea_b318_dc71961baaa2row0_col5 {\n",
       "            background-color:  #70b866;\n",
       "            color:  #000000;\n",
       "        }    #T_490bc3b0_891d_11ea_b318_dc71961baaa2row0_col6 {\n",
       "            background-color:  #7fbf66;\n",
       "            color:  #000000;\n",
       "        }    #T_490bc3b0_891d_11ea_b318_dc71961baaa2row0_col7 {\n",
       "            background-color:  #92c866;\n",
       "            color:  #000000;\n",
       "        }    #T_490bc3b0_891d_11ea_b318_dc71961baaa2row0_col8 {\n",
       "            background-color:  #87c366;\n",
       "            color:  #000000;\n",
       "        }    #T_490bc3b0_891d_11ea_b318_dc71961baaa2row0_col9 {\n",
       "            background-color:  #9acc66;\n",
       "            color:  #000000;\n",
       "        }    #T_490bc3b0_891d_11ea_b318_dc71961baaa2row0_col10 {\n",
       "            background-color:  #3e9e66;\n",
       "            color:  #000000;\n",
       "        }    #T_490bc3b0_891d_11ea_b318_dc71961baaa2row0_col11 {\n",
       "            background-color:  #e8f466;\n",
       "            color:  #000000;\n",
       "        }    #T_490bc3b0_891d_11ea_b318_dc71961baaa2row0_col12 {\n",
       "            background-color:  #ffff66;\n",
       "            color:  #000000;\n",
       "        }    #T_490bc3b0_891d_11ea_b318_dc71961baaa2row1_col0 {\n",
       "            background-color:  #bfdf66;\n",
       "            color:  #000000;\n",
       "        }    #T_490bc3b0_891d_11ea_b318_dc71961baaa2row1_col1 {\n",
       "            background-color:  #008066;\n",
       "            color:  #f1f1f1;\n",
       "        }    #T_490bc3b0_891d_11ea_b318_dc71961baaa2row1_col2 {\n",
       "            background-color:  #a3d166;\n",
       "            color:  #000000;\n",
       "        }    #T_490bc3b0_891d_11ea_b318_dc71961baaa2row1_col3 {\n",
       "            background-color:  #f4fa66;\n",
       "            color:  #000000;\n",
       "        }    #T_490bc3b0_891d_11ea_b318_dc71961baaa2row1_col4 {\n",
       "            background-color:  #cbe566;\n",
       "            color:  #000000;\n",
       "        }    #T_490bc3b0_891d_11ea_b318_dc71961baaa2row1_col5 {\n",
       "            background-color:  #acd666;\n",
       "            color:  #000000;\n",
       "        }    #T_490bc3b0_891d_11ea_b318_dc71961baaa2row1_col6 {\n",
       "            background-color:  #e3f166;\n",
       "            color:  #000000;\n",
       "        }    #T_490bc3b0_891d_11ea_b318_dc71961baaa2row1_col7 {\n",
       "            background-color:  #7fbf66;\n",
       "            color:  #000000;\n",
       "        }    #T_490bc3b0_891d_11ea_b318_dc71961baaa2row1_col8 {\n",
       "            background-color:  #329866;\n",
       "            color:  #000000;\n",
       "        }    #T_490bc3b0_891d_11ea_b318_dc71961baaa2row1_col9 {\n",
       "            background-color:  #c8e366;\n",
       "            color:  #000000;\n",
       "        }    #T_490bc3b0_891d_11ea_b318_dc71961baaa2row1_col10 {\n",
       "            background-color:  #c7e366;\n",
       "            color:  #000000;\n",
       "        }    #T_490bc3b0_891d_11ea_b318_dc71961baaa2row1_col11 {\n",
       "            background-color:  #98cc66;\n",
       "            color:  #000000;\n",
       "        }    #T_490bc3b0_891d_11ea_b318_dc71961baaa2row1_col12 {\n",
       "            background-color:  #c6e266;\n",
       "            color:  #000000;\n",
       "        }    #T_490bc3b0_891d_11ea_b318_dc71961baaa2row2_col0 {\n",
       "            background-color:  #f1f866;\n",
       "            color:  #000000;\n",
       "        }    #T_490bc3b0_891d_11ea_b318_dc71961baaa2row2_col1 {\n",
       "            background-color:  #95ca66;\n",
       "            color:  #000000;\n",
       "        }    #T_490bc3b0_891d_11ea_b318_dc71961baaa2row2_col2 {\n",
       "            background-color:  #008066;\n",
       "            color:  #f1f1f1;\n",
       "        }    #T_490bc3b0_891d_11ea_b318_dc71961baaa2row2_col3 {\n",
       "            background-color:  #fbfd66;\n",
       "            color:  #000000;\n",
       "        }    #T_490bc3b0_891d_11ea_b318_dc71961baaa2row2_col4 {\n",
       "            background-color:  #9fcf66;\n",
       "            color:  #000000;\n",
       "        }    #T_490bc3b0_891d_11ea_b318_dc71961baaa2row2_col5 {\n",
       "            background-color:  #d7eb66;\n",
       "            color:  #000000;\n",
       "        }    #T_490bc3b0_891d_11ea_b318_dc71961baaa2row2_col6 {\n",
       "            background-color:  #bede66;\n",
       "            color:  #000000;\n",
       "        }    #T_490bc3b0_891d_11ea_b318_dc71961baaa2row2_col7 {\n",
       "            background-color:  #ffff66;\n",
       "            color:  #000000;\n",
       "        }    #T_490bc3b0_891d_11ea_b318_dc71961baaa2row2_col8 {\n",
       "            background-color:  #a9d466;\n",
       "            color:  #000000;\n",
       "        }    #T_490bc3b0_891d_11ea_b318_dc71961baaa2row2_col9 {\n",
       "            background-color:  #d6eb66;\n",
       "            color:  #000000;\n",
       "        }    #T_490bc3b0_891d_11ea_b318_dc71961baaa2row2_col10 {\n",
       "            background-color:  #deee66;\n",
       "            color:  #000000;\n",
       "        }    #T_490bc3b0_891d_11ea_b318_dc71961baaa2row2_col11 {\n",
       "            background-color:  #7ebe66;\n",
       "            color:  #000000;\n",
       "        }    #T_490bc3b0_891d_11ea_b318_dc71961baaa2row2_col12 {\n",
       "            background-color:  #abd566;\n",
       "            color:  #000000;\n",
       "        }    #T_490bc3b0_891d_11ea_b318_dc71961baaa2row3_col0 {\n",
       "            background-color:  #87c366;\n",
       "            color:  #000000;\n",
       "        }    #T_490bc3b0_891d_11ea_b318_dc71961baaa2row3_col1 {\n",
       "            background-color:  #9fcf66;\n",
       "            color:  #000000;\n",
       "        }    #T_490bc3b0_891d_11ea_b318_dc71961baaa2row3_col2 {\n",
       "            background-color:  #b3d966;\n",
       "            color:  #000000;\n",
       "        }    #T_490bc3b0_891d_11ea_b318_dc71961baaa2row3_col3 {\n",
       "            background-color:  #008066;\n",
       "            color:  #f1f1f1;\n",
       "        }    #T_490bc3b0_891d_11ea_b318_dc71961baaa2row3_col4 {\n",
       "            background-color:  #56ab66;\n",
       "            color:  #000000;\n",
       "        }    #T_490bc3b0_891d_11ea_b318_dc71961baaa2row3_col5 {\n",
       "            background-color:  #a4d266;\n",
       "            color:  #000000;\n",
       "        }    #T_490bc3b0_891d_11ea_b318_dc71961baaa2row3_col6 {\n",
       "            background-color:  #93c966;\n",
       "            color:  #000000;\n",
       "        }    #T_490bc3b0_891d_11ea_b318_dc71961baaa2row3_col7 {\n",
       "            background-color:  #aad466;\n",
       "            color:  #000000;\n",
       "        }    #T_490bc3b0_891d_11ea_b318_dc71961baaa2row3_col8 {\n",
       "            background-color:  #88c366;\n",
       "            color:  #000000;\n",
       "        }    #T_490bc3b0_891d_11ea_b318_dc71961baaa2row3_col9 {\n",
       "            background-color:  #abd566;\n",
       "            color:  #000000;\n",
       "        }    #T_490bc3b0_891d_11ea_b318_dc71961baaa2row3_col10 {\n",
       "            background-color:  #a2d066;\n",
       "            color:  #000000;\n",
       "        }    #T_490bc3b0_891d_11ea_b318_dc71961baaa2row3_col11 {\n",
       "            background-color:  #a7d366;\n",
       "            color:  #000000;\n",
       "        }    #T_490bc3b0_891d_11ea_b318_dc71961baaa2row3_col12 {\n",
       "            background-color:  #cde666;\n",
       "            color:  #000000;\n",
       "        }    #T_490bc3b0_891d_11ea_b318_dc71961baaa2row4_col0 {\n",
       "            background-color:  #b0d866;\n",
       "            color:  #000000;\n",
       "        }    #T_490bc3b0_891d_11ea_b318_dc71961baaa2row4_col1 {\n",
       "            background-color:  #96cb66;\n",
       "            color:  #000000;\n",
       "        }    #T_490bc3b0_891d_11ea_b318_dc71961baaa2row4_col2 {\n",
       "            background-color:  #80c066;\n",
       "            color:  #000000;\n",
       "        }    #T_490bc3b0_891d_11ea_b318_dc71961baaa2row4_col3 {\n",
       "            background-color:  #62b066;\n",
       "            color:  #000000;\n",
       "        }    #T_490bc3b0_891d_11ea_b318_dc71961baaa2row4_col4 {\n",
       "            background-color:  #008066;\n",
       "            color:  #f1f1f1;\n",
       "        }    #T_490bc3b0_891d_11ea_b318_dc71961baaa2row4_col5 {\n",
       "            background-color:  #b9dc66;\n",
       "            color:  #000000;\n",
       "        }    #T_490bc3b0_891d_11ea_b318_dc71961baaa2row4_col6 {\n",
       "            background-color:  #a7d366;\n",
       "            color:  #000000;\n",
       "        }    #T_490bc3b0_891d_11ea_b318_dc71961baaa2row4_col7 {\n",
       "            background-color:  #c1e066;\n",
       "            color:  #000000;\n",
       "        }    #T_490bc3b0_891d_11ea_b318_dc71961baaa2row4_col8 {\n",
       "            background-color:  #8ac466;\n",
       "            color:  #000000;\n",
       "        }    #T_490bc3b0_891d_11ea_b318_dc71961baaa2row4_col9 {\n",
       "            background-color:  #c1e066;\n",
       "            color:  #000000;\n",
       "        }    #T_490bc3b0_891d_11ea_b318_dc71961baaa2row4_col10 {\n",
       "            background-color:  #badc66;\n",
       "            color:  #000000;\n",
       "        }    #T_490bc3b0_891d_11ea_b318_dc71961baaa2row4_col11 {\n",
       "            background-color:  #8fc766;\n",
       "            color:  #000000;\n",
       "        }    #T_490bc3b0_891d_11ea_b318_dc71961baaa2row4_col12 {\n",
       "            background-color:  #b9dc66;\n",
       "            color:  #000000;\n",
       "        }    #T_490bc3b0_891d_11ea_b318_dc71961baaa2row5_col0 {\n",
       "            background-color:  #7bbd66;\n",
       "            color:  #000000;\n",
       "        }    #T_490bc3b0_891d_11ea_b318_dc71961baaa2row5_col1 {\n",
       "            background-color:  #9ece66;\n",
       "            color:  #000000;\n",
       "        }    #T_490bc3b0_891d_11ea_b318_dc71961baaa2row5_col2 {\n",
       "            background-color:  #d7eb66;\n",
       "            color:  #000000;\n",
       "        }    #T_490bc3b0_891d_11ea_b318_dc71961baaa2row5_col3 {\n",
       "            background-color:  #e6f266;\n",
       "            color:  #000000;\n",
       "        }    #T_490bc3b0_891d_11ea_b318_dc71961baaa2row5_col4 {\n",
       "            background-color:  #e5f266;\n",
       "            color:  #000000;\n",
       "        }    #T_490bc3b0_891d_11ea_b318_dc71961baaa2row5_col5 {\n",
       "            background-color:  #008066;\n",
       "            color:  #f1f1f1;\n",
       "        }    #T_490bc3b0_891d_11ea_b318_dc71961baaa2row5_col6 {\n",
       "            background-color:  #8ac466;\n",
       "            color:  #000000;\n",
       "        }    #T_490bc3b0_891d_11ea_b318_dc71961baaa2row5_col7 {\n",
       "            background-color:  #94ca66;\n",
       "            color:  #000000;\n",
       "        }    #T_490bc3b0_891d_11ea_b318_dc71961baaa2row5_col8 {\n",
       "            background-color:  #80c066;\n",
       "            color:  #000000;\n",
       "        }    #T_490bc3b0_891d_11ea_b318_dc71961baaa2row5_col9 {\n",
       "            background-color:  #78bc66;\n",
       "            color:  #000000;\n",
       "        }    #T_490bc3b0_891d_11ea_b318_dc71961baaa2row5_col10 {\n",
       "            background-color:  #98cc66;\n",
       "            color:  #000000;\n",
       "        }    #T_490bc3b0_891d_11ea_b318_dc71961baaa2row5_col11 {\n",
       "            background-color:  #ffff66;\n",
       "            color:  #000000;\n",
       "        }    #T_490bc3b0_891d_11ea_b318_dc71961baaa2row5_col12 {\n",
       "            background-color:  #e8f466;\n",
       "            color:  #000000;\n",
       "        }    #T_490bc3b0_891d_11ea_b318_dc71961baaa2row6_col0 {\n",
       "            background-color:  #add666;\n",
       "            color:  #000000;\n",
       "        }    #T_490bc3b0_891d_11ea_b318_dc71961baaa2row6_col1 {\n",
       "            background-color:  #ffff66;\n",
       "            color:  #000000;\n",
       "        }    #T_490bc3b0_891d_11ea_b318_dc71961baaa2row6_col2 {\n",
       "            background-color:  #ebf566;\n",
       "            color:  #000000;\n",
       "        }    #T_490bc3b0_891d_11ea_b318_dc71961baaa2row6_col3 {\n",
       "            background-color:  #ffff66;\n",
       "            color:  #000000;\n",
       "        }    #T_490bc3b0_891d_11ea_b318_dc71961baaa2row6_col4 {\n",
       "            background-color:  #ffff66;\n",
       "            color:  #000000;\n",
       "        }    #T_490bc3b0_891d_11ea_b318_dc71961baaa2row6_col5 {\n",
       "            background-color:  #abd566;\n",
       "            color:  #000000;\n",
       "        }    #T_490bc3b0_891d_11ea_b318_dc71961baaa2row6_col6 {\n",
       "            background-color:  #008066;\n",
       "            color:  #f1f1f1;\n",
       "        }    #T_490bc3b0_891d_11ea_b318_dc71961baaa2row6_col7 {\n",
       "            background-color:  #afd766;\n",
       "            color:  #000000;\n",
       "        }    #T_490bc3b0_891d_11ea_b318_dc71961baaa2row6_col8 {\n",
       "            background-color:  #ffff66;\n",
       "            color:  #000000;\n",
       "        }    #T_490bc3b0_891d_11ea_b318_dc71961baaa2row6_col9 {\n",
       "            background-color:  #9cce66;\n",
       "            color:  #000000;\n",
       "        }    #T_490bc3b0_891d_11ea_b318_dc71961baaa2row6_col10 {\n",
       "            background-color:  #c1e066;\n",
       "            color:  #000000;\n",
       "        }    #T_490bc3b0_891d_11ea_b318_dc71961baaa2row6_col11 {\n",
       "            background-color:  #daec66;\n",
       "            color:  #000000;\n",
       "        }    #T_490bc3b0_891d_11ea_b318_dc71961baaa2row6_col12 {\n",
       "            background-color:  #d0e866;\n",
       "            color:  #000000;\n",
       "        }    #T_490bc3b0_891d_11ea_b318_dc71961baaa2row7_col0 {\n",
       "            background-color:  #a0d066;\n",
       "            color:  #000000;\n",
       "        }    #T_490bc3b0_891d_11ea_b318_dc71961baaa2row7_col1 {\n",
       "            background-color:  #74ba66;\n",
       "            color:  #000000;\n",
       "        }    #T_490bc3b0_891d_11ea_b318_dc71961baaa2row7_col2 {\n",
       "            background-color:  #ffff66;\n",
       "            color:  #000000;\n",
       "        }    #T_490bc3b0_891d_11ea_b318_dc71961baaa2row7_col3 {\n",
       "            background-color:  #eef666;\n",
       "            color:  #000000;\n",
       "        }    #T_490bc3b0_891d_11ea_b318_dc71961baaa2row7_col4 {\n",
       "            background-color:  #eff766;\n",
       "            color:  #000000;\n",
       "        }    #T_490bc3b0_891d_11ea_b318_dc71961baaa2row7_col5 {\n",
       "            background-color:  #94ca66;\n",
       "            color:  #000000;\n",
       "        }    #T_490bc3b0_891d_11ea_b318_dc71961baaa2row7_col6 {\n",
       "            background-color:  #8ec666;\n",
       "            color:  #000000;\n",
       "        }    #T_490bc3b0_891d_11ea_b318_dc71961baaa2row7_col7 {\n",
       "            background-color:  #008066;\n",
       "            color:  #f1f1f1;\n",
       "        }    #T_490bc3b0_891d_11ea_b318_dc71961baaa2row7_col8 {\n",
       "            background-color:  #47a366;\n",
       "            color:  #000000;\n",
       "        }    #T_490bc3b0_891d_11ea_b318_dc71961baaa2row7_col9 {\n",
       "            background-color:  #abd566;\n",
       "            color:  #000000;\n",
       "        }    #T_490bc3b0_891d_11ea_b318_dc71961baaa2row7_col10 {\n",
       "            background-color:  #c6e266;\n",
       "            color:  #000000;\n",
       "        }    #T_490bc3b0_891d_11ea_b318_dc71961baaa2row7_col11 {\n",
       "            background-color:  #bdde66;\n",
       "            color:  #000000;\n",
       "        }    #T_490bc3b0_891d_11ea_b318_dc71961baaa2row7_col12 {\n",
       "            background-color:  #d9ec66;\n",
       "            color:  #000000;\n",
       "        }    #T_490bc3b0_891d_11ea_b318_dc71961baaa2row8_col0 {\n",
       "            background-color:  #b7db66;\n",
       "            color:  #000000;\n",
       "        }    #T_490bc3b0_891d_11ea_b318_dc71961baaa2row8_col1 {\n",
       "            background-color:  #399c66;\n",
       "            color:  #000000;\n",
       "        }    #T_490bc3b0_891d_11ea_b318_dc71961baaa2row8_col2 {\n",
       "            background-color:  #d0e866;\n",
       "            color:  #000000;\n",
       "        }    #T_490bc3b0_891d_11ea_b318_dc71961baaa2row8_col3 {\n",
       "            background-color:  #ebf566;\n",
       "            color:  #000000;\n",
       "        }    #T_490bc3b0_891d_11ea_b318_dc71961baaa2row8_col4 {\n",
       "            background-color:  #d3e966;\n",
       "            color:  #000000;\n",
       "        }    #T_490bc3b0_891d_11ea_b318_dc71961baaa2row8_col5 {\n",
       "            background-color:  #9ece66;\n",
       "            color:  #000000;\n",
       "        }    #T_490bc3b0_891d_11ea_b318_dc71961baaa2row8_col6 {\n",
       "            background-color:  #ffff66;\n",
       "            color:  #000000;\n",
       "        }    #T_490bc3b0_891d_11ea_b318_dc71961baaa2row8_col7 {\n",
       "            background-color:  #58ac66;\n",
       "            color:  #000000;\n",
       "        }    #T_490bc3b0_891d_11ea_b318_dc71961baaa2row8_col8 {\n",
       "            background-color:  #008066;\n",
       "            color:  #f1f1f1;\n",
       "        }    #T_490bc3b0_891d_11ea_b318_dc71961baaa2row8_col9 {\n",
       "            background-color:  #bdde66;\n",
       "            color:  #000000;\n",
       "        }    #T_490bc3b0_891d_11ea_b318_dc71961baaa2row8_col10 {\n",
       "            background-color:  #c9e466;\n",
       "            color:  #000000;\n",
       "        }    #T_490bc3b0_891d_11ea_b318_dc71961baaa2row8_col11 {\n",
       "            background-color:  #9ece66;\n",
       "            color:  #000000;\n",
       "        }    #T_490bc3b0_891d_11ea_b318_dc71961baaa2row8_col12 {\n",
       "            background-color:  #d3e966;\n",
       "            color:  #000000;\n",
       "        }    #T_490bc3b0_891d_11ea_b318_dc71961baaa2row9_col0 {\n",
       "            background-color:  #a6d266;\n",
       "            color:  #000000;\n",
       "        }    #T_490bc3b0_891d_11ea_b318_dc71961baaa2row9_col1 {\n",
       "            background-color:  #b3d966;\n",
       "            color:  #000000;\n",
       "        }    #T_490bc3b0_891d_11ea_b318_dc71961baaa2row9_col2 {\n",
       "            background-color:  #d2e866;\n",
       "            color:  #000000;\n",
       "        }    #T_490bc3b0_891d_11ea_b318_dc71961baaa2row9_col3 {\n",
       "            background-color:  #ebf566;\n",
       "            color:  #000000;\n",
       "        }    #T_490bc3b0_891d_11ea_b318_dc71961baaa2row9_col4 {\n",
       "            background-color:  #eaf466;\n",
       "            color:  #000000;\n",
       "        }    #T_490bc3b0_891d_11ea_b318_dc71961baaa2row9_col5 {\n",
       "            background-color:  #76bb66;\n",
       "            color:  #000000;\n",
       "        }    #T_490bc3b0_891d_11ea_b318_dc71961baaa2row9_col6 {\n",
       "            background-color:  #7cbe66;\n",
       "            color:  #000000;\n",
       "        }    #T_490bc3b0_891d_11ea_b318_dc71961baaa2row9_col7 {\n",
       "            background-color:  #a8d366;\n",
       "            color:  #000000;\n",
       "        }    #T_490bc3b0_891d_11ea_b318_dc71961baaa2row9_col8 {\n",
       "            background-color:  #96cb66;\n",
       "            color:  #000000;\n",
       "        }    #T_490bc3b0_891d_11ea_b318_dc71961baaa2row9_col9 {\n",
       "            background-color:  #008066;\n",
       "            color:  #f1f1f1;\n",
       "        }    #T_490bc3b0_891d_11ea_b318_dc71961baaa2row9_col10 {\n",
       "            background-color:  #b5da66;\n",
       "            color:  #000000;\n",
       "        }    #T_490bc3b0_891d_11ea_b318_dc71961baaa2row9_col11 {\n",
       "            background-color:  #fafc66;\n",
       "            color:  #000000;\n",
       "        }    #T_490bc3b0_891d_11ea_b318_dc71961baaa2row9_col12 {\n",
       "            background-color:  #dfef66;\n",
       "            color:  #000000;\n",
       "        }    #T_490bc3b0_891d_11ea_b318_dc71961baaa2row10_col0 {\n",
       "            background-color:  #3c9e66;\n",
       "            color:  #000000;\n",
       "        }    #T_490bc3b0_891d_11ea_b318_dc71961baaa2row10_col1 {\n",
       "            background-color:  #a0d066;\n",
       "            color:  #000000;\n",
       "        }    #T_490bc3b0_891d_11ea_b318_dc71961baaa2row10_col2 {\n",
       "            background-color:  #c4e266;\n",
       "            color:  #000000;\n",
       "        }    #T_490bc3b0_891d_11ea_b318_dc71961baaa2row10_col3 {\n",
       "            background-color:  #c8e366;\n",
       "            color:  #000000;\n",
       "        }    #T_490bc3b0_891d_11ea_b318_dc71961baaa2row10_col4 {\n",
       "            background-color:  #cbe566;\n",
       "            color:  #000000;\n",
       "        }    #T_490bc3b0_891d_11ea_b318_dc71961baaa2row10_col5 {\n",
       "            background-color:  #86c266;\n",
       "            color:  #000000;\n",
       "        }    #T_490bc3b0_891d_11ea_b318_dc71961baaa2row10_col6 {\n",
       "            background-color:  #89c466;\n",
       "            color:  #000000;\n",
       "        }    #T_490bc3b0_891d_11ea_b318_dc71961baaa2row10_col7 {\n",
       "            background-color:  #aed666;\n",
       "            color:  #000000;\n",
       "        }    #T_490bc3b0_891d_11ea_b318_dc71961baaa2row10_col8 {\n",
       "            background-color:  #8fc766;\n",
       "            color:  #000000;\n",
       "        }    #T_490bc3b0_891d_11ea_b318_dc71961baaa2row10_col9 {\n",
       "            background-color:  #a2d066;\n",
       "            color:  #000000;\n",
       "        }    #T_490bc3b0_891d_11ea_b318_dc71961baaa2row10_col10 {\n",
       "            background-color:  #008066;\n",
       "            color:  #f1f1f1;\n",
       "        }    #T_490bc3b0_891d_11ea_b318_dc71961baaa2row10_col11 {\n",
       "            background-color:  #e1f066;\n",
       "            color:  #000000;\n",
       "        }    #T_490bc3b0_891d_11ea_b318_dc71961baaa2row10_col12 {\n",
       "            background-color:  #eaf466;\n",
       "            color:  #000000;\n",
       "        }    #T_490bc3b0_891d_11ea_b318_dc71961baaa2row11_col0 {\n",
       "            background-color:  #ffff66;\n",
       "            color:  #000000;\n",
       "        }    #T_490bc3b0_891d_11ea_b318_dc71961baaa2row11_col1 {\n",
       "            background-color:  #8bc566;\n",
       "            color:  #000000;\n",
       "        }    #T_490bc3b0_891d_11ea_b318_dc71961baaa2row11_col2 {\n",
       "            background-color:  #7ebe66;\n",
       "            color:  #000000;\n",
       "        }    #T_490bc3b0_891d_11ea_b318_dc71961baaa2row11_col3 {\n",
       "            background-color:  #ebf566;\n",
       "            color:  #000000;\n",
       "        }    #T_490bc3b0_891d_11ea_b318_dc71961baaa2row11_col4 {\n",
       "            background-color:  #b2d866;\n",
       "            color:  #000000;\n",
       "        }    #T_490bc3b0_891d_11ea_b318_dc71961baaa2row11_col5 {\n",
       "            background-color:  #ffff66;\n",
       "            color:  #000000;\n",
       "        }    #T_490bc3b0_891d_11ea_b318_dc71961baaa2row11_col6 {\n",
       "            background-color:  #b1d866;\n",
       "            color:  #000000;\n",
       "        }    #T_490bc3b0_891d_11ea_b318_dc71961baaa2row11_col7 {\n",
       "            background-color:  #bdde66;\n",
       "            color:  #000000;\n",
       "        }    #T_490bc3b0_891d_11ea_b318_dc71961baaa2row11_col8 {\n",
       "            background-color:  #80c066;\n",
       "            color:  #000000;\n",
       "        }    #T_490bc3b0_891d_11ea_b318_dc71961baaa2row11_col9 {\n",
       "            background-color:  #ffff66;\n",
       "            color:  #000000;\n",
       "        }    #T_490bc3b0_891d_11ea_b318_dc71961baaa2row11_col10 {\n",
       "            background-color:  #ffff66;\n",
       "            color:  #000000;\n",
       "        }    #T_490bc3b0_891d_11ea_b318_dc71961baaa2row11_col11 {\n",
       "            background-color:  #008066;\n",
       "            color:  #f1f1f1;\n",
       "        }    #T_490bc3b0_891d_11ea_b318_dc71961baaa2row11_col12 {\n",
       "            background-color:  #92c866;\n",
       "            color:  #000000;\n",
       "        }    #T_490bc3b0_891d_11ea_b318_dc71961baaa2row12_col0 {\n",
       "            background-color:  #f7fb66;\n",
       "            color:  #000000;\n",
       "        }    #T_490bc3b0_891d_11ea_b318_dc71961baaa2row12_col1 {\n",
       "            background-color:  #9fcf66;\n",
       "            color:  #000000;\n",
       "        }    #T_490bc3b0_891d_11ea_b318_dc71961baaa2row12_col2 {\n",
       "            background-color:  #97cb66;\n",
       "            color:  #000000;\n",
       "        }    #T_490bc3b0_891d_11ea_b318_dc71961baaa2row12_col3 {\n",
       "            background-color:  #fefe66;\n",
       "            color:  #000000;\n",
       "        }    #T_490bc3b0_891d_11ea_b318_dc71961baaa2row12_col4 {\n",
       "            background-color:  #c9e466;\n",
       "            color:  #000000;\n",
       "        }    #T_490bc3b0_891d_11ea_b318_dc71961baaa2row12_col5 {\n",
       "            background-color:  #cce666;\n",
       "            color:  #000000;\n",
       "        }    #T_490bc3b0_891d_11ea_b318_dc71961baaa2row12_col6 {\n",
       "            background-color:  #94ca66;\n",
       "            color:  #000000;\n",
       "        }    #T_490bc3b0_891d_11ea_b318_dc71961baaa2row12_col7 {\n",
       "            background-color:  #bfdf66;\n",
       "            color:  #000000;\n",
       "        }    #T_490bc3b0_891d_11ea_b318_dc71961baaa2row12_col8 {\n",
       "            background-color:  #96cb66;\n",
       "            color:  #000000;\n",
       "        }    #T_490bc3b0_891d_11ea_b318_dc71961baaa2row12_col9 {\n",
       "            background-color:  #c8e366;\n",
       "            color:  #000000;\n",
       "        }    #T_490bc3b0_891d_11ea_b318_dc71961baaa2row12_col10 {\n",
       "            background-color:  #eaf466;\n",
       "            color:  #000000;\n",
       "        }    #T_490bc3b0_891d_11ea_b318_dc71961baaa2row12_col11 {\n",
       "            background-color:  #80c066;\n",
       "            color:  #000000;\n",
       "        }    #T_490bc3b0_891d_11ea_b318_dc71961baaa2row12_col12 {\n",
       "            background-color:  #008066;\n",
       "            color:  #f1f1f1;\n",
       "        }</style><table id=\"T_490bc3b0_891d_11ea_b318_dc71961baaa2\" ><thead>    <tr>        <th class=\"blank level0\" ></th>        <th class=\"col_heading level0 col0\" >Heigh_From_Sea_Level</th>        <th class=\"col_heading level0 col1\" >Aspect</th>        <th class=\"col_heading level0 col2\" >Slope</th>        <th class=\"col_heading level0 col3\" >Distance_To_Water_Source</th>        <th class=\"col_heading level0 col4\" >Standing_Distance_To_Water_Source</th>        <th class=\"col_heading level0 col5\" >Distance_To_Road</th>        <th class=\"col_heading level0 col6\" >Shadow_In_Morning</th>        <th class=\"col_heading level0 col7\" >Shadow_In_Midday</th>        <th class=\"col_heading level0 col8\" >Shadow_In_Evening</th>        <th class=\"col_heading level0 col9\" >Distance_To_Fire</th>        <th class=\"col_heading level0 col10\" >Turf</th>        <th class=\"col_heading level0 col11\" >Neighbourhood_Type</th>        <th class=\"col_heading level0 col12\" >plant_type_labels</th>    </tr></thead><tbody>\n",
       "                <tr>\n",
       "                        <th id=\"T_490bc3b0_891d_11ea_b318_dc71961baaa2level0_row0\" class=\"row_heading level0 row0\" >Heigh_From_Sea_Level</th>\n",
       "                        <td id=\"T_490bc3b0_891d_11ea_b318_dc71961baaa2row0_col0\" class=\"data row0 col0\" >1</td>\n",
       "                        <td id=\"T_490bc3b0_891d_11ea_b318_dc71961baaa2row0_col1\" class=\"data row0 col1\" >0.0160353</td>\n",
       "                        <td id=\"T_490bc3b0_891d_11ea_b318_dc71961baaa2row0_col2\" class=\"data row0 col2\" >-0.241253</td>\n",
       "                        <td id=\"T_490bc3b0_891d_11ea_b318_dc71961baaa2row0_col3\" class=\"data row0 col3\" >0.306403</td>\n",
       "                        <td id=\"T_490bc3b0_891d_11ea_b318_dc71961baaa2row0_col4\" class=\"data row0 col4\" >0.0939033</td>\n",
       "                        <td id=\"T_490bc3b0_891d_11ea_b318_dc71961baaa2row0_col5\" class=\"data row0 col5\" >0.365264</td>\n",
       "                        <td id=\"T_490bc3b0_891d_11ea_b318_dc71961baaa2row0_col6\" class=\"data row0 col6\" >0.11143</td>\n",
       "                        <td id=\"T_490bc3b0_891d_11ea_b318_dc71961baaa2row0_col7\" class=\"data row0 col7\" >0.173859</td>\n",
       "                        <td id=\"T_490bc3b0_891d_11ea_b318_dc71961baaa2row0_col8\" class=\"data row0 col8\" >0.0588548</td>\n",
       "                        <td id=\"T_490bc3b0_891d_11ea_b318_dc71961baaa2row0_col9\" class=\"data row0 col9\" >0.147503</td>\n",
       "                        <td id=\"T_490bc3b0_891d_11ea_b318_dc71961baaa2row0_col10\" class=\"data row0 col10\" >0.688972</td>\n",
       "                        <td id=\"T_490bc3b0_891d_11ea_b318_dc71961baaa2row0_col11\" class=\"data row0 col11\" >-0.313981</td>\n",
       "                        <td id=\"T_490bc3b0_891d_11ea_b318_dc71961baaa2row0_col12\" class=\"data row0 col12\" >-0.26951</td>\n",
       "            </tr>\n",
       "            <tr>\n",
       "                        <th id=\"T_490bc3b0_891d_11ea_b318_dc71961baaa2level0_row1\" class=\"row_heading level0 row1\" >Aspect</th>\n",
       "                        <td id=\"T_490bc3b0_891d_11ea_b318_dc71961baaa2row1_col0\" class=\"data row1 col0\" >0.0160353</td>\n",
       "                        <td id=\"T_490bc3b0_891d_11ea_b318_dc71961baaa2row1_col1\" class=\"data row1 col1\" >1</td>\n",
       "                        <td id=\"T_490bc3b0_891d_11ea_b318_dc71961baaa2row1_col2\" class=\"data row1 col2\" >0.0788737</td>\n",
       "                        <td id=\"T_490bc3b0_891d_11ea_b318_dc71961baaa2row1_col3\" class=\"data row1 col3\" >0.0180789</td>\n",
       "                        <td id=\"T_490bc3b0_891d_11ea_b318_dc71961baaa2row1_col4\" class=\"data row1 col4\" >0.0706502</td>\n",
       "                        <td id=\"T_490bc3b0_891d_11ea_b318_dc71961baaa2row1_col5\" class=\"data row1 col5\" >0.0242812</td>\n",
       "                        <td id=\"T_490bc3b0_891d_11ea_b318_dc71961baaa2row1_col6\" class=\"data row1 col6\" >-0.579443</td>\n",
       "                        <td id=\"T_490bc3b0_891d_11ea_b318_dc71961baaa2row1_col7\" class=\"data row1 col7\" >0.282509</td>\n",
       "                        <td id=\"T_490bc3b0_891d_11ea_b318_dc71961baaa2row1_col8\" class=\"data row1 col8\" >0.646862</td>\n",
       "                        <td id=\"T_490bc3b0_891d_11ea_b318_dc71961baaa2row1_col9\" class=\"data row1 col9\" >-0.108466</td>\n",
       "                        <td id=\"T_490bc3b0_891d_11ea_b318_dc71961baaa2row1_col10\" class=\"data row1 col10\" >0.00801303</td>\n",
       "                        <td id=\"T_490bc3b0_891d_11ea_b318_dc71961baaa2row1_col11\" class=\"data row1 col11\" >0.139175</td>\n",
       "                        <td id=\"T_490bc3b0_891d_11ea_b318_dc71961baaa2row1_col12\" class=\"data row1 col12\" >0.0166931</td>\n",
       "            </tr>\n",
       "            <tr>\n",
       "                        <th id=\"T_490bc3b0_891d_11ea_b318_dc71961baaa2level0_row2\" class=\"row_heading level0 row2\" >Slope</th>\n",
       "                        <td id=\"T_490bc3b0_891d_11ea_b318_dc71961baaa2row2_col0\" class=\"data row2 col0\" >-0.241253</td>\n",
       "                        <td id=\"T_490bc3b0_891d_11ea_b318_dc71961baaa2row2_col1\" class=\"data row2 col1\" >0.0788737</td>\n",
       "                        <td id=\"T_490bc3b0_891d_11ea_b318_dc71961baaa2row2_col2\" class=\"data row2 col2\" >1</td>\n",
       "                        <td id=\"T_490bc3b0_891d_11ea_b318_dc71961baaa2row2_col3\" class=\"data row2 col3\" >-0.0106761</td>\n",
       "                        <td id=\"T_490bc3b0_891d_11ea_b318_dc71961baaa2row2_col4\" class=\"data row2 col4\" >0.274438</td>\n",
       "                        <td id=\"T_490bc3b0_891d_11ea_b318_dc71961baaa2row2_col5\" class=\"data row2 col5\" >-0.21543</td>\n",
       "                        <td id=\"T_490bc3b0_891d_11ea_b318_dc71961baaa2row2_col6\" class=\"data row2 col6\" >-0.326809</td>\n",
       "                        <td id=\"T_490bc3b0_891d_11ea_b318_dc71961baaa2row2_col7\" class=\"data row2 col7\" >-0.443633</td>\n",
       "                        <td id=\"T_490bc3b0_891d_11ea_b318_dc71961baaa2row2_col8\" class=\"data row2 col8\" >-0.175916</td>\n",
       "                        <td id=\"T_490bc3b0_891d_11ea_b318_dc71961baaa2row2_col9\" class=\"data row2 col9\" >-0.184452</td>\n",
       "                        <td id=\"T_490bc3b0_891d_11ea_b318_dc71961baaa2row2_col10\" class=\"data row2 col10\" >-0.10549</td>\n",
       "                        <td id=\"T_490bc3b0_891d_11ea_b318_dc71961baaa2row2_col11\" class=\"data row2 col11\" >0.285623</td>\n",
       "                        <td id=\"T_490bc3b0_891d_11ea_b318_dc71961baaa2row2_col12\" class=\"data row2 col12\" >0.148425</td>\n",
       "            </tr>\n",
       "            <tr>\n",
       "                        <th id=\"T_490bc3b0_891d_11ea_b318_dc71961baaa2level0_row3\" class=\"row_heading level0 row3\" >Distance_To_Water_Source</th>\n",
       "                        <td id=\"T_490bc3b0_891d_11ea_b318_dc71961baaa2row3_col0\" class=\"data row3 col0\" >0.306403</td>\n",
       "                        <td id=\"T_490bc3b0_891d_11ea_b318_dc71961baaa2row3_col1\" class=\"data row3 col1\" >0.0180789</td>\n",
       "                        <td id=\"T_490bc3b0_891d_11ea_b318_dc71961baaa2row3_col2\" class=\"data row3 col2\" >-0.0106761</td>\n",
       "                        <td id=\"T_490bc3b0_891d_11ea_b318_dc71961baaa2row3_col3\" class=\"data row3 col3\" >1</td>\n",
       "                        <td id=\"T_490bc3b0_891d_11ea_b318_dc71961baaa2row3_col4\" class=\"data row3 col4\" >0.606458</td>\n",
       "                        <td id=\"T_490bc3b0_891d_11ea_b318_dc71961baaa2row3_col5\" class=\"data row3 col5\" >0.0730623</td>\n",
       "                        <td id=\"T_490bc3b0_891d_11ea_b318_dc71961baaa2row3_col6\" class=\"data row3 col6\" >-0.0280036</td>\n",
       "                        <td id=\"T_490bc3b0_891d_11ea_b318_dc71961baaa2row3_col7\" class=\"data row3 col7\" >0.0408975</td>\n",
       "                        <td id=\"T_490bc3b0_891d_11ea_b318_dc71961baaa2row3_col8\" class=\"data row3 col8\" >0.0532603</td>\n",
       "                        <td id=\"T_490bc3b0_891d_11ea_b318_dc71961baaa2row3_col9\" class=\"data row3 col9\" >0.0533502</td>\n",
       "                        <td id=\"T_490bc3b0_891d_11ea_b318_dc71961baaa2row3_col10\" class=\"data row3 col10\" >0.194087</td>\n",
       "                        <td id=\"T_490bc3b0_891d_11ea_b318_dc71961baaa2row3_col11\" class=\"data row3 col11\" >0.0561922</td>\n",
       "                        <td id=\"T_490bc3b0_891d_11ea_b318_dc71961baaa2row3_col12\" class=\"data row3 col12\" >-0.0209255</td>\n",
       "            </tr>\n",
       "            <tr>\n",
       "                        <th id=\"T_490bc3b0_891d_11ea_b318_dc71961baaa2level0_row4\" class=\"row_heading level0 row4\" >Standing_Distance_To_Water_Source</th>\n",
       "                        <td id=\"T_490bc3b0_891d_11ea_b318_dc71961baaa2row4_col0\" class=\"data row4 col0\" >0.0939033</td>\n",
       "                        <td id=\"T_490bc3b0_891d_11ea_b318_dc71961baaa2row4_col1\" class=\"data row4 col1\" >0.0706502</td>\n",
       "                        <td id=\"T_490bc3b0_891d_11ea_b318_dc71961baaa2row4_col2\" class=\"data row4 col2\" >0.274438</td>\n",
       "                        <td id=\"T_490bc3b0_891d_11ea_b318_dc71961baaa2row4_col3\" class=\"data row4 col3\" >0.606458</td>\n",
       "                        <td id=\"T_490bc3b0_891d_11ea_b318_dc71961baaa2row4_col4\" class=\"data row4 col4\" >1</td>\n",
       "                        <td id=\"T_490bc3b0_891d_11ea_b318_dc71961baaa2row4_col5\" class=\"data row4 col5\" >-0.0452287</td>\n",
       "                        <td id=\"T_490bc3b0_891d_11ea_b318_dc71961baaa2row4_col6\" class=\"data row4 col6\" >-0.166582</td>\n",
       "                        <td id=\"T_490bc3b0_891d_11ea_b318_dc71961baaa2row4_col7\" class=\"data row4 col7\" >-0.0907638</td>\n",
       "                        <td id=\"T_490bc3b0_891d_11ea_b318_dc71961baaa2row4_col8\" class=\"data row4 col8\" >0.0360396</td>\n",
       "                        <td id=\"T_490bc3b0_891d_11ea_b318_dc71961baaa2row4_col9\" class=\"data row4 col9\" >-0.0688779</td>\n",
       "                        <td id=\"T_490bc3b0_891d_11ea_b318_dc71961baaa2row4_col10\" class=\"data row4 col10\" >0.0713732</td>\n",
       "                        <td id=\"T_490bc3b0_891d_11ea_b318_dc71961baaa2row4_col11\" class=\"data row4 col11\" >0.188804</td>\n",
       "                        <td id=\"T_490bc3b0_891d_11ea_b318_dc71961baaa2row4_col12\" class=\"data row4 col12\" >0.0812314</td>\n",
       "            </tr>\n",
       "            <tr>\n",
       "                        <th id=\"T_490bc3b0_891d_11ea_b318_dc71961baaa2level0_row5\" class=\"row_heading level0 row5\" >Distance_To_Road</th>\n",
       "                        <td id=\"T_490bc3b0_891d_11ea_b318_dc71961baaa2row5_col0\" class=\"data row5 col0\" >0.365264</td>\n",
       "                        <td id=\"T_490bc3b0_891d_11ea_b318_dc71961baaa2row5_col1\" class=\"data row5 col1\" >0.0242812</td>\n",
       "                        <td id=\"T_490bc3b0_891d_11ea_b318_dc71961baaa2row5_col2\" class=\"data row5 col2\" >-0.21543</td>\n",
       "                        <td id=\"T_490bc3b0_891d_11ea_b318_dc71961baaa2row5_col3\" class=\"data row5 col3\" >0.0730623</td>\n",
       "                        <td id=\"T_490bc3b0_891d_11ea_b318_dc71961baaa2row5_col4\" class=\"data row5 col4\" >-0.0452287</td>\n",
       "                        <td id=\"T_490bc3b0_891d_11ea_b318_dc71961baaa2row5_col5\" class=\"data row5 col5\" >1</td>\n",
       "                        <td id=\"T_490bc3b0_891d_11ea_b318_dc71961baaa2row5_col6\" class=\"data row5 col6\" >0.0344113</td>\n",
       "                        <td id=\"T_490bc3b0_891d_11ea_b318_dc71961baaa2row5_col7\" class=\"data row5 col7\" >0.161022</td>\n",
       "                        <td id=\"T_490bc3b0_891d_11ea_b318_dc71961baaa2row5_col8\" class=\"data row5 col8\" >0.105629</td>\n",
       "                        <td id=\"T_490bc3b0_891d_11ea_b318_dc71961baaa2row5_col9\" class=\"data row5 col9\" >0.33177</td>\n",
       "                        <td id=\"T_490bc3b0_891d_11ea_b318_dc71961baaa2row5_col10\" class=\"data row5 col10\" >0.240599</td>\n",
       "                        <td id=\"T_490bc3b0_891d_11ea_b318_dc71961baaa2row5_col11\" class=\"data row5 col11\" >-0.445544</td>\n",
       "                        <td id=\"T_490bc3b0_891d_11ea_b318_dc71961baaa2row5_col12\" class=\"data row5 col12\" >-0.152594</td>\n",
       "            </tr>\n",
       "            <tr>\n",
       "                        <th id=\"T_490bc3b0_891d_11ea_b318_dc71961baaa2level0_row6\" class=\"row_heading level0 row6\" >Shadow_In_Morning</th>\n",
       "                        <td id=\"T_490bc3b0_891d_11ea_b318_dc71961baaa2row6_col0\" class=\"data row6 col0\" >0.11143</td>\n",
       "                        <td id=\"T_490bc3b0_891d_11ea_b318_dc71961baaa2row6_col1\" class=\"data row6 col1\" >-0.579443</td>\n",
       "                        <td id=\"T_490bc3b0_891d_11ea_b318_dc71961baaa2row6_col2\" class=\"data row6 col2\" >-0.326809</td>\n",
       "                        <td id=\"T_490bc3b0_891d_11ea_b318_dc71961baaa2row6_col3\" class=\"data row6 col3\" >-0.0280036</td>\n",
       "                        <td id=\"T_490bc3b0_891d_11ea_b318_dc71961baaa2row6_col4\" class=\"data row6 col4\" >-0.166582</td>\n",
       "                        <td id=\"T_490bc3b0_891d_11ea_b318_dc71961baaa2row6_col5\" class=\"data row6 col5\" >0.0344113</td>\n",
       "                        <td id=\"T_490bc3b0_891d_11ea_b318_dc71961baaa2row6_col6\" class=\"data row6 col6\" >1</td>\n",
       "                        <td id=\"T_490bc3b0_891d_11ea_b318_dc71961baaa2row6_col7\" class=\"data row6 col7\" >0.00862805</td>\n",
       "                        <td id=\"T_490bc3b0_891d_11ea_b318_dc71961baaa2row6_col8\" class=\"data row6 col8\" >-0.780706</td>\n",
       "                        <td id=\"T_490bc3b0_891d_11ea_b318_dc71961baaa2row6_col9\" class=\"data row6 col9\" >0.13246</td>\n",
       "                        <td id=\"T_490bc3b0_891d_11ea_b318_dc71961baaa2row6_col10\" class=\"data row6 col10\" >0.0405212</td>\n",
       "                        <td id=\"T_490bc3b0_891d_11ea_b318_dc71961baaa2row6_col11\" class=\"data row6 col11\" >-0.233838</td>\n",
       "                        <td id=\"T_490bc3b0_891d_11ea_b318_dc71961baaa2row6_col12\" class=\"data row6 col12\" >-0.0348112</td>\n",
       "            </tr>\n",
       "            <tr>\n",
       "                        <th id=\"T_490bc3b0_891d_11ea_b318_dc71961baaa2level0_row7\" class=\"row_heading level0 row7\" >Shadow_In_Midday</th>\n",
       "                        <td id=\"T_490bc3b0_891d_11ea_b318_dc71961baaa2row7_col0\" class=\"data row7 col0\" >0.173859</td>\n",
       "                        <td id=\"T_490bc3b0_891d_11ea_b318_dc71961baaa2row7_col1\" class=\"data row7 col1\" >0.282509</td>\n",
       "                        <td id=\"T_490bc3b0_891d_11ea_b318_dc71961baaa2row7_col2\" class=\"data row7 col2\" >-0.443633</td>\n",
       "                        <td id=\"T_490bc3b0_891d_11ea_b318_dc71961baaa2row7_col3\" class=\"data row7 col3\" >0.0408975</td>\n",
       "                        <td id=\"T_490bc3b0_891d_11ea_b318_dc71961baaa2row7_col4\" class=\"data row7 col4\" >-0.0907638</td>\n",
       "                        <td id=\"T_490bc3b0_891d_11ea_b318_dc71961baaa2row7_col5\" class=\"data row7 col5\" >0.161022</td>\n",
       "                        <td id=\"T_490bc3b0_891d_11ea_b318_dc71961baaa2row7_col6\" class=\"data row7 col6\" >0.00862805</td>\n",
       "                        <td id=\"T_490bc3b0_891d_11ea_b318_dc71961baaa2row7_col7\" class=\"data row7 col7\" >1</td>\n",
       "                        <td id=\"T_490bc3b0_891d_11ea_b318_dc71961baaa2row7_col8\" class=\"data row7 col8\" >0.499185</td>\n",
       "                        <td id=\"T_490bc3b0_891d_11ea_b318_dc71961baaa2row7_col9\" class=\"data row7 col9\" >0.0484102</td>\n",
       "                        <td id=\"T_490bc3b0_891d_11ea_b318_dc71961baaa2row7_col10\" class=\"data row7 col10\" >0.013388</td>\n",
       "                        <td id=\"T_490bc3b0_891d_11ea_b318_dc71961baaa2row7_col11\" class=\"data row7 col11\" >-0.06878</td>\n",
       "                        <td id=\"T_490bc3b0_891d_11ea_b318_dc71961baaa2row7_col12\" class=\"data row7 col12\" >-0.0805351</td>\n",
       "            </tr>\n",
       "            <tr>\n",
       "                        <th id=\"T_490bc3b0_891d_11ea_b318_dc71961baaa2level0_row8\" class=\"row_heading level0 row8\" >Shadow_In_Evening</th>\n",
       "                        <td id=\"T_490bc3b0_891d_11ea_b318_dc71961baaa2row8_col0\" class=\"data row8 col0\" >0.0588548</td>\n",
       "                        <td id=\"T_490bc3b0_891d_11ea_b318_dc71961baaa2row8_col1\" class=\"data row8 col1\" >0.646862</td>\n",
       "                        <td id=\"T_490bc3b0_891d_11ea_b318_dc71961baaa2row8_col2\" class=\"data row8 col2\" >-0.175916</td>\n",
       "                        <td id=\"T_490bc3b0_891d_11ea_b318_dc71961baaa2row8_col3\" class=\"data row8 col3\" >0.0532603</td>\n",
       "                        <td id=\"T_490bc3b0_891d_11ea_b318_dc71961baaa2row8_col4\" class=\"data row8 col4\" >0.0360396</td>\n",
       "                        <td id=\"T_490bc3b0_891d_11ea_b318_dc71961baaa2row8_col5\" class=\"data row8 col5\" >0.105629</td>\n",
       "                        <td id=\"T_490bc3b0_891d_11ea_b318_dc71961baaa2row8_col6\" class=\"data row8 col6\" >-0.780706</td>\n",
       "                        <td id=\"T_490bc3b0_891d_11ea_b318_dc71961baaa2row8_col7\" class=\"data row8 col7\" >0.499185</td>\n",
       "                        <td id=\"T_490bc3b0_891d_11ea_b318_dc71961baaa2row8_col8\" class=\"data row8 col8\" >1</td>\n",
       "                        <td id=\"T_490bc3b0_891d_11ea_b318_dc71961baaa2row8_col9\" class=\"data row8 col9\" >-0.0484733</td>\n",
       "                        <td id=\"T_490bc3b0_891d_11ea_b318_dc71961baaa2row8_col10\" class=\"data row8 col10\" >-0.000775822</td>\n",
       "                        <td id=\"T_490bc3b0_891d_11ea_b318_dc71961baaa2row8_col11\" class=\"data row8 col11\" >0.105747</td>\n",
       "                        <td id=\"T_490bc3b0_891d_11ea_b318_dc71961baaa2row8_col12\" class=\"data row8 col12\" >-0.0489107</td>\n",
       "            </tr>\n",
       "            <tr>\n",
       "                        <th id=\"T_490bc3b0_891d_11ea_b318_dc71961baaa2level0_row9\" class=\"row_heading level0 row9\" >Distance_To_Fire</th>\n",
       "                        <td id=\"T_490bc3b0_891d_11ea_b318_dc71961baaa2row9_col0\" class=\"data row9 col0\" >0.147503</td>\n",
       "                        <td id=\"T_490bc3b0_891d_11ea_b318_dc71961baaa2row9_col1\" class=\"data row9 col1\" >-0.108466</td>\n",
       "                        <td id=\"T_490bc3b0_891d_11ea_b318_dc71961baaa2row9_col2\" class=\"data row9 col2\" >-0.184452</td>\n",
       "                        <td id=\"T_490bc3b0_891d_11ea_b318_dc71961baaa2row9_col3\" class=\"data row9 col3\" >0.0533502</td>\n",
       "                        <td id=\"T_490bc3b0_891d_11ea_b318_dc71961baaa2row9_col4\" class=\"data row9 col4\" >-0.0688779</td>\n",
       "                        <td id=\"T_490bc3b0_891d_11ea_b318_dc71961baaa2row9_col5\" class=\"data row9 col5\" >0.33177</td>\n",
       "                        <td id=\"T_490bc3b0_891d_11ea_b318_dc71961baaa2row9_col6\" class=\"data row9 col6\" >0.13246</td>\n",
       "                        <td id=\"T_490bc3b0_891d_11ea_b318_dc71961baaa2row9_col7\" class=\"data row9 col7\" >0.0484102</td>\n",
       "                        <td id=\"T_490bc3b0_891d_11ea_b318_dc71961baaa2row9_col8\" class=\"data row9 col8\" >-0.0484733</td>\n",
       "                        <td id=\"T_490bc3b0_891d_11ea_b318_dc71961baaa2row9_col9\" class=\"data row9 col9\" >1</td>\n",
       "                        <td id=\"T_490bc3b0_891d_11ea_b318_dc71961baaa2row9_col10\" class=\"data row9 col10\" >0.100806</td>\n",
       "                        <td id=\"T_490bc3b0_891d_11ea_b318_dc71961baaa2row9_col11\" class=\"data row9 col11\" >-0.416372</td>\n",
       "                        <td id=\"T_490bc3b0_891d_11ea_b318_dc71961baaa2row9_col12\" class=\"data row9 col12\" >-0.108442</td>\n",
       "            </tr>\n",
       "            <tr>\n",
       "                        <th id=\"T_490bc3b0_891d_11ea_b318_dc71961baaa2level0_row10\" class=\"row_heading level0 row10\" >Turf</th>\n",
       "                        <td id=\"T_490bc3b0_891d_11ea_b318_dc71961baaa2row10_col0\" class=\"data row10 col0\" >0.688972</td>\n",
       "                        <td id=\"T_490bc3b0_891d_11ea_b318_dc71961baaa2row10_col1\" class=\"data row10 col1\" >0.00801303</td>\n",
       "                        <td id=\"T_490bc3b0_891d_11ea_b318_dc71961baaa2row10_col2\" class=\"data row10 col2\" >-0.10549</td>\n",
       "                        <td id=\"T_490bc3b0_891d_11ea_b318_dc71961baaa2row10_col3\" class=\"data row10 col3\" >0.194087</td>\n",
       "                        <td id=\"T_490bc3b0_891d_11ea_b318_dc71961baaa2row10_col4\" class=\"data row10 col4\" >0.0713732</td>\n",
       "                        <td id=\"T_490bc3b0_891d_11ea_b318_dc71961baaa2row10_col5\" class=\"data row10 col5\" >0.240599</td>\n",
       "                        <td id=\"T_490bc3b0_891d_11ea_b318_dc71961baaa2row10_col6\" class=\"data row10 col6\" >0.0405212</td>\n",
       "                        <td id=\"T_490bc3b0_891d_11ea_b318_dc71961baaa2row10_col7\" class=\"data row10 col7\" >0.013388</td>\n",
       "                        <td id=\"T_490bc3b0_891d_11ea_b318_dc71961baaa2row10_col8\" class=\"data row10 col8\" >-0.000775822</td>\n",
       "                        <td id=\"T_490bc3b0_891d_11ea_b318_dc71961baaa2row10_col9\" class=\"data row10 col9\" >0.100806</td>\n",
       "                        <td id=\"T_490bc3b0_891d_11ea_b318_dc71961baaa2row10_col10\" class=\"data row10 col10\" >1</td>\n",
       "                        <td id=\"T_490bc3b0_891d_11ea_b318_dc71961baaa2row10_col11\" class=\"data row10 col11\" >-0.271446</td>\n",
       "                        <td id=\"T_490bc3b0_891d_11ea_b318_dc71961baaa2row10_col12\" class=\"data row10 col12\" >-0.163814</td>\n",
       "            </tr>\n",
       "            <tr>\n",
       "                        <th id=\"T_490bc3b0_891d_11ea_b318_dc71961baaa2level0_row11\" class=\"row_heading level0 row11\" >Neighbourhood_Type</th>\n",
       "                        <td id=\"T_490bc3b0_891d_11ea_b318_dc71961baaa2row11_col0\" class=\"data row11 col0\" >-0.313981</td>\n",
       "                        <td id=\"T_490bc3b0_891d_11ea_b318_dc71961baaa2row11_col1\" class=\"data row11 col1\" >0.139175</td>\n",
       "                        <td id=\"T_490bc3b0_891d_11ea_b318_dc71961baaa2row11_col2\" class=\"data row11 col2\" >0.285623</td>\n",
       "                        <td id=\"T_490bc3b0_891d_11ea_b318_dc71961baaa2row11_col3\" class=\"data row11 col3\" >0.0561922</td>\n",
       "                        <td id=\"T_490bc3b0_891d_11ea_b318_dc71961baaa2row11_col4\" class=\"data row11 col4\" >0.188804</td>\n",
       "                        <td id=\"T_490bc3b0_891d_11ea_b318_dc71961baaa2row11_col5\" class=\"data row11 col5\" >-0.445544</td>\n",
       "                        <td id=\"T_490bc3b0_891d_11ea_b318_dc71961baaa2row11_col6\" class=\"data row11 col6\" >-0.233838</td>\n",
       "                        <td id=\"T_490bc3b0_891d_11ea_b318_dc71961baaa2row11_col7\" class=\"data row11 col7\" >-0.06878</td>\n",
       "                        <td id=\"T_490bc3b0_891d_11ea_b318_dc71961baaa2row11_col8\" class=\"data row11 col8\" >0.105747</td>\n",
       "                        <td id=\"T_490bc3b0_891d_11ea_b318_dc71961baaa2row11_col9\" class=\"data row11 col9\" >-0.416372</td>\n",
       "                        <td id=\"T_490bc3b0_891d_11ea_b318_dc71961baaa2row11_col10\" class=\"data row11 col10\" >-0.271446</td>\n",
       "                        <td id=\"T_490bc3b0_891d_11ea_b318_dc71961baaa2row11_col11\" class=\"data row11 col11\" >1</td>\n",
       "                        <td id=\"T_490bc3b0_891d_11ea_b318_dc71961baaa2row11_col12\" class=\"data row11 col12\" >0.275833</td>\n",
       "            </tr>\n",
       "            <tr>\n",
       "                        <th id=\"T_490bc3b0_891d_11ea_b318_dc71961baaa2level0_row12\" class=\"row_heading level0 row12\" >plant_type_labels</th>\n",
       "                        <td id=\"T_490bc3b0_891d_11ea_b318_dc71961baaa2row12_col0\" class=\"data row12 col0\" >-0.26951</td>\n",
       "                        <td id=\"T_490bc3b0_891d_11ea_b318_dc71961baaa2row12_col1\" class=\"data row12 col1\" >0.0166931</td>\n",
       "                        <td id=\"T_490bc3b0_891d_11ea_b318_dc71961baaa2row12_col2\" class=\"data row12 col2\" >0.148425</td>\n",
       "                        <td id=\"T_490bc3b0_891d_11ea_b318_dc71961baaa2row12_col3\" class=\"data row12 col3\" >-0.0209255</td>\n",
       "                        <td id=\"T_490bc3b0_891d_11ea_b318_dc71961baaa2row12_col4\" class=\"data row12 col4\" >0.0812314</td>\n",
       "                        <td id=\"T_490bc3b0_891d_11ea_b318_dc71961baaa2row12_col5\" class=\"data row12 col5\" >-0.152594</td>\n",
       "                        <td id=\"T_490bc3b0_891d_11ea_b318_dc71961baaa2row12_col6\" class=\"data row12 col6\" >-0.0348112</td>\n",
       "                        <td id=\"T_490bc3b0_891d_11ea_b318_dc71961baaa2row12_col7\" class=\"data row12 col7\" >-0.0805351</td>\n",
       "                        <td id=\"T_490bc3b0_891d_11ea_b318_dc71961baaa2row12_col8\" class=\"data row12 col8\" >-0.0489107</td>\n",
       "                        <td id=\"T_490bc3b0_891d_11ea_b318_dc71961baaa2row12_col9\" class=\"data row12 col9\" >-0.108442</td>\n",
       "                        <td id=\"T_490bc3b0_891d_11ea_b318_dc71961baaa2row12_col10\" class=\"data row12 col10\" >-0.163814</td>\n",
       "                        <td id=\"T_490bc3b0_891d_11ea_b318_dc71961baaa2row12_col11\" class=\"data row12 col11\" >0.275833</td>\n",
       "                        <td id=\"T_490bc3b0_891d_11ea_b318_dc71961baaa2row12_col12\" class=\"data row12 col12\" >1</td>\n",
       "            </tr>\n",
       "    </tbody></table>"
      ],
      "text/plain": [
       "<pandas.io.formats.style.Styler at 0x1ae94118ec8>"
      ]
     },
     "execution_count": 28,
     "metadata": {},
     "output_type": "execute_result"
    }
   ],
   "source": [
    "corr = df.corr()\n",
    "corr.style.background_gradient(cmap='summer_r')"
   ]
  },
  {
   "cell_type": "code",
   "execution_count": 29,
   "metadata": {},
   "outputs": [
    {
     "data": {
      "text/plain": [
       "<matplotlib.axes._subplots.AxesSubplot at 0x1ae9483f948>"
      ]
     },
     "execution_count": 29,
     "metadata": {},
     "output_type": "execute_result"
    },
    {
     "data": {
      "image/png": "[encoded data removed]",
      "text/plain": [
       "<Figure size 864x504 with 2 Axes>"
      ]
     },
     "metadata": {
      "needs_background": "light"
     },
     "output_type": "display_data"
    }
   ],
   "source": [
    "# Plotting heatmap for better visualization\n",
    "fig = plt.subplots(figsize=(12,7))\n",
    "sns.heatmap(corr, cmap=\"summer_r\", annot=True)"
   ]
  },
  {
   "cell_type": "markdown",
   "metadata": {},
   "source": [
    "Dark shades represents positive correlation while lighter shades represents negative correlation.\n"
   ]
  },
  {
   "cell_type": "code",
   "execution_count": 30,
   "metadata": {},
   "outputs": [
    {
     "data": {
      "text/plain": [
       "Neighbourhood_Type                   0.275833\n",
       "Slope                                0.148425\n",
       "Standing_Distance_To_Water_Source    0.081231\n",
       "Aspect                               0.016693\n",
       "Distance_To_Water_Source            -0.020926\n",
       "Shadow_In_Morning                   -0.034811\n",
       "Shadow_In_Evening                   -0.048911\n",
       "Shadow_In_Midday                    -0.080535\n",
       "Distance_To_Fire                    -0.108442\n",
       "Distance_To_Road                    -0.152594\n",
       "Turf                                -0.163814\n",
       "Heigh_From_Sea_Level                -0.269510\n",
       "dtype: float64"
      ]
     },
     "execution_count": 30,
     "metadata": {},
     "output_type": "execute_result"
    }
   ],
   "source": [
    "corr_target = df.drop(\"plant_type_labels\", axis=1).apply(lambda x: x.corr(df.plant_type_labels))\n",
    "corr_target.sort_values(ascending = False)"
   ]
  },
  {
   "cell_type": "markdown",
   "metadata": {},
   "source": [
    "From the above correlation values we can say that plant_type is higly correlated with Neighborhood_type, slope, Standing_Distance_To_Water_Source and aspect."
   ]
  },
  {
   "cell_type": "code",
   "execution_count": 31,
   "metadata": {
    "scrolled": true
   },
   "outputs": [
    {
     "data": {
      "text/plain": [
       "Text(0.5, 1.0, 'Relevant features of Plant_Type')"
      ]
     },
     "execution_count": 31,
     "metadata": {},
     "output_type": "execute_result"
    },
    {
     "data": {
      "image/png": "[encoded data removed]",
      "text/plain": [
       "<Figure size 576x576 with 1 Axes>"
      ]
     },
     "metadata": {
      "needs_background": "light"
     },
     "output_type": "display_data"
    }
   ],
   "source": [
    "# Plotting correlation between all variables and target variable\n",
    "\n",
    "plt.rcParams['figure.figsize'] = (8, 8)\n",
    "corr_target.sort_values().plot(kind = \"barh\", color = 'orange')\n",
    "plt.title(\"Relevant features of Plant_Type\")"
   ]
  },
  {
   "cell_type": "markdown",
   "metadata": {},
   "source": [
    "## 2A) Handling outliers ( imputation,Removal )"
   ]
  },
  {
   "cell_type": "markdown",
   "metadata": {},
   "source": [
    "### Let's find out the outliers"
   ]
  },
  {
   "cell_type": "code",
   "execution_count": 32,
   "metadata": {},
   "outputs": [
    {
     "data": {
      "image/png": "[encoded data removed]",
      "text/plain": [
       "<Figure size 1440x3600 with 21 Axes>"
      ]
     },
     "metadata": {
      "needs_background": "light"
     },
     "output_type": "display_data"
    }
   ],
   "source": [
    "df.plot(kind='box', subplots=True, layout=(7,3), sharex=False, sharey=False, figsize=(20,50))\n",
    "plt.show()"
   ]
  },
  {
   "cell_type": "markdown",
   "metadata": {},
   "source": [
    "As we can see from the above boxplots there are some outliers in our dataset. Let's cap the outliers because if we use IQR method then we will be removing so many values from the data which we don't want. A value is identified as outlier if it exceeds the value of the 99th percentile of the variable by some factor, or if it is below the 1st percentile of given values by some factor.The outlier is then capped at a certain value above the P99 value or floored at a factor below the P1 value."
   ]
  },
  {
   "cell_type": "code",
   "execution_count": 33,
   "metadata": {
    "scrolled": true
   },
   "outputs": [],
   "source": [
    "# Capping\n",
    "for col in df.columns:\n",
    "    percentiles = df[col].quantile([0.01,0.99]).values\n",
    "    df[col][df[col] <= percentiles[0]] = percentiles[0]\n",
    "    df[col][df[col] >= percentiles[1]] = percentiles[1]"
   ]
  },
  {
   "cell_type": "markdown",
   "metadata": {},
   "source": [
    "Outliers has been capped. Now, we can train our model. We don't need to apply one hot encoder as our columns are not in categorical variables."
   ]
  },
  {
   "cell_type": "markdown",
   "metadata": {},
   "source": [
    "## 3&4) Data Engineering  and Data Preparation for Modeling"
   ]
  },
  {
   "cell_type": "code",
   "execution_count": 34,
   "metadata": {},
   "outputs": [],
   "source": [
    "# Assigning X and y for modeling \n",
    "\n",
    "X = df.drop('plant_type_labels', axis=1) \n",
    "y = df.plant_type_labels"
   ]
  },
  {
   "cell_type": "code",
   "execution_count": 35,
   "metadata": {},
   "outputs": [
    {
     "data": {
      "text/html": [
       "<div>\n",
       "<style scoped>\n",
       "    .dataframe tbody tr th:only-of-type {\n",
       "        vertical-align: middle;\n",
       "    }\n",
       "\n",
       "    .dataframe tbody tr th {\n",
       "        vertical-align: top;\n",
       "    }\n",
       "\n",
       "    .dataframe thead th {\n",
       "        text-align: right;\n",
       "    }\n",
       "</style>\n",
       "<table border=\"1\" class=\"dataframe\">\n",
       "  <thead>\n",
       "    <tr style=\"text-align: right;\">\n",
       "      <th></th>\n",
       "      <th>Heigh_From_Sea_Level</th>\n",
       "      <th>Aspect</th>\n",
       "      <th>Slope</th>\n",
       "      <th>Distance_To_Water_Source</th>\n",
       "      <th>Standing_Distance_To_Water_Source</th>\n",
       "      <th>Distance_To_Road</th>\n",
       "      <th>Shadow_In_Morning</th>\n",
       "      <th>Shadow_In_Midday</th>\n",
       "      <th>Shadow_In_Evening</th>\n",
       "      <th>Distance_To_Fire</th>\n",
       "      <th>Turf</th>\n",
       "      <th>Neighbourhood_Type</th>\n",
       "    </tr>\n",
       "  </thead>\n",
       "  <tbody>\n",
       "    <tr>\n",
       "      <td>0</td>\n",
       "      <td>2984</td>\n",
       "      <td>87</td>\n",
       "      <td>10</td>\n",
       "      <td>234</td>\n",
       "      <td>62</td>\n",
       "      <td>3700</td>\n",
       "      <td>235</td>\n",
       "      <td>224.0</td>\n",
       "      <td>119</td>\n",
       "      <td>2751</td>\n",
       "      <td>29</td>\n",
       "      <td>1</td>\n",
       "    </tr>\n",
       "    <tr>\n",
       "      <td>1</td>\n",
       "      <td>3021</td>\n",
       "      <td>283</td>\n",
       "      <td>31</td>\n",
       "      <td>630</td>\n",
       "      <td>250</td>\n",
       "      <td>2155</td>\n",
       "      <td>127</td>\n",
       "      <td>224.0</td>\n",
       "      <td>226</td>\n",
       "      <td>1519</td>\n",
       "      <td>13</td>\n",
       "      <td>3</td>\n",
       "    </tr>\n",
       "    <tr>\n",
       "      <td>2</td>\n",
       "      <td>3357</td>\n",
       "      <td>164</td>\n",
       "      <td>14</td>\n",
       "      <td>618</td>\n",
       "      <td>151</td>\n",
       "      <td>1410</td>\n",
       "      <td>232</td>\n",
       "      <td>244.0</td>\n",
       "      <td>140</td>\n",
       "      <td>1866</td>\n",
       "      <td>32</td>\n",
       "      <td>3</td>\n",
       "    </tr>\n",
       "  </tbody>\n",
       "</table>\n",
       "</div>"
      ],
      "text/plain": [
       "   Heigh_From_Sea_Level  Aspect  Slope  Distance_To_Water_Source  \\\n",
       "0                  2984      87     10                       234   \n",
       "1                  3021     283     31                       630   \n",
       "2                  3357     164     14                       618   \n",
       "\n",
       "   Standing_Distance_To_Water_Source  Distance_To_Road  Shadow_In_Morning  \\\n",
       "0                                 62              3700                235   \n",
       "1                                250              2155                127   \n",
       "2                                151              1410                232   \n",
       "\n",
       "   Shadow_In_Midday  Shadow_In_Evening  Distance_To_Fire  Turf  \\\n",
       "0             224.0                119              2751    29   \n",
       "1             224.0                226              1519    13   \n",
       "2             244.0                140              1866    32   \n",
       "\n",
       "   Neighbourhood_Type  \n",
       "0                   1  \n",
       "1                   3  \n",
       "2                   3  "
      ]
     },
     "execution_count": 35,
     "metadata": {},
     "output_type": "execute_result"
    }
   ],
   "source": [
    "X.head(3)"
   ]
  },
  {
   "cell_type": "code",
   "execution_count": 36,
   "metadata": {},
   "outputs": [
    {
     "data": {
      "text/plain": [
       "0    1\n",
       "1    1\n",
       "2    0\n",
       "Name: plant_type_labels, dtype: int32"
      ]
     },
     "execution_count": 36,
     "metadata": {},
     "output_type": "execute_result"
    }
   ],
   "source": [
    "y.head(3)"
   ]
  },
  {
   "cell_type": "code",
   "execution_count": 37,
   "metadata": {},
   "outputs": [],
   "source": [
    "# Splitting X, y into train and test data \n",
    "X_train, X_test, y_train, y_test = train_test_split(X, y, random_state = 0) \n"
   ]
  },
  {
   "cell_type": "markdown",
   "metadata": {},
   "source": [
    "## 5) Classification Model Prediction with Hyperparameter Tuning"
   ]
  },
  {
   "cell_type": "markdown",
   "metadata": {},
   "source": [
    "### Mode 1 -  K-nearest neighbor classifier "
   ]
  },
  {
   "cell_type": "code",
   "execution_count": 38,
   "metadata": {},
   "outputs": [
    {
     "name": "stdout",
     "output_type": "stream",
     "text": [
      "Fitting 3 folds for each of 16 candidates, totalling 48 fits\n"
     ]
    },
    {
     "name": "stderr",
     "output_type": "stream",
     "text": [
      "[Parallel(n_jobs=-1)]: Using backend LokyBackend with 4 concurrent workers.\n",
      "[Parallel(n_jobs=-1)]: Done  48 out of  48 | elapsed:  7.4min finished\n"
     ]
    }
   ],
   "source": [
    "#Import knearest neighbors Classifier model\n",
    "from sklearn.neighbors import KNeighborsClassifier\n",
    "\n",
    "grid_params = {\n",
    "    'n_neighbors': [3,5,11,19],\n",
    "    'weights':['uniform','distance'],\n",
    "    'metric': ['euclidean','manhattan']\n",
    "}\n",
    "\n",
    "gs = GridSearchCV(\n",
    "    KNeighborsClassifier(),\n",
    "    grid_params,\n",
    "    verbose = 1,\n",
    "    cv= 3, n_jobs = -1)\n",
    "\n",
    "gs_results = gs.fit(X_train, y_train)"
   ]
  },
  {
   "cell_type": "code",
   "execution_count": 39,
   "metadata": {},
   "outputs": [
    {
     "data": {
      "text/plain": [
       "0.9585176388243462"
      ]
     },
     "execution_count": 39,
     "metadata": {},
     "output_type": "execute_result"
    }
   ],
   "source": [
    "gs_results.best_score_"
   ]
  },
  {
   "cell_type": "code",
   "execution_count": 40,
   "metadata": {},
   "outputs": [
    {
     "data": {
      "text/plain": [
       "{'metric': 'manhattan', 'n_neighbors': 3, 'weights': 'distance'}"
      ]
     },
     "execution_count": 40,
     "metadata": {},
     "output_type": "execute_result"
    }
   ],
   "source": [
    "gs_results.best_params_"
   ]
  },
  {
   "cell_type": "code",
   "execution_count": 41,
   "metadata": {},
   "outputs": [
    {
     "data": {
      "text/plain": [
       "KNeighborsClassifier(algorithm='auto', leaf_size=30, metric='manhattan',\n",
       "                     metric_params=None, n_jobs=None, n_neighbors=3, p=2,\n",
       "                     weights='distance')"
      ]
     },
     "execution_count": 41,
     "metadata": {},
     "output_type": "execute_result"
    }
   ],
   "source": [
    "gs_results.best_estimator_"
   ]
  },
  {
   "cell_type": "code",
   "execution_count": 43,
   "metadata": {},
   "outputs": [],
   "source": [
    "best_estimator_knn = gs_results.best_estimator_"
   ]
  },
  {
   "cell_type": "code",
   "execution_count": 45,
   "metadata": {},
   "outputs": [
    {
     "name": "stdout",
     "output_type": "stream",
     "text": [
      "Accuracy: 96.60249735376884%\n",
      "Confusion Matrix:\n",
      "[[40718  1308     1     0    20     1    93]\n",
      " [ 1245 55337    91     0   138    68    23]\n",
      " [    1   105  6865    33    14   151     0]\n",
      " [    0     0    59   440     0    23     0]\n",
      " [   17   164    18     0  1711     5     1]\n",
      " [    4    57   136    12     6  3245     0]\n",
      " [  137    17     0     0     0     0  3939]]\n"
     ]
    }
   ],
   "source": [
    "from sklearn.metrics import accuracy_score\n",
    "best_pred_y_knn = best_estimator_knn.predict(X_test)\n",
    "print(\"Accuracy: {}%\".format(accuracy_score(y_test, best_pred_y_knn)*100))\n",
    "print(\"Confusion Matrix:\")\n",
    "print(\"{}\".format(confusion_matrix(y_test, best_pred_y_knn)))"
   ]
  },
  {
   "cell_type": "code",
   "execution_count": 46,
   "metadata": {},
   "outputs": [
    {
     "name": "stdout",
     "output_type": "stream",
     "text": [
      "              precision    recall  f1-score   support\n",
      "\n",
      "           0       0.97      0.97      0.97     42141\n",
      "           1       0.97      0.97      0.97     56902\n",
      "           2       0.96      0.96      0.96      7169\n",
      "           3       0.91      0.84      0.87       522\n",
      "           4       0.91      0.89      0.90      1916\n",
      "           5       0.93      0.94      0.93      3460\n",
      "           6       0.97      0.96      0.97      4093\n",
      "\n",
      "    accuracy                           0.97    116203\n",
      "   macro avg       0.94      0.93      0.94    116203\n",
      "weighted avg       0.97      0.97      0.97    116203\n",
      "\n"
     ]
    }
   ],
   "source": [
    "print(classification_report(y_test, best_pred_y_knn))"
   ]
  },
  {
   "cell_type": "markdown",
   "metadata": {},
   "source": [
    "### Model 2 -  Random Forest Classifier "
   ]
  },
  {
   "cell_type": "code",
   "execution_count": 47,
   "metadata": {},
   "outputs": [],
   "source": [
    "from sklearn.ensemble import RandomForestClassifier\n",
    "rfc = RandomForestClassifier(random_state=42)"
   ]
  },
  {
   "cell_type": "code",
   "execution_count": 48,
   "metadata": {},
   "outputs": [],
   "source": [
    "param_grid_rf = { \n",
    "    'n_estimators': [200, 500],\n",
    "    'max_features': ['auto', 'sqrt', 'log2'],\n",
    "    'max_depth' : [4,5,6,7,8],\n",
    "    'criterion' :['gini', 'entropy']\n",
    "}"
   ]
  },
  {
   "cell_type": "code",
   "execution_count": 49,
   "metadata": {},
   "outputs": [
    {
     "data": {
      "text/plain": [
       "GridSearchCV(cv=5, error_score='raise-deprecating',\n",
       "             estimator=RandomForestClassifier(bootstrap=True, class_weight=None,\n",
       "                                              criterion='gini', max_depth=None,\n",
       "                                              max_features='auto',\n",
       "                                              max_leaf_nodes=None,\n",
       "                                              min_impurity_decrease=0.0,\n",
       "                                              min_impurity_split=None,\n",
       "                                              min_samples_leaf=1,\n",
       "                                              min_samples_split=2,\n",
       "                                              min_weight_fraction_leaf=0.0,\n",
       "                                              n_estimators='warn', n_jobs=None,\n",
       "                                              oob_score=False, random_state=42,\n",
       "                                              verbose=0, warm_start=False),\n",
       "             iid='warn', n_jobs=-1,\n",
       "             param_grid={'criterion': ['gini', 'entropy'],\n",
       "                         'max_depth': [4, 5, 6, 7, 8],\n",
       "                         'max_features': ['auto', 'sqrt', 'log2'],\n",
       "                         'n_estimators': [200, 500]},\n",
       "             pre_dispatch='2*n_jobs', refit=True, return_train_score=False,\n",
       "             scoring=None, verbose=0)"
      ]
     },
     "execution_count": 49,
     "metadata": {},
     "output_type": "execute_result"
    }
   ],
   "source": [
    "CV_rfc = GridSearchCV(estimator=rfc, param_grid=param_grid_rf, cv= 5, n_jobs = -1)\n",
    "CV_rfc.fit(X_train, y_train)"
   ]
  },
  {
   "cell_type": "code",
   "execution_count": 50,
   "metadata": {},
   "outputs": [
    {
     "data": {
      "text/plain": [
       "{'criterion': 'entropy',\n",
       " 'max_depth': 8,\n",
       " 'max_features': 'auto',\n",
       " 'n_estimators': 500}"
      ]
     },
     "execution_count": 50,
     "metadata": {},
     "output_type": "execute_result"
    }
   ],
   "source": [
    "CV_rfc.best_params_"
   ]
  },
  {
   "cell_type": "code",
   "execution_count": 51,
   "metadata": {},
   "outputs": [
    {
     "data": {
      "text/plain": [
       "RandomForestClassifier(bootstrap=True, class_weight=None, criterion='entropy',\n",
       "                       max_depth=8, max_features='auto', max_leaf_nodes=None,\n",
       "                       min_impurity_decrease=0.0, min_impurity_split=None,\n",
       "                       min_samples_leaf=1, min_samples_split=2,\n",
       "                       min_weight_fraction_leaf=0.0, n_estimators=500,\n",
       "                       n_jobs=None, oob_score=False, random_state=42, verbose=0,\n",
       "                       warm_start=False)"
      ]
     },
     "execution_count": 51,
     "metadata": {},
     "output_type": "execute_result"
    }
   ],
   "source": [
    "CV_rfc.best_estimator_"
   ]
  },
  {
   "cell_type": "code",
   "execution_count": 52,
   "metadata": {},
   "outputs": [
    {
     "data": {
      "text/plain": [
       "0.7531396476251125"
      ]
     },
     "execution_count": 52,
     "metadata": {},
     "output_type": "execute_result"
    }
   ],
   "source": [
    "CV_rfc.best_score_"
   ]
  },
  {
   "cell_type": "code",
   "execution_count": 53,
   "metadata": {},
   "outputs": [],
   "source": [
    "best_estimator_rf = CV_rfc.best_estimator_"
   ]
  },
  {
   "cell_type": "code",
   "execution_count": 54,
   "metadata": {},
   "outputs": [
    {
     "name": "stdout",
     "output_type": "stream",
     "text": [
      "Accuracy: 75.3405677994544%\n",
      "Confusion Matrix:\n",
      "[[31316 10506     8     0     1     0   310]\n",
      " [ 9950 46272   544     0    24    70    42]\n",
      " [    0   747  6284    26     0   112     0]\n",
      " [    0     0   289   229     0     4     0]\n",
      " [    0  1638    54     0   224     0     0]\n",
      " [    0  1068  1767    15     0   610     0]\n",
      " [ 1460    20     0     0     0     0  2613]]\n"
     ]
    }
   ],
   "source": [
    "from sklearn.metrics import accuracy_score\n",
    "best_pred_y_rf = best_estimator_rf.predict(X_test)\n",
    "print(\"Accuracy: {}%\".format(accuracy_score(y_test, best_pred_y_rf)*100))\n",
    "print(\"Confusion Matrix:\")\n",
    "print(\"{}\".format(confusion_matrix(y_test, best_pred_y_rf)))"
   ]
  },
  {
   "cell_type": "code",
   "execution_count": 55,
   "metadata": {},
   "outputs": [
    {
     "name": "stdout",
     "output_type": "stream",
     "text": [
      "              precision    recall  f1-score   support\n",
      "\n",
      "           0       0.73      0.74      0.74     42141\n",
      "           1       0.77      0.81      0.79     56902\n",
      "           2       0.70      0.88      0.78      7169\n",
      "           3       0.85      0.44      0.58       522\n",
      "           4       0.90      0.12      0.21      1916\n",
      "           5       0.77      0.18      0.29      3460\n",
      "           6       0.88      0.64      0.74      4093\n",
      "\n",
      "    accuracy                           0.75    116203\n",
      "   macro avg       0.80      0.54      0.59    116203\n",
      "weighted avg       0.76      0.75      0.74    116203\n",
      "\n"
     ]
    }
   ],
   "source": [
    "print(classification_report(y_test, best_pred_y_rf))"
   ]
  },
  {
   "cell_type": "markdown",
   "metadata": {},
   "source": [
    "### Model 3 -  Decision Tree Classifier"
   ]
  },
  {
   "cell_type": "code",
   "execution_count": 56,
   "metadata": {},
   "outputs": [
    {
     "name": "stdout",
     "output_type": "stream",
     "text": [
      "Fitting 3 folds for each of 294 candidates, totalling 882 fits\n"
     ]
    },
    {
     "name": "stderr",
     "output_type": "stream",
     "text": [
      "[Parallel(n_jobs=-1)]: Using backend LokyBackend with 4 concurrent workers.\n",
      "[Parallel(n_jobs=-1)]: Done  42 tasks      | elapsed:   22.8s\n",
      "[Parallel(n_jobs=-1)]: Done 192 tasks      | elapsed:  2.0min\n",
      "[Parallel(n_jobs=-1)]: Done 442 tasks      | elapsed:  5.5min\n",
      "[Parallel(n_jobs=-1)]: Done 792 tasks      | elapsed: 10.8min\n",
      "[Parallel(n_jobs=-1)]: Done 882 out of 882 | elapsed: 12.3min finished\n"
     ]
    },
    {
     "data": {
      "text/plain": [
       "GridSearchCV(cv=3, error_score='raise-deprecating',\n",
       "             estimator=DecisionTreeClassifier(class_weight=None,\n",
       "                                              criterion='gini', max_depth=None,\n",
       "                                              max_features=None,\n",
       "                                              max_leaf_nodes=None,\n",
       "                                              min_impurity_decrease=0.0,\n",
       "                                              min_impurity_split=None,\n",
       "                                              min_samples_leaf=1,\n",
       "                                              min_samples_split=2,\n",
       "                                              min_weight_fraction_leaf=0.0,\n",
       "                                              presort=False, random_state=42,\n",
       "                                              splitter='best'),\n",
       "             iid='warn', n_jobs=-1,\n",
       "             param_grid={'max_leaf_nodes': [2, 3, 4, 5, 6, 7, 8, 9, 10, 11, 12,\n",
       "                                            13, 14, 15, 16, 17, 18, 19, 20, 21,\n",
       "                                            22, 23, 24, 25, 26, 27, 28, 29, 30,\n",
       "                                            31, ...],\n",
       "                         'min_samples_split': [2, 3, 4]},\n",
       "             pre_dispatch='2*n_jobs', refit=True, return_train_score=False,\n",
       "             scoring=None, verbose=1)"
      ]
     },
     "execution_count": 56,
     "metadata": {},
     "output_type": "execute_result"
    }
   ],
   "source": [
    "from sklearn.tree import DecisionTreeClassifier\n",
    "\n",
    "params_dtree = {'max_leaf_nodes': list(range(2, 100)), 'min_samples_split': [2, 3, 4]}\n",
    "\n",
    "grid_search_cv_dtree = GridSearchCV(DecisionTreeClassifier(random_state=42), params_dtree, verbose=1, cv=3, n_jobs = -1)\n",
    "\n",
    "grid_search_cv_dtree.fit(X_train, y_train)"
   ]
  },
  {
   "cell_type": "code",
   "execution_count": 57,
   "metadata": {},
   "outputs": [
    {
     "data": {
      "text/plain": [
       "DecisionTreeClassifier(class_weight=None, criterion='gini', max_depth=None,\n",
       "                       max_features=None, max_leaf_nodes=99,\n",
       "                       min_impurity_decrease=0.0, min_impurity_split=None,\n",
       "                       min_samples_leaf=1, min_samples_split=2,\n",
       "                       min_weight_fraction_leaf=0.0, presort=False,\n",
       "                       random_state=42, splitter='best')"
      ]
     },
     "execution_count": 57,
     "metadata": {},
     "output_type": "execute_result"
    }
   ],
   "source": [
    "grid_search_cv_dtree.best_estimator_"
   ]
  },
  {
   "cell_type": "code",
   "execution_count": 58,
   "metadata": {},
   "outputs": [
    {
     "data": {
      "text/plain": [
       "{'max_leaf_nodes': 99, 'min_samples_split': 2}"
      ]
     },
     "execution_count": 58,
     "metadata": {},
     "output_type": "execute_result"
    }
   ],
   "source": [
    "grid_search_cv_dtree.best_params_"
   ]
  },
  {
   "cell_type": "code",
   "execution_count": 59,
   "metadata": {},
   "outputs": [
    {
     "data": {
      "text/plain": [
       "0.752382345685387"
      ]
     },
     "execution_count": 59,
     "metadata": {},
     "output_type": "execute_result"
    }
   ],
   "source": [
    "grid_search_cv_dtree.best_score_"
   ]
  },
  {
   "cell_type": "code",
   "execution_count": 60,
   "metadata": {},
   "outputs": [],
   "source": [
    "best_estimator_dtree = grid_search_cv_dtree.best_estimator_"
   ]
  },
  {
   "cell_type": "code",
   "execution_count": 61,
   "metadata": {},
   "outputs": [
    {
     "name": "stdout",
     "output_type": "stream",
     "text": [
      "Accuracy: 75.5359155959829%\n",
      "Confusion Matrix:\n",
      "[[29964 11539    27     0     2     0   609]\n",
      " [ 7959 48232   427    10    47   180    47]\n",
      " [    0   964  5693   144     0   368     0]\n",
      " [    0     1   323   195     0     3     0]\n",
      " [   66  1561    42     0   247     0     0]\n",
      " [    4  1133  1576    88     7   652     0]\n",
      " [ 1251    50     0     0     0     0  2792]]\n"
     ]
    }
   ],
   "source": [
    "best_pred_y_dtree = best_estimator_dtree.predict(X_test)\n",
    "print(\"Accuracy: {}%\".format(accuracy_score(y_test, best_pred_y_dtree)*100))\n",
    "print(\"Confusion Matrix:\")\n",
    "print(\"{}\".format(confusion_matrix(y_test, best_pred_y_dtree)))"
   ]
  },
  {
   "cell_type": "code",
   "execution_count": 62,
   "metadata": {},
   "outputs": [
    {
     "data": {
      "text/plain": [
       "array([[29964, 11539,    27,     0,     2,     0,   609],\n",
       "       [ 7959, 48232,   427,    10,    47,   180,    47],\n",
       "       [    0,   964,  5693,   144,     0,   368,     0],\n",
       "       [    0,     1,   323,   195,     0,     3,     0],\n",
       "       [   66,  1561,    42,     0,   247,     0,     0],\n",
       "       [    4,  1133,  1576,    88,     7,   652,     0],\n",
       "       [ 1251,    50,     0,     0,     0,     0,  2792]], dtype=int64)"
      ]
     },
     "execution_count": 62,
     "metadata": {},
     "output_type": "execute_result"
    }
   ],
   "source": [
    "# creating a confusion matrix \n",
    "cm_dtree = confusion_matrix(y_test, best_pred_y_dtree)\n",
    "cm_dtree"
   ]
  },
  {
   "cell_type": "code",
   "execution_count": 63,
   "metadata": {},
   "outputs": [
    {
     "name": "stdout",
     "output_type": "stream",
     "text": [
      "              precision    recall  f1-score   support\n",
      "\n",
      "           0       0.76      0.71      0.74     42141\n",
      "           1       0.76      0.85      0.80     56902\n",
      "           2       0.70      0.79      0.75      7169\n",
      "           3       0.45      0.37      0.41       522\n",
      "           4       0.82      0.13      0.22      1916\n",
      "           5       0.54      0.19      0.28      3460\n",
      "           6       0.81      0.68      0.74      4093\n",
      "\n",
      "    accuracy                           0.76    116203\n",
      "   macro avg       0.69      0.53      0.56    116203\n",
      "weighted avg       0.75      0.76      0.75    116203\n",
      "\n"
     ]
    }
   ],
   "source": [
    "print(classification_report(y_test, best_pred_y_dtree))"
   ]
  },
  {
   "cell_type": "markdown",
   "metadata": {},
   "source": [
    "### Let's test our model accuracies on test data"
   ]
  },
  {
   "cell_type": "code",
   "execution_count": 67,
   "metadata": {},
   "outputs": [],
   "source": [
    "test = pd.read_csv(\"capstone_test.csv\")"
   ]
  },
  {
   "cell_type": "code",
   "execution_count": 68,
   "metadata": {},
   "outputs": [
    {
     "data": {
      "text/html": [
       "<div>\n",
       "<style scoped>\n",
       "    .dataframe tbody tr th:only-of-type {\n",
       "        vertical-align: middle;\n",
       "    }\n",
       "\n",
       "    .dataframe tbody tr th {\n",
       "        vertical-align: top;\n",
       "    }\n",
       "\n",
       "    .dataframe thead th {\n",
       "        text-align: right;\n",
       "    }\n",
       "</style>\n",
       "<table border=\"1\" class=\"dataframe\">\n",
       "  <thead>\n",
       "    <tr style=\"text-align: right;\">\n",
       "      <th></th>\n",
       "      <th>Heigh_From_Sea_Level</th>\n",
       "      <th>Aspect</th>\n",
       "      <th>Slope</th>\n",
       "      <th>Distance_To_Water_Source</th>\n",
       "      <th>Standing_Distance_To_Water_Source</th>\n",
       "      <th>Distance_To_Road</th>\n",
       "      <th>Shadow_In_Morning</th>\n",
       "      <th>Shadow_In_Midday</th>\n",
       "      <th>Shadow_In_Evening</th>\n",
       "      <th>Distance_To_Fire</th>\n",
       "      <th>Turf</th>\n",
       "      <th>Neighbourhood_Type</th>\n",
       "      <th>Plant_Type</th>\n",
       "    </tr>\n",
       "  </thead>\n",
       "  <tbody>\n",
       "    <tr>\n",
       "      <td>0</td>\n",
       "      <td>3258</td>\n",
       "      <td>225</td>\n",
       "      <td>2</td>\n",
       "      <td>631</td>\n",
       "      <td>148</td>\n",
       "      <td>1739</td>\n",
       "      <td>217</td>\n",
       "      <td>240.0</td>\n",
       "      <td>161</td>\n",
       "      <td>2340</td>\n",
       "      <td>31</td>\n",
       "      <td>3</td>\n",
       "      <td>Ascomoid</td>\n",
       "    </tr>\n",
       "    <tr>\n",
       "      <td>1</td>\n",
       "      <td>3033</td>\n",
       "      <td>229</td>\n",
       "      <td>24</td>\n",
       "      <td>552</td>\n",
       "      <td>341</td>\n",
       "      <td>2277</td>\n",
       "      <td>176</td>\n",
       "      <td>253.0</td>\n",
       "      <td>206</td>\n",
       "      <td>1318</td>\n",
       "      <td>13</td>\n",
       "      <td>3</td>\n",
       "      <td>Assassin vine</td>\n",
       "    </tr>\n",
       "    <tr>\n",
       "      <td>2</td>\n",
       "      <td>2838</td>\n",
       "      <td>355</td>\n",
       "      <td>20</td>\n",
       "      <td>108</td>\n",
       "      <td>21</td>\n",
       "      <td>674</td>\n",
       "      <td>183</td>\n",
       "      <td>201.0</td>\n",
       "      <td>152</td>\n",
       "      <td>418</td>\n",
       "      <td>31</td>\n",
       "      <td>3</td>\n",
       "      <td>Assassin vine</td>\n",
       "    </tr>\n",
       "  </tbody>\n",
       "</table>\n",
       "</div>"
      ],
      "text/plain": [
       "   Heigh_From_Sea_Level  Aspect  Slope  Distance_To_Water_Source  \\\n",
       "0                  3258     225      2                       631   \n",
       "1                  3033     229     24                       552   \n",
       "2                  2838     355     20                       108   \n",
       "\n",
       "   Standing_Distance_To_Water_Source  Distance_To_Road  Shadow_In_Morning  \\\n",
       "0                                148              1739                217   \n",
       "1                                341              2277                176   \n",
       "2                                 21               674                183   \n",
       "\n",
       "   Shadow_In_Midday  Shadow_In_Evening  Distance_To_Fire  Turf  \\\n",
       "0             240.0                161              2340    31   \n",
       "1             253.0                206              1318    13   \n",
       "2             201.0                152               418    31   \n",
       "\n",
       "   Neighbourhood_Type     Plant_Type  \n",
       "0                   3       Ascomoid  \n",
       "1                   3  Assassin vine  \n",
       "2                   3  Assassin vine  "
      ]
     },
     "execution_count": 68,
     "metadata": {},
     "output_type": "execute_result"
    }
   ],
   "source": [
    "test.head(3)"
   ]
  },
  {
   "cell_type": "code",
   "execution_count": 69,
   "metadata": {},
   "outputs": [
    {
     "name": "stdout",
     "output_type": "stream",
     "text": [
      "Heigh_From_Sea_Level                 0\n",
      "Aspect                               0\n",
      "Slope                                0\n",
      "Distance_To_Water_Source             0\n",
      "Standing_Distance_To_Water_Source    0\n",
      "Distance_To_Road                     0\n",
      "Shadow_In_Morning                    0\n",
      "Shadow_In_Midday                     0\n",
      "Shadow_In_Evening                    0\n",
      "Distance_To_Fire                     0\n",
      "Turf                                 0\n",
      "Neighbourhood_Type                   0\n",
      "Plant_Type                           0\n",
      "dtype: int64\n"
     ]
    }
   ],
   "source": [
    "test['Shadow_In_Midday'] = test.Shadow_In_Midday.interpolate(method ='linear')\n",
    "print(test.isna().sum())"
   ]
  },
  {
   "cell_type": "markdown",
   "metadata": {},
   "source": [
    "For predicting classes on unseen data we will be using Test data but for the comparison we need to use label encoder in test data as well for plant_type column.\n"
   ]
  },
  {
   "cell_type": "code",
   "execution_count": 70,
   "metadata": {},
   "outputs": [
    {
     "data": {
      "text/html": [
       "<div>\n",
       "<style scoped>\n",
       "    .dataframe tbody tr th:only-of-type {\n",
       "        vertical-align: middle;\n",
       "    }\n",
       "\n",
       "    .dataframe tbody tr th {\n",
       "        vertical-align: top;\n",
       "    }\n",
       "\n",
       "    .dataframe thead th {\n",
       "        text-align: right;\n",
       "    }\n",
       "</style>\n",
       "<table border=\"1\" class=\"dataframe\">\n",
       "  <thead>\n",
       "    <tr style=\"text-align: right;\">\n",
       "      <th></th>\n",
       "      <th>Heigh_From_Sea_Level</th>\n",
       "      <th>Aspect</th>\n",
       "      <th>Slope</th>\n",
       "      <th>Distance_To_Water_Source</th>\n",
       "      <th>Standing_Distance_To_Water_Source</th>\n",
       "      <th>Distance_To_Road</th>\n",
       "      <th>Shadow_In_Morning</th>\n",
       "      <th>Shadow_In_Midday</th>\n",
       "      <th>Shadow_In_Evening</th>\n",
       "      <th>Distance_To_Fire</th>\n",
       "      <th>Turf</th>\n",
       "      <th>Neighbourhood_Type</th>\n",
       "      <th>Plant_Type</th>\n",
       "      <th>plant_type_labels</th>\n",
       "    </tr>\n",
       "  </thead>\n",
       "  <tbody>\n",
       "    <tr>\n",
       "      <td>0</td>\n",
       "      <td>3258</td>\n",
       "      <td>225</td>\n",
       "      <td>2</td>\n",
       "      <td>631</td>\n",
       "      <td>148</td>\n",
       "      <td>1739</td>\n",
       "      <td>217</td>\n",
       "      <td>240.0</td>\n",
       "      <td>161</td>\n",
       "      <td>2340</td>\n",
       "      <td>31</td>\n",
       "      <td>3</td>\n",
       "      <td>Ascomoid</td>\n",
       "      <td>0</td>\n",
       "    </tr>\n",
       "    <tr>\n",
       "      <td>1</td>\n",
       "      <td>3033</td>\n",
       "      <td>229</td>\n",
       "      <td>24</td>\n",
       "      <td>552</td>\n",
       "      <td>341</td>\n",
       "      <td>2277</td>\n",
       "      <td>176</td>\n",
       "      <td>253.0</td>\n",
       "      <td>206</td>\n",
       "      <td>1318</td>\n",
       "      <td>13</td>\n",
       "      <td>3</td>\n",
       "      <td>Assassin vine</td>\n",
       "      <td>1</td>\n",
       "    </tr>\n",
       "    <tr>\n",
       "      <td>2</td>\n",
       "      <td>2838</td>\n",
       "      <td>355</td>\n",
       "      <td>20</td>\n",
       "      <td>108</td>\n",
       "      <td>21</td>\n",
       "      <td>674</td>\n",
       "      <td>183</td>\n",
       "      <td>201.0</td>\n",
       "      <td>152</td>\n",
       "      <td>418</td>\n",
       "      <td>31</td>\n",
       "      <td>3</td>\n",
       "      <td>Assassin vine</td>\n",
       "      <td>1</td>\n",
       "    </tr>\n",
       "    <tr>\n",
       "      <td>3</td>\n",
       "      <td>3098</td>\n",
       "      <td>122</td>\n",
       "      <td>10</td>\n",
       "      <td>242</td>\n",
       "      <td>76</td>\n",
       "      <td>4821</td>\n",
       "      <td>238</td>\n",
       "      <td>232.0</td>\n",
       "      <td>124</td>\n",
       "      <td>268</td>\n",
       "      <td>29</td>\n",
       "      <td>1</td>\n",
       "      <td>Assassin vine</td>\n",
       "      <td>1</td>\n",
       "    </tr>\n",
       "    <tr>\n",
       "      <td>4</td>\n",
       "      <td>3221</td>\n",
       "      <td>189</td>\n",
       "      <td>24</td>\n",
       "      <td>153</td>\n",
       "      <td>41</td>\n",
       "      <td>2121</td>\n",
       "      <td>214</td>\n",
       "      <td>250.0</td>\n",
       "      <td>157</td>\n",
       "      <td>1423</td>\n",
       "      <td>33</td>\n",
       "      <td>3</td>\n",
       "      <td>Ascomoid</td>\n",
       "      <td>0</td>\n",
       "    </tr>\n",
       "  </tbody>\n",
       "</table>\n",
       "</div>"
      ],
      "text/plain": [
       "   Heigh_From_Sea_Level  Aspect  Slope  Distance_To_Water_Source  \\\n",
       "0                  3258     225      2                       631   \n",
       "1                  3033     229     24                       552   \n",
       "2                  2838     355     20                       108   \n",
       "3                  3098     122     10                       242   \n",
       "4                  3221     189     24                       153   \n",
       "\n",
       "   Standing_Distance_To_Water_Source  Distance_To_Road  Shadow_In_Morning  \\\n",
       "0                                148              1739                217   \n",
       "1                                341              2277                176   \n",
       "2                                 21               674                183   \n",
       "3                                 76              4821                238   \n",
       "4                                 41              2121                214   \n",
       "\n",
       "   Shadow_In_Midday  Shadow_In_Evening  Distance_To_Fire  Turf  \\\n",
       "0             240.0                161              2340    31   \n",
       "1             253.0                206              1318    13   \n",
       "2             201.0                152               418    31   \n",
       "3             232.0                124               268    29   \n",
       "4             250.0                157              1423    33   \n",
       "\n",
       "   Neighbourhood_Type     Plant_Type  plant_type_labels  \n",
       "0                   3       Ascomoid                  0  \n",
       "1                   3  Assassin vine                  1  \n",
       "2                   3  Assassin vine                  1  \n",
       "3                   1  Assassin vine                  1  \n",
       "4                   3       Ascomoid                  0  "
      ]
     },
     "execution_count": 70,
     "metadata": {},
     "output_type": "execute_result"
    }
   ],
   "source": [
    "# Assigning numerical values and storing in another column\n",
    "labelencoder_test = LabelEncoder()\n",
    "\n",
    "test['plant_type_labels'] = labelencoder_test.fit_transform(test['Plant_Type'])\n",
    "test.head(5)"
   ]
  },
  {
   "cell_type": "code",
   "execution_count": 71,
   "metadata": {},
   "outputs": [
    {
     "name": "stdout",
     "output_type": "stream",
     "text": [
      "{'Ascomoid': 0, 'Assassin vine': 1, 'Basidirond': 2, 'Dark tree': 3, 'Hangman tree': 4, 'Kelpie': 5, 'Myconid:': 6}\n"
     ]
    }
   ],
   "source": [
    "# If we want to know what labels are addressed to what plant_type\n",
    "\n",
    "label_name_mapping_test = dict(zip(labelencoder_test.classes_, labelencoder_test.transform(labelencoder_test.classes_)))\n",
    "print(label_name_mapping_test)"
   ]
  },
  {
   "cell_type": "markdown",
   "metadata": {},
   "source": [
    "Same labels has been applied on test data as train data. We can compare our results easily."
   ]
  },
  {
   "cell_type": "code",
   "execution_count": 72,
   "metadata": {},
   "outputs": [
    {
     "data": {
      "text/html": [
       "<div>\n",
       "<style scoped>\n",
       "    .dataframe tbody tr th:only-of-type {\n",
       "        vertical-align: middle;\n",
       "    }\n",
       "\n",
       "    .dataframe tbody tr th {\n",
       "        vertical-align: top;\n",
       "    }\n",
       "\n",
       "    .dataframe thead th {\n",
       "        text-align: right;\n",
       "    }\n",
       "</style>\n",
       "<table border=\"1\" class=\"dataframe\">\n",
       "  <thead>\n",
       "    <tr style=\"text-align: right;\">\n",
       "      <th></th>\n",
       "      <th>Heigh_From_Sea_Level</th>\n",
       "      <th>Aspect</th>\n",
       "      <th>Slope</th>\n",
       "      <th>Distance_To_Water_Source</th>\n",
       "      <th>Standing_Distance_To_Water_Source</th>\n",
       "      <th>Distance_To_Road</th>\n",
       "      <th>Shadow_In_Morning</th>\n",
       "      <th>Shadow_In_Midday</th>\n",
       "      <th>Shadow_In_Evening</th>\n",
       "      <th>Distance_To_Fire</th>\n",
       "      <th>Turf</th>\n",
       "      <th>Neighbourhood_Type</th>\n",
       "      <th>plant_type_labels</th>\n",
       "    </tr>\n",
       "  </thead>\n",
       "  <tbody>\n",
       "    <tr>\n",
       "      <td>0</td>\n",
       "      <td>3258</td>\n",
       "      <td>225</td>\n",
       "      <td>2</td>\n",
       "      <td>631</td>\n",
       "      <td>148</td>\n",
       "      <td>1739</td>\n",
       "      <td>217</td>\n",
       "      <td>240.0</td>\n",
       "      <td>161</td>\n",
       "      <td>2340</td>\n",
       "      <td>31</td>\n",
       "      <td>3</td>\n",
       "      <td>0</td>\n",
       "    </tr>\n",
       "    <tr>\n",
       "      <td>1</td>\n",
       "      <td>3033</td>\n",
       "      <td>229</td>\n",
       "      <td>24</td>\n",
       "      <td>552</td>\n",
       "      <td>341</td>\n",
       "      <td>2277</td>\n",
       "      <td>176</td>\n",
       "      <td>253.0</td>\n",
       "      <td>206</td>\n",
       "      <td>1318</td>\n",
       "      <td>13</td>\n",
       "      <td>3</td>\n",
       "      <td>1</td>\n",
       "    </tr>\n",
       "  </tbody>\n",
       "</table>\n",
       "</div>"
      ],
      "text/plain": [
       "   Heigh_From_Sea_Level  Aspect  Slope  Distance_To_Water_Source  \\\n",
       "0                  3258     225      2                       631   \n",
       "1                  3033     229     24                       552   \n",
       "\n",
       "   Standing_Distance_To_Water_Source  Distance_To_Road  Shadow_In_Morning  \\\n",
       "0                                148              1739                217   \n",
       "1                                341              2277                176   \n",
       "\n",
       "   Shadow_In_Midday  Shadow_In_Evening  Distance_To_Fire  Turf  \\\n",
       "0             240.0                161              2340    31   \n",
       "1             253.0                206              1318    13   \n",
       "\n",
       "   Neighbourhood_Type  plant_type_labels  \n",
       "0                   3                  0  \n",
       "1                   3                  1  "
      ]
     },
     "execution_count": 72,
     "metadata": {},
     "output_type": "execute_result"
    }
   ],
   "source": [
    "new_test = test.drop(['Plant_Type'], axis = 1)\n",
    "new_test.head(2)"
   ]
  },
  {
   "cell_type": "code",
   "execution_count": 93,
   "metadata": {},
   "outputs": [],
   "source": [
    "X1 = new_test.drop('plant_type_labels', axis=1) \n",
    "y1 = new_test.plant_type_labels"
   ]
  },
  {
   "cell_type": "code",
   "execution_count": 94,
   "metadata": {},
   "outputs": [
    {
     "name": "stdout",
     "output_type": "stream",
     "text": [
      "Accuracy: 96.49578754421142%\n",
      "Confusion Matrix:\n",
      "[[40886  1324     3     0    25     4   111]\n",
      " [ 1296 54956    92     0   150    82    20]\n",
      " [    0    94  6992    31    11   138     0]\n",
      " [    0     1    62   468     0    32     0]\n",
      " [   17   183    23     0  1669     3     0]\n",
      " [    1    81   114    11    11  3218     0]\n",
      " [  133    19     0     0     0     0  3942]]\n"
     ]
    }
   ],
   "source": [
    "# Checking with KNN model\n",
    "\n",
    "best_pred_y1_knn = best_estimator_knn.predict(X1)\n",
    "print(\"Accuracy: {}%\".format(accuracy_score(y1, best_pred_y1_knn)*100))\n",
    "print(\"Confusion Matrix:\")\n",
    "print(\"{}\".format(confusion_matrix(y1, best_pred_y1_knn)))"
   ]
  },
  {
   "cell_type": "code",
   "execution_count": 95,
   "metadata": {},
   "outputs": [
    {
     "name": "stdout",
     "output_type": "stream",
     "text": [
      "              precision    recall  f1-score   support\n",
      "\n",
      "           0       0.97      0.97      0.97     42353\n",
      "           1       0.97      0.97      0.97     56596\n",
      "           2       0.96      0.96      0.96      7266\n",
      "           3       0.92      0.83      0.87       563\n",
      "           4       0.89      0.88      0.89      1895\n",
      "           5       0.93      0.94      0.93      3436\n",
      "           6       0.97      0.96      0.97      4094\n",
      "\n",
      "    accuracy                           0.96    116203\n",
      "   macro avg       0.94      0.93      0.94    116203\n",
      "weighted avg       0.96      0.96      0.96    116203\n",
      "\n"
     ]
    }
   ],
   "source": [
    "print(classification_report(y1, best_pred_y1_knn))"
   ]
  },
  {
   "cell_type": "code",
   "execution_count": 111,
   "metadata": {},
   "outputs": [],
   "source": [
    "#Creating a function using LabelBinarizer() in order to evaluate the AUC ROC score for our multi-class problem\n",
    "\n",
    "def roc_auc_score_knn(y1, best_pred_y1_knn, average=\"macro\"):\n",
    "    lb = LabelBinarizer()\n",
    "    lb.fit(y1)\n",
    "    y1 = lb.transform(y1)\n",
    "    best_pred_y1_knn = lb.transform(best_pred_y1_knn)\n",
    "    return roc_auc_score(y1, best_pred_y1_knn, average=average)"
   ]
  },
  {
   "cell_type": "code",
   "execution_count": 112,
   "metadata": {},
   "outputs": [
    {
     "data": {
      "text/plain": [
       "0.9609788365100906"
      ]
     },
     "execution_count": 112,
     "metadata": {},
     "output_type": "execute_result"
    }
   ],
   "source": [
    "roc_auc_score_knn(y1, best_pred_y1_knn)"
   ]
  },
  {
   "cell_type": "code",
   "execution_count": 96,
   "metadata": {
    "scrolled": true
   },
   "outputs": [
    {
     "name": "stdout",
     "output_type": "stream",
     "text": [
      "Accuracy: 75.11510029861536%\n",
      "Confusion Matrix:\n",
      "[[31340 10680    11     0     2     0   320]\n",
      " [10027 45849   573     2    23    74    48]\n",
      " [    0   728  6407    42     0    89     0]\n",
      " [    0     0   314   241     0     8     0]\n",
      " [    1  1605    64     0   225     0     0]\n",
      " [    0  1014  1804    11     0   607     0]\n",
      " [ 1466    11     0     0     0     0  2617]]\n"
     ]
    }
   ],
   "source": [
    "# Checking with Random forest model\n",
    "\n",
    "from sklearn.metrics import accuracy_score\n",
    "best_pred_y1_rf = best_estimator_rf.predict(X1)\n",
    "print(\"Accuracy: {}%\".format(accuracy_score(y1, best_pred_y1_rf)*100))\n",
    "print(\"Confusion Matrix:\")\n",
    "print(\"{}\".format(confusion_matrix(y1, best_pred_y1_rf)))"
   ]
  },
  {
   "cell_type": "code",
   "execution_count": 97,
   "metadata": {
    "scrolled": true
   },
   "outputs": [
    {
     "name": "stdout",
     "output_type": "stream",
     "text": [
      "              precision    recall  f1-score   support\n",
      "\n",
      "           0       0.73      0.74      0.74     42353\n",
      "           1       0.77      0.81      0.79     56596\n",
      "           2       0.70      0.88      0.78      7266\n",
      "           3       0.81      0.43      0.56       563\n",
      "           4       0.90      0.12      0.21      1895\n",
      "           5       0.78      0.18      0.29      3436\n",
      "           6       0.88      0.64      0.74      4094\n",
      "\n",
      "    accuracy                           0.75    116203\n",
      "   macro avg       0.80      0.54      0.59    116203\n",
      "weighted avg       0.76      0.75      0.74    116203\n",
      "\n"
     ]
    }
   ],
   "source": [
    "print(classification_report(y1, best_pred_y1_rf))"
   ]
  },
  {
   "cell_type": "code",
   "execution_count": 113,
   "metadata": {},
   "outputs": [],
   "source": [
    "# Creating a function using LabelBinarizer() in order to evaluate the AUC ROC score for our multi-class problem\n",
    "def roc_auc_score_rf(y1, best_pred_y1_rf, average=\"macro\"):\n",
    "    lb = LabelBinarizer()\n",
    "    lb.fit(y1)\n",
    "    y1 = lb.transform(y1)\n",
    "    best_pred_y1_rf = lb.transform(best_pred_y1_rf)\n",
    "    return roc_auc_score(y1, best_pred_y1_rf, average=average)"
   ]
  },
  {
   "cell_type": "code",
   "execution_count": 114,
   "metadata": {},
   "outputs": [
    {
     "data": {
      "text/plain": [
       "0.740893640303189"
      ]
     },
     "execution_count": 114,
     "metadata": {},
     "output_type": "execute_result"
    }
   ],
   "source": [
    "roc_auc_score_rf(y1, best_pred_y1_rf)"
   ]
  },
  {
   "cell_type": "code",
   "execution_count": 98,
   "metadata": {},
   "outputs": [
    {
     "name": "stdout",
     "output_type": "stream",
     "text": [
      "Accuracy: 75.47051280947996%\n",
      "Confusion Matrix:\n",
      "[[30101 11638    27     0     6     1   580]\n",
      " [ 7916 47965   424    14    42   186    49]\n",
      " [    0  1002  5745   158     0   361     0]\n",
      " [    0     0   340   216     0     7     0]\n",
      " [   84  1522    51     0   238     0     0]\n",
      " [   12  1105  1603    89     3   624     0]\n",
      " [ 1233    51     0     0     0     0  2810]]\n"
     ]
    }
   ],
   "source": [
    "# Checking with Decision Tree\n",
    "\n",
    "best_pred_y1_dtree = best_estimator_dtree.predict(X1)\n",
    "print(\"Accuracy: {}%\".format(accuracy_score(y1, best_pred_y1_dtree)*100))\n",
    "print(\"Confusion Matrix:\")\n",
    "print(\"{}\".format(confusion_matrix(y1, best_pred_y1_dtree)))"
   ]
  },
  {
   "cell_type": "code",
   "execution_count": 99,
   "metadata": {
    "scrolled": true
   },
   "outputs": [
    {
     "name": "stdout",
     "output_type": "stream",
     "text": [
      "              precision    recall  f1-score   support\n",
      "\n",
      "           0       0.77      0.71      0.74     42353\n",
      "           1       0.76      0.85      0.80     56596\n",
      "           2       0.70      0.79      0.74      7266\n",
      "           3       0.45      0.38      0.42       563\n",
      "           4       0.82      0.13      0.22      1895\n",
      "           5       0.53      0.18      0.27      3436\n",
      "           6       0.82      0.69      0.75      4094\n",
      "\n",
      "    accuracy                           0.75    116203\n",
      "   macro avg       0.69      0.53      0.56    116203\n",
      "weighted avg       0.75      0.75      0.74    116203\n",
      "\n"
     ]
    }
   ],
   "source": [
    "print(classification_report(y1, best_pred_y1_dtree))"
   ]
  },
  {
   "cell_type": "code",
   "execution_count": 115,
   "metadata": {},
   "outputs": [],
   "source": [
    "#Creating a function using LabelBinarizer() in order to evaluate the AUC ROC score for our multi-class problem\n",
    "def multiclass_roc_auc_score(y1, best_pred_y1_dtree, average=\"macro\"):\n",
    "    lb = LabelBinarizer()\n",
    "    lb.fit(y1)\n",
    "    y1 = lb.transform(y1)\n",
    "    best_pred_y1_dtree = lb.transform(best_pred_y1_dtree)\n",
    "    return roc_auc_score(y1, best_pred_y1_dtree, average=average)"
   ]
  },
  {
   "cell_type": "code",
   "execution_count": 116,
   "metadata": {},
   "outputs": [
    {
     "data": {
      "text/plain": [
       "0.7363046016772413"
      ]
     },
     "execution_count": 116,
     "metadata": {},
     "output_type": "execute_result"
    }
   ],
   "source": [
    "multiclass_roc_auc_score(y1, best_pred_y1_dtree)"
   ]
  },
  {
   "cell_type": "markdown",
   "metadata": {},
   "source": [
    "## 6) Comparison of model using performance KPIs, Training & Testing Time"
   ]
  },
  {
   "cell_type": "markdown",
   "metadata": {},
   "source": [
    "After comparison of all models (KNN, RF, DTREE), we have found best model which is KNN. According to the accuracy, precision, recall and Roc Auc score we can say that KNN model performance is best with 96% accuracy. Also, training and testing time of KNN model is also better than other models.\n",
    "\n",
    "So, our best model is KNN model."
   ]
  },
  {
   "cell_type": "markdown",
   "metadata": {},
   "source": [
    "## 7) Final predictive model recommendation"
   ]
  },
  {
   "cell_type": "markdown",
   "metadata": {},
   "source": [
    "I would recommend KNN model for final Predictive model with best grid search parameters."
   ]
  },
  {
   "cell_type": "markdown",
   "metadata": {},
   "source": [
    "### Create key segments for all the plants (train + test) based on the average sunlight received throughout the day and their distance from waterbody to identify which segments of plants are getting enough sunlight and water vs which ones are not. This will help in mobilizing resources to track growth of trees appropriately "
   ]
  },
  {
   "cell_type": "code",
   "execution_count": 117,
   "metadata": {},
   "outputs": [
    {
     "data": {
      "text/plain": [
       "Index(['Heigh_From_Sea_Level', 'Aspect', 'Slope', 'Distance_To_Water_Source',\n",
       "       'Standing_Distance_To_Water_Source', 'Distance_To_Road',\n",
       "       'Shadow_In_Morning', 'Shadow_In_Midday', 'Shadow_In_Evening',\n",
       "       'Distance_To_Fire', 'Turf', 'Neighbourhood_Type', 'plant_type_labels'],\n",
       "      dtype='object')"
      ]
     },
     "execution_count": 117,
     "metadata": {},
     "output_type": "execute_result"
    }
   ],
   "source": [
    "df.columns"
   ]
  },
  {
   "cell_type": "markdown",
   "metadata": {},
   "source": [
    "Approach: Creating two clusters as shown below;"
   ]
  },
  {
   "cell_type": "code",
   "execution_count": 121,
   "metadata": {},
   "outputs": [
    {
     "data": {
      "image/png": "[encoded data removed]",
      "text/plain": [
       "<PIL.JpegImagePlugin.JpegImageFile image mode=RGB size=1030x423 at 0x1AEAC835808>"
      ]
     },
     "execution_count": 121,
     "metadata": {},
     "output_type": "execute_result"
    }
   ],
   "source": [
    "from PIL import Image\n",
    "cluster_image = Image.open(\"Capture.jpg\");\n",
    "cluster_image"
   ]
  },
  {
   "cell_type": "code",
   "execution_count": 136,
   "metadata": {},
   "outputs": [
    {
     "data": {
      "text/html": [
       "<div>\n",
       "<style scoped>\n",
       "    .dataframe tbody tr th:only-of-type {\n",
       "        vertical-align: middle;\n",
       "    }\n",
       "\n",
       "    .dataframe tbody tr th {\n",
       "        vertical-align: top;\n",
       "    }\n",
       "\n",
       "    .dataframe thead th {\n",
       "        text-align: right;\n",
       "    }\n",
       "</style>\n",
       "<table border=\"1\" class=\"dataframe\">\n",
       "  <thead>\n",
       "    <tr style=\"text-align: right;\">\n",
       "      <th></th>\n",
       "      <th>Heigh_From_Sea_Level</th>\n",
       "      <th>Aspect</th>\n",
       "      <th>Slope</th>\n",
       "      <th>Distance_To_Water_Source</th>\n",
       "      <th>Standing_Distance_To_Water_Source</th>\n",
       "      <th>Distance_To_Road</th>\n",
       "      <th>Shadow_In_Morning</th>\n",
       "      <th>Shadow_In_Midday</th>\n",
       "      <th>Shadow_In_Evening</th>\n",
       "      <th>Distance_To_Fire</th>\n",
       "      <th>Turf</th>\n",
       "      <th>Neighbourhood_Type</th>\n",
       "      <th>plant_type_labels</th>\n",
       "    </tr>\n",
       "  </thead>\n",
       "  <tbody>\n",
       "    <tr>\n",
       "      <td>0</td>\n",
       "      <td>2984</td>\n",
       "      <td>87</td>\n",
       "      <td>10</td>\n",
       "      <td>234</td>\n",
       "      <td>62</td>\n",
       "      <td>3700</td>\n",
       "      <td>235</td>\n",
       "      <td>224.0</td>\n",
       "      <td>119</td>\n",
       "      <td>2751</td>\n",
       "      <td>29</td>\n",
       "      <td>1</td>\n",
       "      <td>1</td>\n",
       "    </tr>\n",
       "    <tr>\n",
       "      <td>1</td>\n",
       "      <td>3021</td>\n",
       "      <td>283</td>\n",
       "      <td>31</td>\n",
       "      <td>630</td>\n",
       "      <td>250</td>\n",
       "      <td>2155</td>\n",
       "      <td>127</td>\n",
       "      <td>224.0</td>\n",
       "      <td>226</td>\n",
       "      <td>1519</td>\n",
       "      <td>13</td>\n",
       "      <td>3</td>\n",
       "      <td>1</td>\n",
       "    </tr>\n",
       "    <tr>\n",
       "      <td>2</td>\n",
       "      <td>3357</td>\n",
       "      <td>164</td>\n",
       "      <td>14</td>\n",
       "      <td>618</td>\n",
       "      <td>151</td>\n",
       "      <td>1410</td>\n",
       "      <td>232</td>\n",
       "      <td>244.0</td>\n",
       "      <td>140</td>\n",
       "      <td>1866</td>\n",
       "      <td>32</td>\n",
       "      <td>3</td>\n",
       "      <td>0</td>\n",
       "    </tr>\n",
       "    <tr>\n",
       "      <td>3</td>\n",
       "      <td>2787</td>\n",
       "      <td>272</td>\n",
       "      <td>16</td>\n",
       "      <td>150</td>\n",
       "      <td>40</td>\n",
       "      <td>2024</td>\n",
       "      <td>176</td>\n",
       "      <td>243.0</td>\n",
       "      <td>206</td>\n",
       "      <td>957</td>\n",
       "      <td>31</td>\n",
       "      <td>3</td>\n",
       "      <td>1</td>\n",
       "    </tr>\n",
       "  </tbody>\n",
       "</table>\n",
       "</div>"
      ],
      "text/plain": [
       "   Heigh_From_Sea_Level  Aspect  Slope  Distance_To_Water_Source  \\\n",
       "0                  2984      87     10                       234   \n",
       "1                  3021     283     31                       630   \n",
       "2                  3357     164     14                       618   \n",
       "3                  2787     272     16                       150   \n",
       "\n",
       "   Standing_Distance_To_Water_Source  Distance_To_Road  Shadow_In_Morning  \\\n",
       "0                                 62              3700                235   \n",
       "1                                250              2155                127   \n",
       "2                                151              1410                232   \n",
       "3                                 40              2024                176   \n",
       "\n",
       "   Shadow_In_Midday  Shadow_In_Evening  Distance_To_Fire  Turf  \\\n",
       "0             224.0                119              2751    29   \n",
       "1             224.0                226              1519    13   \n",
       "2             244.0                140              1866    32   \n",
       "3             243.0                206               957    31   \n",
       "\n",
       "   Neighbourhood_Type  plant_type_labels  \n",
       "0                   1                  1  \n",
       "1                   3                  1  \n",
       "2                   3                  0  \n",
       "3                   3                  1  "
      ]
     },
     "execution_count": 136,
     "metadata": {},
     "output_type": "execute_result"
    }
   ],
   "source": [
    "# Concatenating training and testing data\n",
    "\n",
    "joined_data = pd.concat([df, new_test])\n",
    "joined_data.head(4)"
   ]
  },
  {
   "cell_type": "code",
   "execution_count": 137,
   "metadata": {},
   "outputs": [
    {
     "data": {
      "text/plain": [
       "(581012, 13)"
      ]
     },
     "execution_count": 137,
     "metadata": {},
     "output_type": "execute_result"
    }
   ],
   "source": [
    "joined_data.shape"
   ]
  },
  {
   "cell_type": "code",
   "execution_count": 127,
   "metadata": {},
   "outputs": [
    {
     "data": {
      "text/plain": [
       "<matplotlib.axes._subplots.AxesSubplot at 0x1aeac73e208>"
      ]
     },
     "execution_count": 127,
     "metadata": {},
     "output_type": "execute_result"
    },
    {
     "data": {
      "image/png": "[encoded data removed]",
      "text/plain": [
       "<Figure size 576x576 with 1 Axes>"
      ]
     },
     "metadata": {
      "needs_background": "light"
     },
     "output_type": "display_data"
    }
   ],
   "source": [
    "sns.distplot(joined_data.plant_type_labels)"
   ]
  },
  {
   "cell_type": "code",
   "execution_count": 175,
   "metadata": {},
   "outputs": [
    {
     "data": {
      "text/html": [
       "<div>\n",
       "<style scoped>\n",
       "    .dataframe tbody tr th:only-of-type {\n",
       "        vertical-align: middle;\n",
       "    }\n",
       "\n",
       "    .dataframe tbody tr th {\n",
       "        vertical-align: top;\n",
       "    }\n",
       "\n",
       "    .dataframe thead th {\n",
       "        text-align: right;\n",
       "    }\n",
       "</style>\n",
       "<table border=\"1\" class=\"dataframe\">\n",
       "  <thead>\n",
       "    <tr style=\"text-align: right;\">\n",
       "      <th></th>\n",
       "      <th>Shadow_In_Morning</th>\n",
       "      <th>Shadow_In_Midday</th>\n",
       "      <th>Shadow_In_Evening</th>\n",
       "    </tr>\n",
       "  </thead>\n",
       "  <tbody>\n",
       "    <tr>\n",
       "      <td>0</td>\n",
       "      <td>235</td>\n",
       "      <td>224.0</td>\n",
       "      <td>119</td>\n",
       "    </tr>\n",
       "    <tr>\n",
       "      <td>1</td>\n",
       "      <td>127</td>\n",
       "      <td>224.0</td>\n",
       "      <td>226</td>\n",
       "    </tr>\n",
       "    <tr>\n",
       "      <td>2</td>\n",
       "      <td>232</td>\n",
       "      <td>244.0</td>\n",
       "      <td>140</td>\n",
       "    </tr>\n",
       "  </tbody>\n",
       "</table>\n",
       "</div>"
      ],
      "text/plain": [
       "   Shadow_In_Morning  Shadow_In_Midday  Shadow_In_Evening\n",
       "0                235             224.0                119\n",
       "1                127             224.0                226\n",
       "2                232             244.0                140"
      ]
     },
     "execution_count": 175,
     "metadata": {},
     "output_type": "execute_result"
    }
   ],
   "source": [
    "avg = joined_data[['Shadow_In_Morning','Shadow_In_Midday','Shadow_In_Evening']]\n",
    "avg.head(3)"
   ]
  },
  {
   "cell_type": "code",
   "execution_count": 176,
   "metadata": {},
   "outputs": [
    {
     "data": {
      "text/html": [
       "<div>\n",
       "<style scoped>\n",
       "    .dataframe tbody tr th:only-of-type {\n",
       "        vertical-align: middle;\n",
       "    }\n",
       "\n",
       "    .dataframe tbody tr th {\n",
       "        vertical-align: top;\n",
       "    }\n",
       "\n",
       "    .dataframe thead th {\n",
       "        text-align: right;\n",
       "    }\n",
       "</style>\n",
       "<table border=\"1\" class=\"dataframe\">\n",
       "  <thead>\n",
       "    <tr style=\"text-align: right;\">\n",
       "      <th></th>\n",
       "      <th>Heigh_From_Sea_Level</th>\n",
       "      <th>Aspect</th>\n",
       "      <th>Slope</th>\n",
       "      <th>Distance_To_Water_Source</th>\n",
       "      <th>Standing_Distance_To_Water_Source</th>\n",
       "      <th>Distance_To_Road</th>\n",
       "      <th>Shadow_In_Morning</th>\n",
       "      <th>Shadow_In_Midday</th>\n",
       "      <th>Shadow_In_Evening</th>\n",
       "      <th>Distance_To_Fire</th>\n",
       "      <th>Turf</th>\n",
       "      <th>Neighbourhood_Type</th>\n",
       "      <th>plant_type_labels</th>\n",
       "      <th>Average sunlight</th>\n",
       "    </tr>\n",
       "  </thead>\n",
       "  <tbody>\n",
       "    <tr>\n",
       "      <td>0</td>\n",
       "      <td>2984</td>\n",
       "      <td>87</td>\n",
       "      <td>10</td>\n",
       "      <td>234</td>\n",
       "      <td>62</td>\n",
       "      <td>3700</td>\n",
       "      <td>235</td>\n",
       "      <td>224.0</td>\n",
       "      <td>119</td>\n",
       "      <td>2751</td>\n",
       "      <td>29</td>\n",
       "      <td>1</td>\n",
       "      <td>1</td>\n",
       "      <td>192.666667</td>\n",
       "    </tr>\n",
       "    <tr>\n",
       "      <td>1</td>\n",
       "      <td>3021</td>\n",
       "      <td>283</td>\n",
       "      <td>31</td>\n",
       "      <td>630</td>\n",
       "      <td>250</td>\n",
       "      <td>2155</td>\n",
       "      <td>127</td>\n",
       "      <td>224.0</td>\n",
       "      <td>226</td>\n",
       "      <td>1519</td>\n",
       "      <td>13</td>\n",
       "      <td>3</td>\n",
       "      <td>1</td>\n",
       "      <td>192.333333</td>\n",
       "    </tr>\n",
       "  </tbody>\n",
       "</table>\n",
       "</div>"
      ],
      "text/plain": [
       "   Heigh_From_Sea_Level  Aspect  Slope  Distance_To_Water_Source  \\\n",
       "0                  2984      87     10                       234   \n",
       "1                  3021     283     31                       630   \n",
       "\n",
       "   Standing_Distance_To_Water_Source  Distance_To_Road  Shadow_In_Morning  \\\n",
       "0                                 62              3700                235   \n",
       "1                                250              2155                127   \n",
       "\n",
       "   Shadow_In_Midday  Shadow_In_Evening  Distance_To_Fire  Turf  \\\n",
       "0             224.0                119              2751    29   \n",
       "1             224.0                226              1519    13   \n",
       "\n",
       "   Neighbourhood_Type  plant_type_labels  Average sunlight  \n",
       "0                   1                  1        192.666667  \n",
       "1                   3                  1        192.333333  "
      ]
     },
     "execution_count": 176,
     "metadata": {},
     "output_type": "execute_result"
    }
   ],
   "source": [
    "joined_data['Average sunlight'] = avg.mean(axis=1)\n",
    "joined_data.head(2)"
   ]
  },
  {
   "cell_type": "code",
   "execution_count": 177,
   "metadata": {},
   "outputs": [
    {
     "data": {
      "text/html": [
       "<div>\n",
       "<style scoped>\n",
       "    .dataframe tbody tr th:only-of-type {\n",
       "        vertical-align: middle;\n",
       "    }\n",
       "\n",
       "    .dataframe tbody tr th {\n",
       "        vertical-align: top;\n",
       "    }\n",
       "\n",
       "    .dataframe thead th {\n",
       "        text-align: right;\n",
       "    }\n",
       "</style>\n",
       "<table border=\"1\" class=\"dataframe\">\n",
       "  <thead>\n",
       "    <tr style=\"text-align: right;\">\n",
       "      <th></th>\n",
       "      <th>Average sunlight</th>\n",
       "      <th>Distance_To_Water_Source</th>\n",
       "      <th>plant_type_labels</th>\n",
       "    </tr>\n",
       "  </thead>\n",
       "  <tbody>\n",
       "    <tr>\n",
       "      <td>0</td>\n",
       "      <td>192.666667</td>\n",
       "      <td>234</td>\n",
       "      <td>1</td>\n",
       "    </tr>\n",
       "    <tr>\n",
       "      <td>1</td>\n",
       "      <td>192.333333</td>\n",
       "      <td>630</td>\n",
       "      <td>1</td>\n",
       "    </tr>\n",
       "    <tr>\n",
       "      <td>2</td>\n",
       "      <td>205.333333</td>\n",
       "      <td>618</td>\n",
       "      <td>0</td>\n",
       "    </tr>\n",
       "  </tbody>\n",
       "</table>\n",
       "</div>"
      ],
      "text/plain": [
       "   Average sunlight  Distance_To_Water_Source  plant_type_labels\n",
       "0        192.666667                       234                  1\n",
       "1        192.333333                       630                  1\n",
       "2        205.333333                       618                  0"
      ]
     },
     "execution_count": 177,
     "metadata": {},
     "output_type": "execute_result"
    }
   ],
   "source": [
    "clustered_data = joined_data[['Average sunlight', 'Distance_To_Water_Source', 'plant_type_labels']]\n",
    "clustered_data.head(3)"
   ]
  },
  {
   "cell_type": "code",
   "execution_count": 178,
   "metadata": {},
   "outputs": [],
   "source": [
    "from sklearn.cluster import KMeans\n",
    "km = KMeans(n_clusters = 2)\n"
   ]
  },
  {
   "cell_type": "code",
   "execution_count": 179,
   "metadata": {},
   "outputs": [
    {
     "data": {
      "text/plain": [
       "array([0, 1, 1, ..., 0, 0, 0])"
      ]
     },
     "execution_count": 179,
     "metadata": {},
     "output_type": "execute_result"
    }
   ],
   "source": [
    "y_predicted = km.fit_predict(clustered_data)\n",
    "y_predicted"
   ]
  },
  {
   "cell_type": "code",
   "execution_count": 180,
   "metadata": {},
   "outputs": [],
   "source": [
    "clustered_data['cluster'] = y_predicted"
   ]
  },
  {
   "cell_type": "code",
   "execution_count": 181,
   "metadata": {},
   "outputs": [
    {
     "data": {
      "text/html": [
       "<div>\n",
       "<style scoped>\n",
       "    .dataframe tbody tr th:only-of-type {\n",
       "        vertical-align: middle;\n",
       "    }\n",
       "\n",
       "    .dataframe tbody tr th {\n",
       "        vertical-align: top;\n",
       "    }\n",
       "\n",
       "    .dataframe thead th {\n",
       "        text-align: right;\n",
       "    }\n",
       "</style>\n",
       "<table border=\"1\" class=\"dataframe\">\n",
       "  <thead>\n",
       "    <tr style=\"text-align: right;\">\n",
       "      <th></th>\n",
       "      <th>Average sunlight</th>\n",
       "      <th>Distance_To_Water_Source</th>\n",
       "      <th>plant_type_labels</th>\n",
       "      <th>cluster</th>\n",
       "    </tr>\n",
       "  </thead>\n",
       "  <tbody>\n",
       "    <tr>\n",
       "      <td>0</td>\n",
       "      <td>192.666667</td>\n",
       "      <td>234</td>\n",
       "      <td>1</td>\n",
       "      <td>0</td>\n",
       "    </tr>\n",
       "    <tr>\n",
       "      <td>1</td>\n",
       "      <td>192.333333</td>\n",
       "      <td>630</td>\n",
       "      <td>1</td>\n",
       "      <td>1</td>\n",
       "    </tr>\n",
       "    <tr>\n",
       "      <td>2</td>\n",
       "      <td>205.333333</td>\n",
       "      <td>618</td>\n",
       "      <td>0</td>\n",
       "      <td>1</td>\n",
       "    </tr>\n",
       "    <tr>\n",
       "      <td>3</td>\n",
       "      <td>208.333333</td>\n",
       "      <td>150</td>\n",
       "      <td>1</td>\n",
       "      <td>0</td>\n",
       "    </tr>\n",
       "    <tr>\n",
       "      <td>4</td>\n",
       "      <td>203.666667</td>\n",
       "      <td>576</td>\n",
       "      <td>1</td>\n",
       "      <td>1</td>\n",
       "    </tr>\n",
       "    <tr>\n",
       "      <td>5</td>\n",
       "      <td>202.333333</td>\n",
       "      <td>379</td>\n",
       "      <td>1</td>\n",
       "      <td>1</td>\n",
       "    </tr>\n",
       "    <tr>\n",
       "      <td>6</td>\n",
       "      <td>209.000000</td>\n",
       "      <td>30</td>\n",
       "      <td>0</td>\n",
       "      <td>0</td>\n",
       "    </tr>\n",
       "    <tr>\n",
       "      <td>7</td>\n",
       "      <td>179.666667</td>\n",
       "      <td>255</td>\n",
       "      <td>0</td>\n",
       "      <td>0</td>\n",
       "    </tr>\n",
       "    <tr>\n",
       "      <td>8</td>\n",
       "      <td>178.000000</td>\n",
       "      <td>430</td>\n",
       "      <td>0</td>\n",
       "      <td>1</td>\n",
       "    </tr>\n",
       "    <tr>\n",
       "      <td>9</td>\n",
       "      <td>208.333333</td>\n",
       "      <td>108</td>\n",
       "      <td>1</td>\n",
       "      <td>0</td>\n",
       "    </tr>\n",
       "  </tbody>\n",
       "</table>\n",
       "</div>"
      ],
      "text/plain": [
       "   Average sunlight  Distance_To_Water_Source  plant_type_labels  cluster\n",
       "0        192.666667                       234                  1        0\n",
       "1        192.333333                       630                  1        1\n",
       "2        205.333333                       618                  0        1\n",
       "3        208.333333                       150                  1        0\n",
       "4        203.666667                       576                  1        1\n",
       "5        202.333333                       379                  1        1\n",
       "6        209.000000                        30                  0        0\n",
       "7        179.666667                       255                  0        0\n",
       "8        178.000000                       430                  0        1\n",
       "9        208.333333                       108                  1        0"
      ]
     },
     "execution_count": 181,
     "metadata": {},
     "output_type": "execute_result"
    }
   ],
   "source": [
    "clustered_data.head(10)"
   ]
  },
  {
   "cell_type": "markdown",
   "metadata": {},
   "source": [
    "### Cluster: 0 signifies plants are not getting enough sunlight and are far from water body\n"
   ]
  },
  {
   "cell_type": "markdown",
   "metadata": {},
   "source": [
    "### Cluster: 1 signfies plants are getting enough sunlight and are near to water body"
   ]
  },
  {
   "cell_type": "code",
   "execution_count": 182,
   "metadata": {},
   "outputs": [],
   "source": [
    "data = clustered_data.sort_values(by='cluster')"
   ]
  },
  {
   "cell_type": "code",
   "execution_count": 183,
   "metadata": {},
   "outputs": [
    {
     "data": {
      "text/html": [
       "<div>\n",
       "<style scoped>\n",
       "    .dataframe tbody tr th:only-of-type {\n",
       "        vertical-align: middle;\n",
       "    }\n",
       "\n",
       "    .dataframe tbody tr th {\n",
       "        vertical-align: top;\n",
       "    }\n",
       "\n",
       "    .dataframe thead th {\n",
       "        text-align: right;\n",
       "    }\n",
       "</style>\n",
       "<table border=\"1\" class=\"dataframe\">\n",
       "  <thead>\n",
       "    <tr style=\"text-align: right;\">\n",
       "      <th></th>\n",
       "      <th>Average sunlight</th>\n",
       "      <th>Distance_To_Water_Source</th>\n",
       "      <th>plant_type_labels</th>\n",
       "      <th>cluster</th>\n",
       "    </tr>\n",
       "  </thead>\n",
       "  <tbody>\n",
       "    <tr>\n",
       "      <td>0</td>\n",
       "      <td>192.666667</td>\n",
       "      <td>234</td>\n",
       "      <td>1</td>\n",
       "      <td>0</td>\n",
       "    </tr>\n",
       "    <tr>\n",
       "      <td>353656</td>\n",
       "      <td>184.166667</td>\n",
       "      <td>90</td>\n",
       "      <td>0</td>\n",
       "      <td>0</td>\n",
       "    </tr>\n",
       "    <tr>\n",
       "      <td>353655</td>\n",
       "      <td>162.333333</td>\n",
       "      <td>242</td>\n",
       "      <td>2</td>\n",
       "      <td>0</td>\n",
       "    </tr>\n",
       "    <tr>\n",
       "      <td>353654</td>\n",
       "      <td>191.833333</td>\n",
       "      <td>60</td>\n",
       "      <td>0</td>\n",
       "      <td>0</td>\n",
       "    </tr>\n",
       "    <tr>\n",
       "      <td>353652</td>\n",
       "      <td>193.333333</td>\n",
       "      <td>210</td>\n",
       "      <td>1</td>\n",
       "      <td>0</td>\n",
       "    </tr>\n",
       "    <tr>\n",
       "      <td>353651</td>\n",
       "      <td>190.000000</td>\n",
       "      <td>258</td>\n",
       "      <td>1</td>\n",
       "      <td>0</td>\n",
       "    </tr>\n",
       "    <tr>\n",
       "      <td>353650</td>\n",
       "      <td>207.000000</td>\n",
       "      <td>335</td>\n",
       "      <td>1</td>\n",
       "      <td>0</td>\n",
       "    </tr>\n",
       "    <tr>\n",
       "      <td>353649</td>\n",
       "      <td>206.666667</td>\n",
       "      <td>201</td>\n",
       "      <td>2</td>\n",
       "      <td>0</td>\n",
       "    </tr>\n",
       "    <tr>\n",
       "      <td>353647</td>\n",
       "      <td>187.000000</td>\n",
       "      <td>342</td>\n",
       "      <td>1</td>\n",
       "      <td>0</td>\n",
       "    </tr>\n",
       "    <tr>\n",
       "      <td>353646</td>\n",
       "      <td>196.333333</td>\n",
       "      <td>134</td>\n",
       "      <td>1</td>\n",
       "      <td>0</td>\n",
       "    </tr>\n",
       "    <tr>\n",
       "      <td>353645</td>\n",
       "      <td>165.000000</td>\n",
       "      <td>120</td>\n",
       "      <td>5</td>\n",
       "      <td>0</td>\n",
       "    </tr>\n",
       "    <tr>\n",
       "      <td>353643</td>\n",
       "      <td>212.333333</td>\n",
       "      <td>234</td>\n",
       "      <td>1</td>\n",
       "      <td>0</td>\n",
       "    </tr>\n",
       "    <tr>\n",
       "      <td>353642</td>\n",
       "      <td>204.333333</td>\n",
       "      <td>30</td>\n",
       "      <td>1</td>\n",
       "      <td>0</td>\n",
       "    </tr>\n",
       "    <tr>\n",
       "      <td>353638</td>\n",
       "      <td>187.333333</td>\n",
       "      <td>240</td>\n",
       "      <td>0</td>\n",
       "      <td>0</td>\n",
       "    </tr>\n",
       "    <tr>\n",
       "      <td>353637</td>\n",
       "      <td>191.000000</td>\n",
       "      <td>0</td>\n",
       "      <td>3</td>\n",
       "      <td>0</td>\n",
       "    </tr>\n",
       "    <tr>\n",
       "      <td>353636</td>\n",
       "      <td>209.666667</td>\n",
       "      <td>319</td>\n",
       "      <td>1</td>\n",
       "      <td>0</td>\n",
       "    </tr>\n",
       "    <tr>\n",
       "      <td>353635</td>\n",
       "      <td>205.666667</td>\n",
       "      <td>90</td>\n",
       "      <td>0</td>\n",
       "      <td>0</td>\n",
       "    </tr>\n",
       "    <tr>\n",
       "      <td>353634</td>\n",
       "      <td>197.666667</td>\n",
       "      <td>150</td>\n",
       "      <td>0</td>\n",
       "      <td>0</td>\n",
       "    </tr>\n",
       "    <tr>\n",
       "      <td>353633</td>\n",
       "      <td>205.333333</td>\n",
       "      <td>190</td>\n",
       "      <td>1</td>\n",
       "      <td>0</td>\n",
       "    </tr>\n",
       "    <tr>\n",
       "      <td>353631</td>\n",
       "      <td>211.666667</td>\n",
       "      <td>309</td>\n",
       "      <td>0</td>\n",
       "      <td>0</td>\n",
       "    </tr>\n",
       "  </tbody>\n",
       "</table>\n",
       "</div>"
      ],
      "text/plain": [
       "        Average sunlight  Distance_To_Water_Source  plant_type_labels  cluster\n",
       "0             192.666667                       234                  1        0\n",
       "353656        184.166667                        90                  0        0\n",
       "353655        162.333333                       242                  2        0\n",
       "353654        191.833333                        60                  0        0\n",
       "353652        193.333333                       210                  1        0\n",
       "353651        190.000000                       258                  1        0\n",
       "353650        207.000000                       335                  1        0\n",
       "353649        206.666667                       201                  2        0\n",
       "353647        187.000000                       342                  1        0\n",
       "353646        196.333333                       134                  1        0\n",
       "353645        165.000000                       120                  5        0\n",
       "353643        212.333333                       234                  1        0\n",
       "353642        204.333333                        30                  1        0\n",
       "353638        187.333333                       240                  0        0\n",
       "353637        191.000000                         0                  3        0\n",
       "353636        209.666667                       319                  1        0\n",
       "353635        205.666667                        90                  0        0\n",
       "353634        197.666667                       150                  0        0\n",
       "353633        205.333333                       190                  1        0\n",
       "353631        211.666667                       309                  0        0"
      ]
     },
     "execution_count": 183,
     "metadata": {},
     "output_type": "execute_result"
    }
   ],
   "source": [
    "data.head(20)"
   ]
  },
  {
   "cell_type": "code",
   "execution_count": 184,
   "metadata": {},
   "outputs": [
    {
     "name": "stdout",
     "output_type": "stream",
     "text": [
      "[[192.27659759 156.58515071   1.08229329]\n",
      " [193.93878654 532.93048843   0.97864299]]\n"
     ]
    }
   ],
   "source": [
    "centroids = km.cluster_centers_\n",
    "print(centroids)"
   ]
  },
  {
   "cell_type": "code",
   "execution_count": null,
   "metadata": {},
   "outputs": [],
   "source": []
  }
 ],
 "metadata": {
  "kernelspec": {
   "display_name": "Python 3",
   "language": "python",
   "name": "python3"
  },
  "language_info": {
   "codemirror_mode": {
    "name": "ipython",
    "version": 3
   },
   "file_extension": ".py",
   "mimetype": "text/x-python",
   "name": "python",
   "nbconvert_exporter": "python",
   "pygments_lexer": "ipython3",
   "version": "3.7.4"
  }
 },
 "nbformat": 4,
 "nbformat_minor": 2
}
